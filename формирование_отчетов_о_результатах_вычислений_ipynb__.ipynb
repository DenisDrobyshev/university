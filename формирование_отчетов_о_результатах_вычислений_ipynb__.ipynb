{
  "nbformat": 4,
  "nbformat_minor": 0,
  "metadata": {
    "colab": {
      "provenance": []
    },
    "kernelspec": {
      "name": "python3",
      "display_name": "Python 3"
    },
    "language_info": {
      "name": "python"
    }
  },
  "cells": [
    {
      "cell_type": "markdown",
      "metadata": {
        "id": "17c1d9e8"
      },
      "source": [
        "# **Диагностическая работа №7. Автоматизированное формирование отчетов о результатах вычислений**"
      ]
    },
    {
      "cell_type": "markdown",
      "source": [
        "## **Задание №1. Создание простого Markdown-документа**\n"
      ],
      "metadata": {
        "id": "C40yAEQAiduD"
      }
    },
    {
      "cell_type": "markdown",
      "source": [
        "\n",
        "Создайте Markdown-документ, содержащий:\n",
        "- Заголовок первого уровня \"Анализ данных о погоде\"\n",
        "- Подзаголовок второго уровня \"Введение\"\n",
        "- Краткое описание (2-3 предложения) о важности анализа погодных данных\n",
        "- Нумерованный список с тремя основными параметрами погоды, которые будут анализироваться\n"
      ],
      "metadata": {
        "id": "DHghZr7ChsHS"
      }
    },
    {
      "cell_type": "code",
      "execution_count": null,
      "metadata": {
        "vscode": {
          "languageId": "plaintext"
        },
        "id": "tdo8dbPSig4F",
        "colab": {
          "base_uri": "https://localhost:8080/",
          "height": 235
        },
        "outputId": "92fed5a2-00e5-4003-db1d-51dddffa608b"
      },
      "outputs": [
        {
          "output_type": "display_data",
          "data": {
            "text/plain": [
              "<IPython.core.display.Markdown object>"
            ],
            "text/markdown": "\n# Анализ данных о погоде\n\n## Введение\nАнализ погодных данных помогает понимать климатические тенденции, планировать сельскохозяйственные работы и готовиться к экстремальным условиям. Он играет важную роль в разных отраслях, включая авиацию, строительство и логистику.\n\n1. Температура\n2. Влажность\n3. Скорость ветра\n"
          },
          "metadata": {}
        }
      ],
      "source": [
        "import random\n",
        "import matplotlib.pyplot as plt\n",
        "from IPython.display import display, Markdown\n",
        "\n",
        "md_part1 = \"\"\"\n",
        "# Анализ данных о погоде\n",
        "\n",
        "## Введение\n",
        "Анализ погодных данных помогает понимать климатические тенденции, планировать сельскохозяйственные работы и готовиться к экстремальным условиям. Он играет важную роль в разных отраслях, включая авиацию, строительство и логистику.\n",
        "\n",
        "1. Температура\n",
        "2. Влажность\n",
        "3. Скорость ветра\n",
        "\"\"\"\n",
        "\n",
        "display(Markdown(md_part1))"
      ]
    },
    {
      "cell_type": "markdown",
      "source": [
        "## **Задание №2. Добавление математических выражений**\n"
      ],
      "metadata": {
        "id": "CjUWJdVsiZ04"
      }
    },
    {
      "cell_type": "markdown",
      "source": [
        "\n",
        "Дополните Markdown-документ из задания 1:\n",
        "- Добавьте подзаголовок \"Расчет средних показателей\"\n",
        "- Напишите в LaTeX-формате формулу среднего арифметического: $\\bar{x} = \\frac{1}{n}\\sum_{i=1}^{n} x_i$\n",
        "- Добавьте краткое пояснение, для чего используется эта формула\n",
        "\n"
      ],
      "metadata": {
        "id": "66Tgh3KyiXoh"
      }
    },
    {
      "cell_type": "code",
      "execution_count": null,
      "metadata": {
        "vscode": {
          "languageId": "plaintext"
        },
        "id": "JLjZYa_aigka",
        "colab": {
          "base_uri": "https://localhost:8080/",
          "height": 141
        },
        "outputId": "017c133c-f237-4dc9-e581-4d5a0446b427"
      },
      "outputs": [
        {
          "output_type": "display_data",
          "data": {
            "text/plain": [
              "<IPython.core.display.Markdown object>"
            ],
            "text/markdown": "\n## Расчет средних показателей\nФормула для расчёта среднего арифметического:\n\n$$\n\\bar{x} = \\frac{1}{n} \\sum_{i=1}^{n} x_i\n$$\n\nЭта формула используется для нахождения среднего значения набора числовых данных.\n"
          },
          "metadata": {}
        }
      ],
      "source": [
        "md_part2 = \"\"\"\n",
        "## Расчет средних показателей\n",
        "Формула для расчёта среднего арифметического:\n",
        "\n",
        "$$\n",
        "\\\\bar{x} = \\\\frac{1}{n} \\\\sum_{i=1}^{n} x_i\n",
        "$$\n",
        "\n",
        "Эта формула используется для нахождения среднего значения набора числовых данных.\n",
        "\"\"\"\n",
        "\n",
        "display(Markdown(md_part2))\n"
      ]
    },
    {
      "cell_type": "markdown",
      "source": [
        "## **Задание №3. Использование Python для генерации данных**\n"
      ],
      "metadata": {
        "id": "Bj05DG8IiVkO"
      }
    },
    {
      "cell_type": "markdown",
      "source": [
        "\n",
        "Напишите небольшой Python-скрипт, который:\n",
        "- Генерирует данные о температуре воздуха за 5 дней (случайные значения)\n",
        "- Создает Markdown-таблицу с колонками \"День\", \"Температура (°C)\", \"Состояние\"\n",
        "- Состояние определяется по температуре: \"Холодно\" (<10°C), \"Умеренно\" (10-20°C), \"Тепло\" (>20°C)\n",
        "\n"
      ],
      "metadata": {
        "id": "hHKC_oYYiTYg"
      }
    },
    {
      "cell_type": "code",
      "execution_count": null,
      "metadata": {
        "vscode": {
          "languageId": "plaintext"
        },
        "id": "Dczkmz5WigPy",
        "outputId": "cf4d8946-2c2e-44eb-fd8a-463f1a40bab0",
        "colab": {
          "base_uri": "https://localhost:8080/",
          "height": 206
        }
      },
      "outputs": [
        {
          "output_type": "display_data",
          "data": {
            "text/plain": [
              "<IPython.core.display.Markdown object>"
            ],
            "text/markdown": "| День | Температура (°C) | Состояние |\n|------|------------------|-----------|\n| Понедельник | 28 | Тепло |\n| Вторник | 0 | Холодно |\n| Среда | 30 | Тепло |\n| Четверг | 23 | Тепло |\n| Пятница | -2 | Холодно |\n"
          },
          "metadata": {}
        }
      ],
      "source": [
        "days = [\"Понедельник\", \"Вторник\", \"Среда\", \"Четверг\", \"Пятница\"]\n",
        "temps = [random.randint(-5, 30) for _ in days]\n",
        "conditions = [\"Холодно\" if t < 10 else \"Умеренно\" if 10 <= t <= 20 else \"Тепло\" for t in temps]\n",
        "\n",
        "md_table = \"| День | Температура (°C) | Состояние |\\n|------|------------------|-----------|\\n\"\n",
        "for d, t, c in zip(days, temps, conditions):\n",
        "    md_table += f\"| {d} | {t} | {c} |\\n\"\n",
        "\n",
        "display(Markdown(md_table))\n"
      ]
    },
    {
      "cell_type": "markdown",
      "source": [
        "## **Задание №4. Мини-отчет с визуализацией**\n"
      ],
      "metadata": {
        "id": "rU_rAOGhiSBr"
      }
    },
    {
      "cell_type": "markdown",
      "source": [
        "\n",
        "Создайте Python-скрипт, который:\n",
        "- Генерирует данные о температуре и влажности за неделю (7 дней)\n",
        "- Вычисляет среднюю температуру и среднюю влажность\n",
        "- Формирует отчет в формате Markdown с таблицей данных и вычисленными средними значениями\n",
        "- Добавляет в отчет столбчатую диаграмму с показателями температуры по дням недели"
      ],
      "metadata": {
        "id": "9OPcKAMXiQT9"
      }
    },
    {
      "cell_type": "code",
      "execution_count": null,
      "metadata": {
        "vscode": {
          "languageId": "plaintext"
        },
        "id": "6d3300c8",
        "outputId": "cc3651ff-97da-45c3-faa5-ad7cb53bf914",
        "colab": {
          "base_uri": "https://localhost:8080/",
          "height": 900
        }
      },
      "outputs": [
        {
          "output_type": "display_data",
          "data": {
            "text/plain": [
              "<IPython.core.display.Markdown object>"
            ],
            "text/markdown": "\n## Мини-отчет о погоде за неделю\n\n### Средние значения:\n- Средняя температура: 13.43 °C\n- Средняя влажность: 54.57 %\n\n### Данные по дням:\n| День | Температура (°C) | Влажность (%) |\n|------|------------------|----------------|\n| Пн | 10 | 36 |\n| Вт | 1 | 69 |\n| Ср | 17 | 33 |\n| Чт | 29 | 86 |\n| Пт | 1 | 30 |\n| Сб | 10 | 56 |\n| Вс | 26 | 72 |\n"
          },
          "metadata": {}
        },
        {
          "output_type": "display_data",
          "data": {
            "text/plain": [
              "<Figure size 1000x500 with 1 Axes>"
            ],
            "image/png": "[encoded data removed]"
          },
          "metadata": {}
        }
      ],
      "source": [
        "days_week = [\"Пн\", \"Вт\", \"Ср\", \"Чт\", \"Пт\", \"Сб\", \"Вс\"]\n",
        "temps_week = [random.randint(0, 30) for _ in days_week]\n",
        "humidity = [random.randint(30, 90) for _ in days_week]\n",
        "\n",
        "avg_temp = round(sum(temps_week) / len(temps_week), 2)\n",
        "avg_hum = round(sum(humidity) / len(humidity), 2)\n",
        "\n",
        "md_report = f\"\"\"\n",
        "## Мини-отчет о погоде за неделю\n",
        "\n",
        "### Средние значения:\n",
        "- Средняя температура: {avg_temp} °C\n",
        "- Средняя влажность: {avg_hum} %\n",
        "\n",
        "### Данные по дням:\n",
        "| День | Температура (°C) | Влажность (%) |\n",
        "|------|------------------|----------------|\n",
        "\"\"\"\n",
        "\n",
        "for day, temp, hum in zip(days_week, temps_week, humidity):\n",
        "    md_report += f\"| {day} | {temp} | {hum} |\\n\"\n",
        "\n",
        "display(Markdown(md_report))\n",
        "\n",
        "plt.figure(figsize=(10, 5))\n",
        "plt.bar(days_week, temps_week, color='skyblue')\n",
        "plt.title(\"Температура по дням недели\")\n",
        "plt.xlabel(\"День недели\")\n",
        "plt.ylabel(\"Температура (°C)\")\n",
        "plt.grid(True)\n",
        "plt.show()\n",
        "\n",
        "with open(\"weather_report.md\", \"w\", encoding=\"utf-8\") as f:\n",
        "    f.write(md_report)"
      ]
    }
  ]
}