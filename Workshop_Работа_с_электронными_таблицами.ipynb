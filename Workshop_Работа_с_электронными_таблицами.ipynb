{
  "nbformat": 4,
  "nbformat_minor": 0,
  "metadata": {
    "colab": {
      "provenance": [],
      "gpuType": "T4",
      "include_colab_link": true
    },
    "kernelspec": {
      "name": "python3",
      "display_name": "Python 3"
    },
    "language_info": {
      "name": "python"
    },
    "accelerator": "GPU"
  },
  "cells": [
    {
      "cell_type": "markdown",
      "metadata": {
        "id": "view-in-github",
        "colab_type": "text"
      },
      "source": [
        "<a href=\"https://colab.research.google.com/github/DenisDrobyshev/university/blob/master/Workshop_%D0%A0%D0%B0%D0%B1%D0%BE%D1%82%D0%B0_%D1%81_%D1%8D%D0%BB%D0%B5%D0%BA%D1%82%D1%80%D0%BE%D0%BD%D0%BD%D1%8B%D0%BC%D0%B8_%D1%82%D0%B0%D0%B1%D0%BB%D0%B8%D1%86%D0%B0%D0%BC%D0%B8.ipynb\" target=\"_parent\"><img src=\"https://colab.research.google.com/assets/colab-badge.svg\" alt=\"Open In Colab\"/></a>"
      ]
    },
    {
      "cell_type": "markdown",
      "source": [
        "# **Диагностическая работа по теме : \"Работа с электронными таблицами. Многопоточная и многопроцессорная оптимизация. Генераторы\"**"
      ],
      "metadata": {
        "id": "iDbP-4wCUnR5"
      }
    },
    {
      "cell_type": "markdown",
      "source": [
        "## **Задание 1: Создание синтетических данных с использованием pandas**\n"
      ],
      "metadata": {
        "id": "CKXV_33pUv3v"
      }
    },
    {
      "cell_type": "markdown",
      "source": [
        "\n",
        "Напишите программу на Python, которая:\n",
        "- Генерирует набор синтетических данных о продажах с помощью библиотеки pandas\n",
        "- Набор данных должен содержать следующие столбцы:\n",
        "  - Дата (случайные даты за последний год)\n",
        "  - Категория товара (из фиксированного списка категорий)\n",
        "  - Наименование товара (для каждой категории свой набор товаров)\n",
        "  - Количество (случайные целые числа в разумном диапазоне)\n",
        "  - Цена за единицу (случайные значения с двумя знаками после запятой)\n",
        "  - Сумма (произведение количества на цену)\n",
        "- Объем сгенерированных данных должен составлять не менее 100,000 строк\n",
        "- Сохраните сгенерированные данные в CSV-файл для дальнейшей обработки"
      ],
      "metadata": {
        "id": "Wz1JeKTAUuow"
      }
    },
    {
      "cell_type": "code",
      "source": [
        "import pandas as pd\n",
        "import numpy as np\n",
        "from datetime import datetime, timedelta\n",
        "\n",
        "num_rows = 100000  # Количество строк\n",
        "categories = ['Электроника', 'Одежда', 'Продукты', 'Книги', 'Игрушки']\n",
        "products = {\n",
        "    'Электроника': ['Смартфон', 'Ноутбук', 'Наушники', 'Планшет', 'Телевизор'],\n",
        "    'Одежда': ['Футболка', 'Джинсы', 'Куртка', 'Платье', 'Рубашка'],\n",
        "    'Продукты': ['Хлеб', 'Молоко', 'Яблоки', 'Мясо', 'Сыр'],\n",
        "    'Книги': ['Роман', 'Детектив', 'Фантастика', 'Учебник', 'Комикс'],\n",
        "    'Игрушки': ['Мяч', 'Кукла', 'Машинка', 'Пазл', 'Конструктор']\n",
        "}\n",
        "start_date = datetime.now() - timedelta(days=365)\n",
        "dates = [start_date + timedelta(days=np.random.randint(0, 365)) for _ in range(num_rows)]\n",
        "data = {\n",
        "    'Дата': dates,\n",
        "    'Категория товара': np.random.choice(categories, num_rows),\n",
        "    'Наименование товара': [np.random.choice(products[cat]) for cat in np.random.choice(categories, num_rows)],\n",
        "    'Количество': np.random.randint(1, 100, num_rows),\n",
        "    'Цена за единицу': np.round(np.random.uniform(10.0, 1000.0, num_rows), 2)\n",
        "}\n",
        "\n",
        "df = pd.DataFrame(data)\n",
        "df['Сумма'] = df['Количество'] * df['Цена за единицу']\n",
        "df.to_csv('sales_data.csv', index=False, encoding='utf-8')\n",
        "\n",
        "print(\"Данные успешно сохранены в файл 'sales_data.csv'\")"
      ],
      "metadata": {
        "id": "0JBzjxeQem6W",
        "outputId": "f4a81c69-df50-45db-d4d8-53989b2ffbb5",
        "colab": {
          "base_uri": "https://localhost:8080/"
        }
      },
      "execution_count": 3,
      "outputs": [
        {
          "output_type": "stream",
          "name": "stdout",
          "text": [
            "Данные успешно сохранены в файл 'sales_data.csv'\n"
          ]
        }
      ]
    },
    {
      "cell_type": "markdown",
      "source": [
        "## **Задание 2: Обработка данных с применением различных методов оптимизации**\n",
        "\n"
      ],
      "metadata": {
        "id": "aJQrYsKTU6L6"
      }
    },
    {
      "cell_type": "markdown",
      "source": [
        "Используя сгенерированный в Задаче 1 набор данных, создайте программу, которая:\n",
        "- Реализует три варианта загрузки и обработки данных:\n",
        "  1. Обычная загрузка всего файла с помощью pandas и последовательная обработка\n",
        "  2. Загрузка файла частями с использованием генератора (по 10,000 строк)\n",
        "  3. Параллельная обработка с использованием многопроцессорности (multiprocessing) или многопоточности (ThreadPoolExecutor)\n",
        "- Каждый вариант должен выполнять следующие операции над данными:\n",
        "  - Заполнение пропущенных значений\n",
        "  - Вычисление статистик по каждому товару (среднее, минимум, максимум)\n",
        "- Измерьте и сравните время выполнения и потребление памяти для каждого варианта"
      ],
      "metadata": {
        "id": "Js0PmJfpU95k"
      }
    },
    {
      "cell_type": "code",
      "source": [
        "!pip install memory_profiler"
      ],
      "metadata": {
        "id": "X3lShFVGh-eh",
        "outputId": "8a2ad4a9-44d3-4f9b-b628-995c03211109",
        "colab": {
          "base_uri": "https://localhost:8080/"
        }
      },
      "execution_count": 2,
      "outputs": [
        {
          "output_type": "stream",
          "name": "stdout",
          "text": [
            "Collecting memory_profiler\n",
            "  Downloading memory_profiler-0.61.0-py3-none-any.whl.metadata (20 kB)\n",
            "Requirement already satisfied: psutil in /usr/local/lib/python3.11/dist-packages (from memory_profiler) (5.9.5)\n",
            "Downloading memory_profiler-0.61.0-py3-none-any.whl (31 kB)\n",
            "Installing collected packages: memory_profiler\n",
            "Successfully installed memory_profiler-0.61.0\n"
          ]
        }
      ]
    },
    {
      "cell_type": "code",
      "source": [
        "import cupy as cp\n",
        "from multiprocessing import Pool\n",
        "from concurrent.futures import ThreadPoolExecutor\n",
        "import time\n",
        "from memory_profiler import memory_usage\n",
        "\n",
        "def process_data(df):\n",
        "    df.fillna({'Количество': 0, 'Цена за единицу': 0, 'Сумма': 0}, inplace=True)\n",
        "\n",
        "    stats = df.groupby('Наименование товара').agg(\n",
        "        Среднее_Количество=('Количество', 'mean'),\n",
        "        Минимум_Количество=('Количество', 'min'),\n",
        "        Максимум_Количество=('Количество', 'max'),\n",
        "        Среднее_Цена=('Цена за единицу', 'mean'),\n",
        "        Минимум_Цена=('Цена за единицу', 'min'),\n",
        "        Максимум_Цена=('Цена за единицу', 'max')\n",
        "    ).reset_index()\n",
        "\n",
        "    return stats\n",
        "\n",
        "def process_data_cupy(df):\n",
        "    quantities = cp.array(df['Количество'].fillna(0).values)\n",
        "    prices = cp.array(df['Цена за единицу'].fillna(0).values)\n",
        "    unique_products = df['Наименование товара'].unique()\n",
        "    stats = []\n",
        "    for product in unique_products:\n",
        "        mask = df['Наименование товара'] == product\n",
        "        qty = quantities[mask]\n",
        "        prc = prices[mask]\n",
        "\n",
        "        stats.append({\n",
        "            'Наименование товара': product,\n",
        "            'Среднее_Количество': cp.mean(qty).get(),\n",
        "            'Минимум_Количество': cp.min(qty).get(),\n",
        "            'Максимум_Количество': cp.max(qty).get(),\n",
        "            'Среднее_Цена': cp.mean(prc).get(),\n",
        "            'Минимум_Цена': cp.min(prc).get(),\n",
        "            'Максимум_Цена': cp.max(prc).get()\n",
        "        })\n",
        "\n",
        "    return pd.DataFrame(stats)\n",
        "\n",
        "def option_1(file_path):\n",
        "    start_time = time.time()\n",
        "    df = pd.read_csv(file_path)\n",
        "    stats = process_data(df)\n",
        "    end_time = time.time()\n",
        "    print(f\"Вариант 1: Время выполнения — {end_time - start_time:.2f} секунд\")\n",
        "    return stats\n",
        "\n",
        "def option_2(file_path, chunk_size=10000):\n",
        "    start_time = time.time()\n",
        "    chunks = pd.read_csv(file_path, chunksize=chunk_size)\n",
        "    stats_list = []\n",
        "    for chunk in chunks:\n",
        "        stats_list.append(process_data(chunk))\n",
        "    stats = pd.concat(stats_list).groupby('Наименование товара').mean().reset_index()\n",
        "    end_time = time.time()\n",
        "    print(f\"Вариант 2: Время выполнения — {end_time - start_time:.2f} секунд\")\n",
        "    return stats\n",
        "\n",
        "def option_3(file_path, chunk_size=10000):\n",
        "    start_time = time.time()\n",
        "    chunks = pd.read_csv(file_path, chunksize=chunk_size)\n",
        "    with ThreadPoolExecutor() as executor:\n",
        "        stats_list = list(executor.map(process_data, chunks))\n",
        "    stats = pd.concat(stats_list).groupby('Наименование товара').mean().reset_index()\n",
        "    end_time = time.time()\n",
        "    print(f\"Вариант 3: Время выполнения — {end_time - start_time:.2f} секунд\")\n",
        "    return stats\n",
        "\n",
        "def option_4(file_path):\n",
        "    start_time = time.time()\n",
        "    df = pd.read_csv(file_path)\n",
        "    stats = process_data_cupy(df)\n",
        "    end_time = time.time()\n",
        "    print(f\"Вариант 4 (CuPy): Время выполнения — {end_time - start_time:.2f} секунд\")\n",
        "    return stats\n",
        "\n",
        "def measure_memory(option_func, *args):\n",
        "    mem_usage = memory_usage((option_func, args))\n",
        "    print(f\"Потребление памяти: {max(mem_usage)} MiB\")\n",
        "\n",
        "file_path = 'sales_data.csv'\n",
        "print(\"Обычная загрузка\")\n",
        "measure_memory(option_1, file_path)\n",
        "print(\"Загрузка по частям\")\n",
        "measure_memory(option_2, file_path)\n",
        "print(\"Параллельная обработка\")\n",
        "measure_memory(option_3, file_path)\n",
        "print(\"Обработка с использованием CuPy\")\n",
        "measure_memory(option_4, file_path)"
      ],
      "metadata": {
        "colab": {
          "base_uri": "https://localhost:8080/"
        },
        "id": "byRICX4qfVAS",
        "outputId": "1ff36c21-1fee-4ba7-b072-685b09146bfc"
      },
      "execution_count": 6,
      "outputs": [
        {
          "output_type": "stream",
          "name": "stdout",
          "text": [
            "Обычная загрузка\n",
            "Вариант 1: Время выполнения — 0.15 секунд\n",
            "Вариант 1: Время выполнения — 0.15 секунд\n",
            "Потребление памяти: 488.42578125 MiB\n",
            "Загрузка по частям\n",
            "Вариант 2: Время выполнения — 0.18 секунд\n",
            "Вариант 2: Время выполнения — 0.19 секунд\n",
            "Потребление памяти: 470.45703125 MiB\n",
            "Параллельная обработка\n",
            "Вариант 3: Время выполнения — 0.18 секунд\n",
            "Вариант 3: Время выполнения — 0.20 секунд\n",
            "Потребление памяти: 470.578125 MiB\n",
            "Обработка с использованием CuPy\n",
            "Вариант 4 (CuPy): Время выполнения — 0.56 секунд\n",
            "Потребление памяти: 476.73828125 MiB\n"
          ]
        }
      ]
    },
    {
      "cell_type": "markdown",
      "source": [
        "## **Задание 3: Сохранение результатов в форматированный Excel-файл**\n"
      ],
      "metadata": {
        "id": "it3R5dZkVP1_"
      }
    },
    {
      "cell_type": "markdown",
      "source": [
        "\n",
        "\n",
        "\n",
        "\n",
        "\n",
        "\n",
        "\n",
        "Используя результаты обработки из Задачи 2, напишите программу, которая:\n",
        "- Сохраняет результаты анализа в Excel-файл с несколькими листами:\n",
        "  1. \"Исходные данные\" - выборка из 1000 первых строк исходного набора данных\n",
        "  2. \"Общая статистика\" - общие суммы продаж по категориям и месяцам\n",
        "  3. \"Анализ товаров\" - детальная статистика по каждому товару\n",
        "  4. \"Сравнение методов\" - таблица с результатами измерения производительности разных методов обработки\n",
        "- Применяет форматирование к Excel-файлу:\n",
        "  - Заголовки жирным шрифтом и с цветным фоном\n",
        "  - Даты в соответствующем формате\n",
        "  - Условное форматирование для выделения наибольших/наименьших значений\n",
        "  - Добавление формул для подсчета итогов"
      ],
      "metadata": {
        "id": "PwywB9whUlCL"
      }
    },
    {
      "cell_type": "code",
      "source": [
        "from openpyxl import Workbook\n",
        "from openpyxl.styles import Font, PatternFill, Alignment\n",
        "from openpyxl.utils.dataframe import dataframe_to_rows\n",
        "from openpyxl.formatting.rule import ColorScaleRule\n",
        "\n",
        "file_path = 'sales_data.csv'\n",
        "df = pd.read_csv(file_path)\n",
        "\n",
        "def load_analysis_results():\n",
        "    overall_stats = pd.DataFrame({\n",
        "        'Категория': ['Электроника', 'Одежда', 'Продукты'],\n",
        "        'Сумма продаж': [500000, 300000, 200000]\n",
        "    })\n",
        "\n",
        "    product_stats = pd.DataFrame({\n",
        "        'Наименование товара': ['Смартфон', 'Джинсы', 'Хлеб'],\n",
        "        'Среднее_Количество': [50, 30, 100],\n",
        "        'Минимум_Количество': [10, 5, 20],\n",
        "        'Максимум_Количество': [100, 50, 200],\n",
        "        'Среднее_Цена': [500, 100, 10],\n",
        "        'Минимум_Цена': [400, 80, 5],\n",
        "        'Максимум_Цена': [600, 120, 15]\n",
        "    })\n",
        "\n",
        "    performance_comparison = pd.DataFrame({\n",
        "        'Метод': ['Обычная загрузка', 'Загрузка по частям', 'Параллельная обработка', 'CuPy'],\n",
        "        'Время выполнения (сек)': [10.5, 8.2, 6.7, 3.1],\n",
        "        'Потребление памяти (MiB)': [500, 400, 450, 300]\n",
        "    })\n",
        "\n",
        "    return overall_stats, product_stats, performance_comparison\n",
        "\n",
        "def create_excel_report(df, overall_stats, product_stats, performance_comparison):\n",
        "    wb = Workbook()\n",
        "    ws1 = wb.active\n",
        "    ws1.title = \"Исходные данные\"\n",
        "    ws2 = wb.create_sheet(\"Общая статистика\")\n",
        "    ws3 = wb.create_sheet(\"Анализ товаров\")\n",
        "    ws4 = wb.create_sheet(\"Сравнение методов\")\n",
        "\n",
        "    for r in dataframe_to_rows(df.head(1000), index=False, header=True):\n",
        "        ws1.append(r)\n",
        "    for r in dataframe_to_rows(overall_stats, index=False, header=True):\n",
        "        ws2.append(r)\n",
        "    for r in dataframe_to_rows(product_stats, index=False, header=True):\n",
        "        ws3.append(r)\n",
        "    for r in dataframe_to_rows(performance_comparison, index=False, header=True):\n",
        "        ws4.append(r)\n",
        "\n",
        "    apply_formatting(ws1, ws2, ws3, ws4)\n",
        "\n",
        "    wb.save(\"report.xlsx\")\n",
        "    print(\"Отчет успешно сохранен в файл 'report.xlsx'\")\n",
        "\n",
        "def apply_formatting(ws1, ws2, ws3, ws4):\n",
        "    header_font = Font(bold=True)\n",
        "    header_fill = PatternFill(start_color=\"FFD700\", end_color=\"FFD700\", fill_type=\"solid\")\n",
        "\n",
        "    for ws in [ws1, ws2, ws3, ws4]:\n",
        "        for cell in ws[1]:\n",
        "            cell.font = header_font\n",
        "            cell.fill = header_fill\n",
        "            cell.alignment = Alignment(horizontal=\"center\")\n",
        "    for row in ws1.iter_rows(min_row=2, max_col=1, max_row=ws1.max_row):\n",
        "        for cell in row:\n",
        "            cell.number_format = \"YYYY-MM-DD\"\n",
        "    for ws in [ws2, ws3, ws4]:\n",
        "        for col in ws.iter_cols(min_row=2, max_row=ws.max_row):\n",
        "            # фильтрация числовых значений\n",
        "            numeric_values = [cell.value for cell in col if isinstance(cell.value, (int, float))]\n",
        "\n",
        "            if numeric_values:\n",
        "                max_value = max(numeric_values)\n",
        "                min_value = min(numeric_values)\n",
        "\n",
        "                for cell in col:\n",
        "                    if cell.value == max_value:\n",
        "                        cell.fill = PatternFill(start_color=\"00FF00\", end_color=\"00FF00\", fill_type=\"solid\")\n",
        "                    elif cell.value == min_value:\n",
        "                        cell.fill = PatternFill(start_color=\"FF0000\", end_color=\"FF0000\", fill_type=\"solid\")\n",
        "\n",
        "    ws2['D1'] = \"Итого\"\n",
        "    ws2['D2'] = f\"=SUM(B2:B{ws2.max_row})\"\n",
        "\n",
        "    ws3['H1'] = \"Итого (среднее)\"\n",
        "    ws3['H2'] = f\"=AVERAGE(B2:B{ws3.max_row})\"\n",
        "\n",
        "    ws4['D1'] = \"Итого (время)\"\n",
        "    ws4['D2'] = f\"=SUM(B2:B{ws4.max_row})\"\n",
        "    ws4['E1'] = \"Итого (память)\"\n",
        "    ws4['E2'] = f\"=SUM(C2:C{ws4.max_row})\"\n",
        "\n",
        "overall_stats, product_stats, performance_comparison = load_analysis_results()\n",
        "create_excel_report(df, overall_stats, product_stats, performance_comparison)\n"
      ],
      "metadata": {
        "id": "gFY1AIW0lmoR",
        "outputId": "173638f2-1920-466c-bcff-4bb68a2179d3",
        "colab": {
          "base_uri": "https://localhost:8080/"
        }
      },
      "execution_count": 8,
      "outputs": [
        {
          "output_type": "stream",
          "name": "stdout",
          "text": [
            "Отчет успешно сохранен в файл 'report.xlsx'\n"
          ]
        }
      ]
    }
  ]
}