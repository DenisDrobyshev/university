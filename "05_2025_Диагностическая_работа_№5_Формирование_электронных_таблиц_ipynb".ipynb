{
  "nbformat": 4,
  "nbformat_minor": 0,
  "metadata": {
    "colab": {
      "provenance": [],
      "include_colab_link": true
    },
    "kernelspec": {
      "name": "python3",
      "display_name": "Python 3"
    },
    "language_info": {
      "name": "python"
    }
  },
  "cells": [
    {
      "cell_type": "markdown",
      "metadata": {
        "id": "view-in-github",
        "colab_type": "text"
      },
      "source": [
        "<a href=\"https://colab.research.google.com/github/DenisDrobyshev/university/blob/master/%2205_2025_%D0%94%D0%B8%D0%B0%D0%B3%D0%BD%D0%BE%D1%81%D1%82%D0%B8%D1%87%D0%B5%D1%81%D0%BA%D0%B0%D1%8F_%D1%80%D0%B0%D0%B1%D0%BE%D1%82%D0%B0_%E2%84%965_%D0%A4%D0%BE%D1%80%D0%BC%D0%B8%D1%80%D0%BE%D0%B2%D0%B0%D0%BD%D0%B8%D0%B5_%D1%8D%D0%BB%D0%B5%D0%BA%D1%82%D1%80%D0%BE%D0%BD%D0%BD%D1%8B%D1%85_%D1%82%D0%B0%D0%B1%D0%BB%D0%B8%D1%86_ipynb%22.ipynb\" target=\"_parent\"><img src=\"https://colab.research.google.com/assets/colab-badge.svg\" alt=\"Open In Colab\"/></a>"
      ]
    },
    {
      "cell_type": "markdown",
      "metadata": {
        "id": "98efe7bd"
      },
      "source": [
        "# **Диагностическая работа №5. Формирование электронных таблиц**"
      ]
    },
    {
      "cell_type": "markdown",
      "source": [
        "## **Задание №1. Создание генератора числовых последовательностей**\n"
      ],
      "metadata": {
        "id": "bdYHya9qckEQ"
      }
    },
    {
      "cell_type": "markdown",
      "source": [
        "\n",
        "Напишите функцию-генератор, которая создает последовательность простых чисел. Генератор должен выдавать простые числа по одному при каждом вызове функции next(). Используйте этот генератор для вывода первых 15 простых чисел и найдите их сумму."
      ],
      "metadata": {
        "id": "ZvN_H0slcV9a"
      }
    },
    {
      "cell_type": "code",
      "source": [
        "def is_prime(n):\n",
        "    if n <= 1:\n",
        "        return False\n",
        "    if n == 2:\n",
        "        return True\n",
        "    if n % 2 == 0:\n",
        "        return False\n",
        "    for i in range(3, int(n**0.5) + 1, 2):\n",
        "        if n % i == 0:\n",
        "            return False\n",
        "    return True\n",
        "\n",
        "def prime_generator():\n",
        "    num = 2\n",
        "    while True:\n",
        "        if is_prime(num):\n",
        "            yield num\n",
        "        num += 1\n",
        "gen = prime_generator()\n",
        "first_15_primes = [next(gen) for _ in range(15)]\n",
        "sum_primes = sum(first_15_primes)\n",
        "print(\"Первые 15 простых чисел:\", first_15_primes)\n",
        "print(\"Их сумма:\", sum_primes)"
      ],
      "metadata": {
        "colab": {
          "base_uri": "https://localhost:8080/"
        },
        "id": "z6Y7DoFm60Zr",
        "outputId": "1fea5877-f2ca-4122-8dfa-3491e4e0d4c0"
      },
      "execution_count": null,
      "outputs": [
        {
          "output_type": "stream",
          "name": "stdout",
          "text": [
            "Первые 15 простых чисел: [2, 3, 5, 7, 11, 13, 17, 19, 23, 29, 31, 37, 41, 43, 47]\n",
            "Их сумма: 328\n"
          ]
        }
      ]
    },
    {
      "cell_type": "markdown",
      "source": [
        "## **Задание №2. Оптимизация чтения крупных файлов**\n"
      ],
      "metadata": {
        "id": "LdChYhNOcqge"
      }
    },
    {
      "cell_type": "markdown",
      "source": [
        "\n",
        "Создайте csv-файл с данными о пользователях (имя, возраст, email) объемом не менее 400,000 записей. Напишите функцию-генератор, которая будет читать этот файл порциями (batches) и возвращать каждую порцию как список словарей. Сравните время обработки всего файла сразу и чтение порциями с использованием вашего генератора. Дополнительно рассчитайте среднее значение возраста пользователей."
      ],
      "metadata": {
        "id": "Vsg0jhL0cV_x"
      }
    },
    {
      "cell_type": "code",
      "execution_count": null,
      "metadata": {
        "vscode": {
          "languageId": "plaintext"
        },
        "id": "Y8wMu0epevZ9",
        "colab": {
          "base_uri": "https://localhost:8080/"
        },
        "outputId": "15cd4ffc-592b-4e85-9c73-6f9ded7c7e26"
      },
      "outputs": [
        {
          "output_type": "stream",
          "name": "stdout",
          "text": [
            "0.550 сек |  48.48\n",
            "0.895 сек | 48.48\n",
            "0.721 сек |  48.48\n"
          ]
        }
      ],
      "source": [
        "import pandas as pd\n",
        "import numpy as np\n",
        "import time\n",
        "import csv\n",
        "\n",
        "def generate_users_csv(filename, num_records=400_000):\n",
        "    data = {\n",
        "        'name': [f'User_{i}' for i in range(num_records)],\n",
        "        'age': np.random.randint(18, 80, size=num_records),\n",
        "        'email': [f'user_{i}@example.com' for i in range(num_records)]\n",
        "    }\n",
        "    df = pd.DataFrame(data)\n",
        "    df.to_csv(filename, index=False)\n",
        "\n",
        "generate_users_csv('users.csv')\n",
        "\n",
        "def batch_reader(filename, batch_size=1000):\n",
        "    with open(filename, 'r') as csvfile:\n",
        "        reader = csv.DictReader(csvfile)\n",
        "        batch = []\n",
        "        for row in reader:\n",
        "            batch.append(row)\n",
        "            if len(batch) == batch_size:\n",
        "                yield batch\n",
        "                batch = []\n",
        "        if batch:\n",
        "            yield batch\n",
        "\n",
        "def read_entire_file(filename):\n",
        "    df = pd.read_csv(filename)\n",
        "    return df\n",
        "\n",
        "def process_in_batches(filename, batch_size=1000):\n",
        "    total_age = 0\n",
        "    total_users = 0\n",
        "    for batch in batch_reader(filename, batch_size):\n",
        "        total_users += len(batch)\n",
        "        total_age += sum(int(user['age']) for user in batch)\n",
        "    return total_age / total_users if total_users > 0 else 0\n",
        "\n",
        "def process_with_pandas(filename, batch_size=1000):\n",
        "    total_age = 0\n",
        "    total_users = 0\n",
        "    for chunk in pd.read_csv(filename, chunksize=batch_size):\n",
        "        total_users += len(chunk)\n",
        "        total_age += chunk['age'].sum()\n",
        "    return total_age / total_users if total_users > 0 else 0\n",
        "\n",
        "start_time = time.time()\n",
        "df = read_entire_file('users.csv')\n",
        "avg_age_full = df['age'].mean()\n",
        "full_time = time.time() - start_time\n",
        "\n",
        "start_time = time.time()\n",
        "avg_age_batch = process_in_batches('users.csv')\n",
        "batch_time = time.time() - start_time\n",
        "\n",
        "start_time = time.time()\n",
        "avg_age_pandas = process_with_pandas('users.csv')\n",
        "pandas_time = time.time() - start_time\n",
        "\n",
        "print(f\"{full_time:.3f} сек |  {avg_age_full:.2f}\")\n",
        "print(f\"{batch_time:.3f} сек | {avg_age_batch:.2f}\")\n",
        "print(f\"{pandas_time:.3f} сек |  {avg_age_pandas:.2f}\")"
      ]
    },
    {
      "cell_type": "markdown",
      "source": [
        "## **Задание №3. Сравнение производительности вычислений**"
      ],
      "metadata": {
        "id": "2PReMXjAc61H"
      }
    },
    {
      "cell_type": "markdown",
      "source": [
        "\n",
        "\n",
        "Напишите функцию для [сортировки слиянием (merge sort)](https://www.geeksforgeeks.org/merge-sort/) массива из 1,000,000 случайных целых чисел. Реализуйте три версии функции:\n",
        "1. Последовательную (классический алгоритм)\n",
        "2. С использованием ThreadPoolExecutor для параллельного слияния\n",
        "3. С использованием multiprocessing для распределенной сортировки\n",
        "\n",
        "Сравните время выполнения каждой версии и визуализируйте результаты в виде гистограммы."
      ],
      "metadata": {
        "id": "k2Spx8d0cWCA"
      }
    },
    {
      "cell_type": "code",
      "execution_count": null,
      "metadata": {
        "vscode": {
          "languageId": "plaintext"
        },
        "id": "BsS3GLwRev1y",
        "colab": {
          "base_uri": "https://localhost:8080/",
          "height": 632
        },
        "outputId": "ce601896-1dbc-4023-a08b-b491d894fadd"
      },
      "outputs": [
        {
          "output_type": "stream",
          "name": "stdout",
          "text": [
            "\n",
            "Результаты:\n",
            "5.54 сек\n",
            "5.63 сек\n",
            "6.58 сек\n"
          ]
        },
        {
          "output_type": "display_data",
          "data": {
            "text/plain": [
              "<Figure size 1000x600 with 1 Axes>"
            ],
            "image/png": "[encoded data removed]"
          },
          "metadata": {}
        }
      ],
      "source": [
        "import random\n",
        "import time\n",
        "import concurrent.futures\n",
        "import multiprocessing\n",
        "import matplotlib.pyplot as plt\n",
        "\n",
        "def generate_random_array(size=1_000_000):\n",
        "    return [random.randint(0, 10_000_000) for _ in range(size)]\n",
        "\n",
        "def merge(left, right):\n",
        "    result = []\n",
        "    i = j = 0\n",
        "    while i < len(left) and j < len(right):\n",
        "        if left[i] < right[j]:\n",
        "            result.append(left[i])\n",
        "            i += 1\n",
        "        else:\n",
        "            result.append(right[j])\n",
        "            j += 1\n",
        "    result.extend(left[i:])\n",
        "    result.extend(right[j:])\n",
        "    return result\n",
        "\n",
        "def sequential_merge_sort(arr):\n",
        "    if len(arr) <= 1:\n",
        "        return arr\n",
        "    mid = len(arr) // 2\n",
        "    left = sequential_merge_sort(arr[:mid])\n",
        "    right = sequential_merge_sort(arr[mid:])\n",
        "    return merge(left, right)\n",
        "\n",
        "def parallel_merge_sort_threads(arr, threads=4):\n",
        "    if len(arr) <= 1:\n",
        "        return arr\n",
        "\n",
        "    if len(arr) <= 100_000:\n",
        "        return sequential_merge_sort(arr)\n",
        "\n",
        "    mid = len(arr) // 2\n",
        "    with concurrent.futures.ThreadPoolExecutor(max_workers=threads) as executor:\n",
        "        future_left = executor.submit(parallel_merge_sort_threads, arr[:mid], threads)\n",
        "        future_right = executor.submit(parallel_merge_sort_threads, arr[mid:], threads)\n",
        "        left = future_left.result()\n",
        "        right = future_right.result()\n",
        "    return merge(left, right)\n",
        "\n",
        "def merge_sort_worker(arr):\n",
        "    if len(arr) <= 100_000:\n",
        "        return sequential_merge_sort(arr)\n",
        "    mid = len(arr) // 2\n",
        "    left = merge_sort_worker(arr[:mid])\n",
        "    right = merge_sort_worker(arr[mid:])\n",
        "    return merge(left, right)\n",
        "\n",
        "def parallel_merge_sort_processes(arr, processes=4):\n",
        "    if len(arr) <= 1:\n",
        "        return arr\n",
        "    chunk_size = len(arr) // processes\n",
        "    chunks = [arr[i*chunk_size:(i+1)*chunk_size] for i in range(processes-1)]\n",
        "    chunks.append(arr[(processes-1)*chunk_size:])\n",
        "\n",
        "    with multiprocessing.Pool(processes=processes) as pool:\n",
        "        sorted_chunks = pool.map(merge_sort_worker, chunks)\n",
        "    result = sorted_chunks[0]\n",
        "    for chunk in sorted_chunks[1:]:\n",
        "        result = merge(result, chunk)\n",
        "    return result\n",
        "\n",
        "def test_sorting_algorithms():\n",
        "    arr = generate_random_array()\n",
        "    start = time.time()\n",
        "    sorted_seq = sequential_merge_sort(arr.copy())\n",
        "    seq_time = time.time() - start\n",
        "    start = time.time()\n",
        "    sorted_threads = parallel_merge_sort_threads(arr.copy())\n",
        "    threads_time = time.time() - start\n",
        "    start = time.time()\n",
        "    sorted_processes = parallel_merge_sort_processes(arr.copy())\n",
        "    processes_time = time.time() - start\n",
        "    assert sorted_seq == sorted_threads\n",
        "    assert sorted_seq == sorted_processes\n",
        "\n",
        "    return seq_time, threads_time, processes_time\n",
        "\n",
        "def visualize_results(times):\n",
        "    labels = ['Последовательная', 'ThreadPoolExecutor', 'Multiprocessing']\n",
        "    plt.figure(figsize=(10, 6))\n",
        "    bars = plt.bar(labels, times, color=['blue', 'green', 'red'])\n",
        "    plt.title('Сравнение времени сортировки слиянием (1,000,000 элементов)')\n",
        "    plt.ylabel('Время (секунды)')\n",
        "\n",
        "    for bar in bars:\n",
        "        height = bar.get_height()\n",
        "        plt.text(bar.get_x() + bar.get_width()/2., height,\n",
        "                f'{height:.2f}',\n",
        "                ha='center', va='bottom')\n",
        "\n",
        "    plt.savefig('sorting_comparison.png')\n",
        "    plt.show()\n",
        "seq_time, threads_time, processes_time = test_sorting_algorithms()\n",
        "\n",
        "print(\"\\nРезультаты:\")\n",
        "print(f\"{seq_time:.2f} сек\")\n",
        "print(f\"{threads_time:.2f} сек\")\n",
        "print(f\"{processes_time:.2f} сек\")\n",
        "\n",
        "visualize_results([seq_time, threads_time, processes_time])"
      ]
    },
    {
      "cell_type": "markdown",
      "source": [
        "## **Задание №4. Обработка числовых данных**\n"
      ],
      "metadata": {
        "id": "eseD4ERRdTm2"
      }
    },
    {
      "cell_type": "markdown",
      "source": [
        "Сгенерируйте набор данных из 500 случайных чисел в диапазоне от 1 до 1000. Напишите функцию для нахождения всех простых чисел в этом наборе.\n",
        "\n",
        "Реализуйте две версии:\n",
        "1. Обычную последовательную функцию\n",
        "2. Функцию с использованием multiprocessing для параллельной обработки\n",
        "\n",
        "Сравните время выполнения обеих версий и подсчитайте количество найденных простых чисел.\n"
      ],
      "metadata": {
        "id": "rJLHLTGVdV9o"
      }
    },
    {
      "cell_type": "code",
      "execution_count": null,
      "metadata": {
        "vscode": {
          "languageId": "plaintext"
        },
        "id": "1Wmi9UldewV4",
        "colab": {
          "base_uri": "https://localhost:8080/"
        },
        "outputId": "6184ae9c-3f97-4b64-e3b8-bc7e0a788152"
      },
      "outputs": [
        {
          "output_type": "stream",
          "name": "stdout",
          "text": [
            "(последовательно): 83\n",
            "(параллельно): 83\n",
            "0.000224 секунд\n",
            "0.062934 секунд\n"
          ]
        }
      ],
      "source": [
        "import random\n",
        "import time\n",
        "import multiprocessing\n",
        "\n",
        "def is_prime(n):\n",
        "    if n <= 1:\n",
        "        return False\n",
        "    elif n <= 3:\n",
        "        return True\n",
        "    elif n % 2 == 0 or n % 3 == 0:\n",
        "        return False\n",
        "    i = 5\n",
        "    while i * i <= n:\n",
        "        if n % i == 0 or n % (i + 2) == 0:\n",
        "            return False\n",
        "        i += 6\n",
        "    return True\n",
        "\n",
        "def find_primes_sequential(numbers):\n",
        "    return [n for n in numbers if is_prime(n)]\n",
        "\n",
        "def find_primes_parallel(numbers):\n",
        "    with multiprocessing.Pool() as pool:\n",
        "        results = pool.map(is_prime, numbers)\n",
        "    return [num for num, prime in zip(numbers, results) if prime]\n",
        "\n",
        "def generate_data(size=500, low=1, high=1000):\n",
        "    return [random.randint(low, high) for _ in range(size)]\n",
        "\n",
        "\n",
        "data = generate_data()\n",
        "start_time = time.time()\n",
        "primes_seq = find_primes_sequential(data)\n",
        "time_seq = time.time() - start_time\n",
        "start_time = time.time()\n",
        "primes_par = find_primes_parallel(data)\n",
        "time_par = time.time() - start_time\n",
        "print(f\"(последовательно): {len(primes_seq)}\")\n",
        "print(f\"(параллельно): {len(primes_par)}\")\n",
        "print(f\"{time_seq:.6f} секунд\")\n",
        "print(f\"{time_par:.6f} секунд\")"
      ]
    },
    {
      "cell_type": "markdown",
      "source": [
        "## **Задание №5. Создание электронной таблицы с графиками**\n"
      ],
      "metadata": {
        "id": "PuR7e0HVdX4s"
      }
    },
    {
      "cell_type": "markdown",
      "source": [
        "\n",
        "\n",
        "\n",
        "\n",
        "\n",
        "\n",
        "\n",
        "\n",
        "\n",
        "Напишите программу, которая:\n",
        "1. Генерирует случайные данные о курсах 5 различных валют относительно рубля за последний год (по дням)\n",
        "2. Сохраняет эти данные в Excel-файл на лист \"Курсы валют\"\n",
        "3. Создает в этом же файле второй лист \"Аналитика\" с рассчитанными квартальными показателями (среднее, волатильность, корреляция между валютами)\n",
        "4. Добавляет на третий лист \"Графики\" линейные графики динамики каждой валюты и столбчатую диаграмму средних значений по кварталам\n",
        "5. Использует асинхронное программирование для параллельных расчетов по разным валютам\n",
        "\n",
        "Используйте библиотеки pandas, matplotlib, openpyxl и xlsxwriter для визуализации и работы с Excel."
      ],
      "metadata": {
        "id": "g3kXq8RQcR-O"
      }
    },
    {
      "cell_type": "code",
      "execution_count": null,
      "metadata": {
        "vscode": {
          "languageId": "plaintext"
        },
        "id": "wvrgYg9Reww_",
        "colab": {
          "base_uri": "https://localhost:8080/"
        },
        "outputId": "c594440b-b1bc-4826-838a-500da77607e9"
      },
      "outputs": [
        {
          "output_type": "stream",
          "name": "stdout",
          "text": [
            "Requirement already satisfied: pandas in /usr/local/lib/python3.11/dist-packages (2.2.2)\n",
            "Requirement already satisfied: matplotlib in /usr/local/lib/python3.11/dist-packages (3.10.0)\n",
            "Requirement already satisfied: openpyxl in /usr/local/lib/python3.11/dist-packages (3.1.5)\n",
            "Requirement already satisfied: xlsxwriter in /usr/local/lib/python3.11/dist-packages (3.2.3)\n",
            "Requirement already satisfied: numpy in /usr/local/lib/python3.11/dist-packages (2.0.2)\n",
            "Requirement already satisfied: python-dateutil>=2.8.2 in /usr/local/lib/python3.11/dist-packages (from pandas) (2.9.0.post0)\n",
            "Requirement already satisfied: pytz>=2020.1 in /usr/local/lib/python3.11/dist-packages (from pandas) (2025.2)\n",
            "Requirement already satisfied: tzdata>=2022.7 in /usr/local/lib/python3.11/dist-packages (from pandas) (2025.2)\n",
            "Requirement already satisfied: contourpy>=1.0.1 in /usr/local/lib/python3.11/dist-packages (from matplotlib) (1.3.2)\n",
            "Requirement already satisfied: cycler>=0.10 in /usr/local/lib/python3.11/dist-packages (from matplotlib) (0.12.1)\n",
            "Requirement already satisfied: fonttools>=4.22.0 in /usr/local/lib/python3.11/dist-packages (from matplotlib) (4.58.0)\n",
            "Requirement already satisfied: kiwisolver>=1.3.1 in /usr/local/lib/python3.11/dist-packages (from matplotlib) (1.4.8)\n",
            "Requirement already satisfied: packaging>=20.0 in /usr/local/lib/python3.11/dist-packages (from matplotlib) (24.2)\n",
            "Requirement already satisfied: pillow>=8 in /usr/local/lib/python3.11/dist-packages (from matplotlib) (11.2.1)\n",
            "Requirement already satisfied: pyparsing>=2.3.1 in /usr/local/lib/python3.11/dist-packages (from matplotlib) (3.2.3)\n",
            "Requirement already satisfied: et-xmlfile in /usr/local/lib/python3.11/dist-packages (from openpyxl) (2.0.0)\n",
            "Requirement already satisfied: six>=1.5 in /usr/local/lib/python3.11/dist-packages (from python-dateutil>=2.8.2->pandas) (1.17.0)\n"
          ]
        }
      ],
      "source": [
        "!pip install pandas matplotlib openpyxl xlsxwriter numpy"
      ]
    },
    {
      "cell_type": "code",
      "source": [
        "import multiprocessing\n",
        "import random\n",
        "import pandas as pd\n",
        "import numpy as np\n",
        "import matplotlib.pyplot as plt\n",
        "from datetime import timedelta, datetime\n",
        "from io import BytesIO\n",
        "\n",
        "def generate_currency_data(name):\n",
        "    print(f\"[Multiprocessing] Генерация данных для {name}\")\n",
        "    start_date = datetime(2023, 1, 1)\n",
        "    days = 365\n",
        "    data = []\n",
        "    current_date = start_date\n",
        "    base_rate = random.uniform(50, 100)  # Начальный курс\n",
        "    for _ in range(days):\n",
        "        rate = max(10, base_rate + random.uniform(-1, 1))\n",
        "        data.append((current_date, rate))\n",
        "        base_rate = rate\n",
        "        current_date += timedelta(days=1)\n",
        "\n",
        "    df = pd.DataFrame(data, columns=[\"Дата\", name])\n",
        "    return df.set_index(\"Дата\")\n",
        "\n",
        "def calculate_quarterly_stats(df):\n",
        "    quarterly = df.resample('Q').agg(['mean', 'std'])\n",
        "    quarterly.columns = [f\"{currency}_{stat}\" for currency, stat in quarterly.columns.values]\n",
        "    return quarterly\n",
        "\n",
        "def save_charts_to_excel(writer, dfs):\n",
        "    full_df = pd.concat([df for df in dfs], axis=1)\n",
        "    plt.figure(figsize=(12, 6))\n",
        "    for col in full_df.columns:\n",
        "        plt.plot(full_df.index, full_df[col], label=col)\n",
        "    plt.title(\"Динамика курсов валют\")\n",
        "    plt.xlabel(\"Дата\")\n",
        "    plt.ylabel(\"Курс\")\n",
        "    plt.legend()\n",
        "    plt.grid(True)\n",
        "    buf1 = BytesIO()\n",
        "    plt.savefig(buf1, format='png')\n",
        "    plt.close()\n",
        "\n",
        "    quarterly_mean = full_df.resample('Q').mean()\n",
        "    quarterly_mean.plot(kind='bar', figsize=(12, 6), title=\"Средние курсы по кварталам\")\n",
        "    plt.xticks(rotation=45)\n",
        "    plt.tight_layout()\n",
        "    buf2 = BytesIO()\n",
        "    plt.savefig(buf2, format='png')\n",
        "    plt.close()\n",
        "\n",
        "    worksheet = writer.sheets['Графики']\n",
        "    worksheet.insert_image('A1', 'line_plot.png', {'image_data': buf1})\n",
        "    worksheet.insert_image('A20', 'bar_chart.png', {'image_data': buf2})\n",
        "\n",
        "def main():\n",
        "    CURRENCIES = [\"USD\", \"EUR\", \"GBP\", \"JPY\", \"CNY\"]\n",
        "\n",
        "    with multiprocessing.Pool() as pool:\n",
        "        dfs = pool.map(generate_currency_data, CURRENCIES)\n",
        "\n",
        "    full_df = pd.concat([df for df in dfs], axis=1)\n",
        "\n",
        "    file_path = \"курсы_валют_multiprocessing.xlsx\"\n",
        "    with pd.ExcelWriter(file_path, engine='xlsxwriter') as writer:\n",
        "\n",
        "        full_df.to_excel(writer, sheet_name=\"Курсы валют\")\n",
        "\n",
        "        quarterly_df = calculate_quarterly_stats(full_df)\n",
        "        quarterly_df.to_excel(writer, sheet_name=\"Аналитика\", startrow=0)\n",
        "\n",
        "        corr = full_df.corr()\n",
        "        corr.to_excel(writer, sheet_name=\"Аналитика\", startrow=len(quarterly_df)+3)\n",
        "\n",
        "        writer.sheets[\"Аналитика\"].write(len(quarterly_df)+2, 0, \"Корреляция между валютами\")\n",
        "\n",
        "        workbook = writer.book\n",
        "        worksheet = workbook.add_worksheet(\"Графики\")\n",
        "        save_charts_to_excel(writer, dfs)\n",
        "\n",
        "    print(f\"Файл '{file_path}' успешно создан!\")\n",
        "\n",
        "main()"
      ],
      "metadata": {
        "colab": {
          "base_uri": "https://localhost:8080/"
        },
        "id": "SituMJf29g0f",
        "outputId": "739aacc5-21b7-42ea-9666-99e8324d867f"
      },
      "execution_count": null,
      "outputs": [
        {
          "output_type": "stream",
          "name": "stdout",
          "text": [
            "[Multiprocessing] Генерация данных для USD[Multiprocessing] Генерация данных для EUR\n",
            "\n",
            "[Multiprocessing] Генерация данных для GBP\n",
            "[Multiprocessing] Генерация данных для JPY\n",
            "[Multiprocessing] Генерация данных для CNY\n"
          ]
        },
        {
          "output_type": "stream",
          "name": "stderr",
          "text": [
            "<ipython-input-21-d0011431c3de>:26: FutureWarning: 'Q' is deprecated and will be removed in a future version, please use 'QE' instead.\n",
            "  quarterly = df.resample('Q').agg(['mean', 'std'])\n",
            "<ipython-input-21-d0011431c3de>:44: FutureWarning: 'Q' is deprecated and will be removed in a future version, please use 'QE' instead.\n",
            "  quarterly_mean = full_df.resample('Q').mean()\n"
          ]
        },
        {
          "output_type": "stream",
          "name": "stdout",
          "text": [
            "Файл 'курсы_валют_multiprocessing.xlsx' успешно создан!\n"
          ]
        }
      ]
    }
  ]
}