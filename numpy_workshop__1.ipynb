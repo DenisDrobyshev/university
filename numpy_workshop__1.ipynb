{
  "nbformat": 4,
  "nbformat_minor": 0,
  "metadata": {
    "colab": {
      "provenance": [],
      "include_colab_link": true
    },
    "kernelspec": {
      "name": "python3",
      "display_name": "Python 3"
    },
    "language_info": {
      "name": "python"
    }
  },
  "cells": [
    {
      "cell_type": "markdown",
      "metadata": {
        "id": "view-in-github",
        "colab_type": "text"
      },
      "source": [
        "<a href=\"https://colab.research.google.com/github/DenisDrobyshev/university/blob/master/numpy_workshop__1.ipynb\" target=\"_parent\"><img src=\"https://colab.research.google.com/assets/colab-badge.svg\" alt=\"Open In Colab\"/></a>"
      ]
    },
    {
      "cell_type": "code",
      "source": [
        "import numpy as np\n",
        "\n",
        "arr = np.arange(9)\n",
        "\n",
        "arr"
      ],
      "metadata": {
        "colab": {
          "base_uri": "https://localhost:8080/"
        },
        "id": "MuJkOaOp5qwx",
        "outputId": "8f6bfc80-b3fb-43d3-e96c-f1e4e897529b"
      },
      "execution_count": null,
      "outputs": [
        {
          "output_type": "execute_result",
          "data": {
            "text/plain": [
              "array([0, 1, 2, 3, 4, 5, 6, 7, 8])"
            ]
          },
          "metadata": {},
          "execution_count": 1
        }
      ]
    },
    {
      "cell_type": "code",
      "source": [
        "arr_n = arr.reshape(3,3)\n",
        "arr_n"
      ],
      "metadata": {
        "colab": {
          "base_uri": "https://localhost:8080/"
        },
        "id": "REwi76IC5-JI",
        "outputId": "296d8394-727e-4093-c81d-bfd62bc91020"
      },
      "execution_count": null,
      "outputs": [
        {
          "output_type": "execute_result",
          "data": {
            "text/plain": [
              "array([[0, 1, 2],\n",
              "       [3, 4, 5],\n",
              "       [6, 7, 8]])"
            ]
          },
          "metadata": {},
          "execution_count": 11
        }
      ]
    },
    {
      "cell_type": "code",
      "source": [
        "arr_n[::-1, ::-1]"
      ],
      "metadata": {
        "colab": {
          "base_uri": "https://localhost:8080/"
        },
        "id": "xM1Z6xo457wR",
        "outputId": "88d9d2a7-fb07-4059-dd05-e0d1d09525b7"
      },
      "execution_count": null,
      "outputs": [
        {
          "output_type": "execute_result",
          "data": {
            "text/plain": [
              "array([[8, 7, 6],\n",
              "       [5, 4, 3],\n",
              "       [2, 1, 0]])"
            ]
          },
          "metadata": {},
          "execution_count": 21
        }
      ]
    },
    {
      "cell_type": "markdown",
      "source": [
        "## **Блок №1: Базовый уровень**\n",
        "\n",
        "### Задание №1: Создание массивов\n",
        "\n",
        "а) Создайте одномерный массив из 12 элементов, заполненный числами 2:"
      ],
      "metadata": {
        "id": "0kIBJG0XwPUs"
      }
    },
    {
      "cell_type": "code",
      "source": [
        "import numpy as np\n",
        "\n",
        "arr_ones = np.full(12, 2)\n",
        "arr_ones"
      ],
      "metadata": {
        "id": "LfwTUJDBfUme",
        "outputId": "b2a43dd3-f355-4725-f275-887ce3b97062",
        "colab": {
          "base_uri": "https://localhost:8080/"
        }
      },
      "execution_count": null,
      "outputs": [
        {
          "output_type": "execute_result",
          "data": {
            "text/plain": [
              "array([2, 2, 2, 2, 2, 2, 2, 2, 2, 2, 2, 2])"
            ]
          },
          "metadata": {},
          "execution_count": 15
        }
      ]
    },
    {
      "cell_type": "markdown",
      "source": [
        "б) Создайте двумерный массив размером 6x4, заполненный числами от 1 до 24:\n"
      ],
      "metadata": {
        "id": "sX4xINnVwThk"
      }
    },
    {
      "cell_type": "code",
      "source": [
        "import numpy as np\n",
        "arr_2 = np.arange(1, 25).reshape(6, 4)\n",
        "arr_2"
      ],
      "metadata": {
        "id": "r3rzTK89fcA-",
        "outputId": "90807f3b-5327-4508-978f-9de6125a41ae",
        "colab": {
          "base_uri": "https://localhost:8080/"
        }
      },
      "execution_count": null,
      "outputs": [
        {
          "output_type": "execute_result",
          "data": {
            "text/plain": [
              "array([[ 1,  2,  3,  4],\n",
              "       [ 5,  6,  7,  8],\n",
              "       [ 9, 10, 11, 12],\n",
              "       [13, 14, 15, 16],\n",
              "       [17, 18, 19, 20],\n",
              "       [21, 22, 23, 24]])"
            ]
          },
          "metadata": {},
          "execution_count": 24
        }
      ]
    },
    {
      "cell_type": "markdown",
      "source": [
        "в) Создайте трехмерный массив размером 3x3x3 со случайными числами от 0 до 1:\n"
      ],
      "metadata": {
        "id": "q8vtIFU8wcNH"
      }
    },
    {
      "cell_type": "code",
      "source": [
        "import numpy as np\n",
        "arr_3 = np.random.rand(3, 3, 3)\n",
        "arr_3\n"
      ],
      "metadata": {
        "id": "IalUu30ZfiTt",
        "outputId": "ba538fdf-8b7a-458f-e93a-6e9b39972139",
        "colab": {
          "base_uri": "https://localhost:8080/"
        }
      },
      "execution_count": null,
      "outputs": [
        {
          "output_type": "execute_result",
          "data": {
            "text/plain": [
              "array([[[0.34501599, 0.29108705, 0.55952211],\n",
              "        [0.62492118, 0.10808547, 0.75211678],\n",
              "        [0.69649569, 0.28060898, 0.0811393 ]],\n",
              "\n",
              "       [[0.2296589 , 0.71959552, 0.22909711],\n",
              "        [0.82572122, 0.02351155, 0.45237434],\n",
              "        [0.06069589, 0.35103825, 0.30603029]],\n",
              "\n",
              "       [[0.66308576, 0.89245877, 0.50393135],\n",
              "        [0.34387548, 0.95520845, 0.55339611],\n",
              "        [0.17238038, 0.65132549, 0.01848175]]])"
            ]
          },
          "metadata": {},
          "execution_count": 23
        }
      ]
    },
    {
      "cell_type": "markdown",
      "source": [
        "### **Задание №2: Индексация и срезы**\n",
        "\n",
        "а) Извлеките пятый элемент из созданного одномерного массива из двоек:"
      ],
      "metadata": {
        "id": "e5yD2_U_whme"
      }
    },
    {
      "cell_type": "code",
      "source": [
        "arr_ones[4]\n"
      ],
      "metadata": {
        "id": "2H9PNmwYwX6A",
        "outputId": "0f3e9620-1e0f-4e36-f132-dfdb7d62f989",
        "colab": {
          "base_uri": "https://localhost:8080/"
        }
      },
      "execution_count": null,
      "outputs": [
        {
          "output_type": "execute_result",
          "data": {
            "text/plain": [
              "2"
            ]
          },
          "metadata": {},
          "execution_count": 17
        }
      ]
    },
    {
      "cell_type": "markdown",
      "source": [
        "б) Выберите третью колонку из двумерного массива:\n"
      ],
      "metadata": {
        "id": "6vCSViYyw9h2"
      }
    },
    {
      "cell_type": "code",
      "source": [
        "print(arr_2[:, 2])\n"
      ],
      "metadata": {
        "id": "oFDJFrwQiIYX",
        "outputId": "7a1ff377-c85f-4c1c-e505-748d14f28275",
        "colab": {
          "base_uri": "https://localhost:8080/"
        }
      },
      "execution_count": null,
      "outputs": [
        {
          "output_type": "stream",
          "name": "stdout",
          "text": [
            "[ 3  7 11 15 19 23]\n"
          ]
        }
      ]
    },
    {
      "cell_type": "markdown",
      "source": [
        "в) Получите элементы с четными индексами из каждой строки двумерного массива:\n"
      ],
      "metadata": {
        "id": "v7WIg-wow-JL"
      }
    },
    {
      "cell_type": "code",
      "source": [
        "print(arr_2[:, ::2])\n"
      ],
      "metadata": {
        "id": "n8lUiV2BwjvN",
        "outputId": "6bfaaf24-c313-41f5-f30f-9461bc7b255e",
        "colab": {
          "base_uri": "https://localhost:8080/"
        }
      },
      "execution_count": null,
      "outputs": [
        {
          "output_type": "stream",
          "name": "stdout",
          "text": [
            "[[ 1  3]\n",
            " [ 5  7]\n",
            " [ 9 11]\n",
            " [13 15]\n",
            " [17 19]\n",
            " [21 23]]\n"
          ]
        }
      ]
    },
    {
      "cell_type": "markdown",
      "source": [
        "### **Задание №3: Операции над массивами**\n",
        "\n",
        "а) Умножьте все элементы одномерного массива на 3:"
      ],
      "metadata": {
        "id": "yOZ0wTV8w-nC"
      }
    },
    {
      "cell_type": "code",
      "source": [
        "arr_ones = arr_ones * 3\n",
        "arr_ones\n"
      ],
      "metadata": {
        "id": "r4iw6zDywj2A",
        "outputId": "abeb300d-a057-4189-95ca-a7f0e1d53f33",
        "colab": {
          "base_uri": "https://localhost:8080/"
        }
      },
      "execution_count": null,
      "outputs": [
        {
          "output_type": "execute_result",
          "data": {
            "text/plain": [
              "array([18, 18, 18, 18, 18, 18, 18, 18, 18, 18, 18, 18])"
            ]
          },
          "metadata": {},
          "execution_count": 21
        }
      ]
    },
    {
      "cell_type": "markdown",
      "source": [
        "б) Возведите в квадрат каждый элемент двумерного массива:\n"
      ],
      "metadata": {
        "id": "rnWNLEdEw_Dv"
      }
    },
    {
      "cell_type": "code",
      "source": [
        "arr_2_squared = arr_2**2\n",
        "arr_2_squared"
      ],
      "metadata": {
        "id": "80t2ZsCGwqG7",
        "outputId": "5d4ed69f-99ad-4564-9612-fab784fa8d4c",
        "colab": {
          "base_uri": "https://localhost:8080/"
        }
      },
      "execution_count": null,
      "outputs": [
        {
          "output_type": "execute_result",
          "data": {
            "text/plain": [
              "array([[  1,   4,   9,  16],\n",
              "       [ 25,  36,  49,  64],\n",
              "       [ 81, 100, 121, 144],\n",
              "       [169, 196, 225, 256],\n",
              "       [289, 324, 361, 400],\n",
              "       [441, 484, 529, 576]])"
            ]
          },
          "metadata": {},
          "execution_count": 22
        }
      ]
    },
    {
      "cell_type": "markdown",
      "source": [
        "в) Найдите сумму всех элементов трехмерного массива:\n"
      ],
      "metadata": {
        "id": "q-jpF7P6w_hB"
      }
    },
    {
      "cell_type": "code",
      "source": [
        "sum_of_elements = np.sum(arr_3)\n",
        "sum_of_elements"
      ],
      "metadata": {
        "id": "y5ORPytrwqLt",
        "outputId": "167e3b0b-af94-43a8-a9c3-b1864d8e7f4d",
        "colab": {
          "base_uri": "https://localhost:8080/"
        }
      },
      "execution_count": null,
      "outputs": [
        {
          "output_type": "execute_result",
          "data": {
            "text/plain": [
              "11.690859132819915"
            ]
          },
          "metadata": {},
          "execution_count": 27
        }
      ]
    },
    {
      "cell_type": "markdown",
      "source": [
        "### **Задание №4: Использование функций и методов NumPy**\n",
        "\n",
        "а) Найдите среднее и стандартное отклонение элементов трехмерного массива:"
      ],
      "metadata": {
        "id": "jCmn-r74w__1"
      }
    },
    {
      "cell_type": "code",
      "source": [
        "mean_of_elements = np.mean(arr_3)\n",
        "std_of_elements = np.std(arr_3)\n",
        "\n",
        "print(f\"Среднее: {mean_of_elements}\")\n",
        "print(f\"Стандартное отклонение: {std_of_elements}\")"
      ],
      "metadata": {
        "id": "mCRoKRAgwqTG",
        "outputId": "04eafe52-99db-4d67-ca2b-435ac562f8c1",
        "colab": {
          "base_uri": "https://localhost:8080/"
        }
      },
      "execution_count": null,
      "outputs": [
        {
          "output_type": "stream",
          "name": "stdout",
          "text": [
            "Среднее: 0.4329947826970339\n",
            "Стандартное отклонение: 0.27250617439416835\n"
          ]
        }
      ]
    },
    {
      "cell_type": "markdown",
      "source": [
        "б) Преобразуйте одномерный массив в двумерный массив размером 4x3:\n"
      ],
      "metadata": {
        "id": "YK74xADzxAb1"
      }
    },
    {
      "cell_type": "code",
      "source": [
        "arr = np.arange(12)\n",
        "arr_4x3 = arr.reshape(4, 3)\n",
        "arr_4x3\n"
      ],
      "metadata": {
        "id": "hefq_4prwyvH",
        "outputId": "44ce67a5-3fba-467e-a801-950194d80b26",
        "colab": {
          "base_uri": "https://localhost:8080/"
        }
      },
      "execution_count": null,
      "outputs": [
        {
          "output_type": "execute_result",
          "data": {
            "text/plain": [
              "array([[ 0,  1,  2],\n",
              "       [ 3,  4,  5],\n",
              "       [ 6,  7,  8],\n",
              "       [ 9, 10, 11]])"
            ]
          },
          "metadata": {},
          "execution_count": 30
        }
      ]
    },
    {
      "cell_type": "markdown",
      "source": [
        "в) Транспонируйте двумерный массив:\n"
      ],
      "metadata": {
        "id": "Mb4TXVhwxBx4"
      }
    },
    {
      "cell_type": "code",
      "source": [
        "arr_transposed = arr_4x3.T\n",
        "arr_transposed\n"
      ],
      "metadata": {
        "id": "TWi6UaPqla58",
        "outputId": "f8cf5e45-879c-4dac-d2a2-0b14de27aea3",
        "colab": {
          "base_uri": "https://localhost:8080/"
        }
      },
      "execution_count": null,
      "outputs": [
        {
          "output_type": "execute_result",
          "data": {
            "text/plain": [
              "array([[ 0,  3,  6,  9],\n",
              "       [ 1,  4,  7, 10],\n",
              "       [ 2,  5,  8, 11]])"
            ]
          },
          "metadata": {},
          "execution_count": 31
        }
      ]
    },
    {
      "cell_type": "markdown",
      "source": [
        "### **Задание №5: Логическая индексация**\n",
        "\n",
        "а) Создайте одномерный массив из 15 случайных целых чисел от -10 до 10. Выберите все отрицательные числа:"
      ],
      "metadata": {
        "id": "qOKFHqw-xCVM"
      }
    },
    {
      "cell_type": "code",
      "source": [
        "arr = np.random.randint(-10, 11, 15)\n",
        "negative_numbers = arr[arr < 0]\n",
        "\n",
        "print(\"Истинный массив:\", arr)\n",
        "print(\"Отрицательные цисла:\", negative_numbers)\n"
      ],
      "metadata": {
        "id": "Mkukh-QFw3i1",
        "outputId": "3f631907-5fa3-426d-e3fd-d3e5e0c555d9",
        "colab": {
          "base_uri": "https://localhost:8080/"
        }
      },
      "execution_count": null,
      "outputs": [
        {
          "output_type": "stream",
          "name": "stdout",
          "text": [
            "Истинный массив: [ 8  9 -5 10 -6  8  7 -7 -8  4  8  5  5 -2 -2]\n",
            "Отрицательные цисла: [-5 -6 -7 -8 -2 -2]\n"
          ]
        }
      ]
    },
    {
      "cell_type": "markdown",
      "source": [
        "б) Замените все четные числа в массиве на значение 0:\n"
      ],
      "metadata": {
        "id": "vT2Rw6KYxC-z"
      }
    },
    {
      "cell_type": "code",
      "source": [
        "arr[arr % 2 == 0] = 0\n",
        "arr\n"
      ],
      "metadata": {
        "id": "K8J-sXXNw3uv",
        "outputId": "3761a0b6-0bc2-4610-f70a-cf0a2604ed2e",
        "colab": {
          "base_uri": "https://localhost:8080/"
        }
      },
      "execution_count": null,
      "outputs": [
        {
          "output_type": "execute_result",
          "data": {
            "text/plain": [
              "array([ 0,  9, -5,  0,  0,  0,  7, -7,  0,  0,  0,  5,  5,  0,  0])"
            ]
          },
          "metadata": {},
          "execution_count": 34
        }
      ]
    },
    {
      "cell_type": "markdown",
      "source": [
        "### **Задание №6: Линейная алгебра**\n",
        "\n",
        "а) Создайте две матрицы размером 2x2 и найдите их произведение:"
      ],
      "metadata": {
        "id": "f5WqSRt-x62J"
      }
    },
    {
      "cell_type": "code",
      "source": [
        "matrix1 = np.array([[1, 2], [3, 4]])\n",
        "matrix2 = np.array([[5, 6], [7, 8]])\n",
        "\n",
        "product_matrix = np.dot(matrix1, matrix2)\n",
        "\n",
        "product_matrix\n"
      ],
      "metadata": {
        "id": "2whdVqEaw32h",
        "outputId": "43cc3d66-6911-44fe-cbc7-6e1dbe8f80c0",
        "colab": {
          "base_uri": "https://localhost:8080/"
        }
      },
      "execution_count": null,
      "outputs": [
        {
          "output_type": "execute_result",
          "data": {
            "text/plain": [
              "array([[19, 22],\n",
              "       [43, 50]])"
            ]
          },
          "metadata": {},
          "execution_count": 36
        }
      ]
    },
    {
      "cell_type": "markdown",
      "source": [
        "б) Найдите собственные значения и собственные векторы матрицы:\n"
      ],
      "metadata": {
        "id": "g2n5A469x-Gc"
      }
    },
    {
      "cell_type": "code",
      "source": [
        "matrix = np.array([[1, 2], [3, 4]])\n",
        "\n",
        "eigenvalues, eigenvectors = np.linalg.eig(matrix)\n",
        "\n",
        "print(\"Собственные значения:\", eigenvalues)\n",
        "print(\"Собственные векторы:\\n\", eigenvectors)\n"
      ],
      "metadata": {
        "id": "U2dRZWp_wy5H"
      },
      "execution_count": null,
      "outputs": []
    },
    {
      "cell_type": "markdown",
      "source": [
        "## **Блок №2: Средний уровень**\n",
        "\n",
        "### **Задание №1: Работа с многомерными массивами**\n",
        "\n",
        "а) Создайте четырехмерный массив размером 2x3x4x5 со случайными целыми числами от 0 до 100. Переставьте оси, чтобы новая форма массива стала 5x4x3x2:"
      ],
      "metadata": {
        "id": "Ms0sA7aDyEj7"
      }
    },
    {
      "cell_type": "code",
      "source": [
        "arr_4d = np.random.randint(0, 101, size=(2, 3, 4, 5))\n",
        "arr_4d_transposed = np.transpose(arr_4d, (3, 2, 1, 0))\n",
        "arr_4d_transposed"
      ],
      "metadata": {
        "id": "gjzCJxL-yFUv",
        "outputId": "fbaba5f5-1123-4a7b-d3d1-a4db02fa83a4",
        "colab": {
          "base_uri": "https://localhost:8080/"
        }
      },
      "execution_count": null,
      "outputs": [
        {
          "output_type": "execute_result",
          "data": {
            "text/plain": [
              "array([[[[ 27,  34],\n",
              "         [  8,   4],\n",
              "         [ 93,  87]],\n",
              "\n",
              "        [[ 91,  64],\n",
              "         [  8,  99],\n",
              "         [ 57,  93]],\n",
              "\n",
              "        [[  5,  13],\n",
              "         [ 50,  75],\n",
              "         [ 15,  94]],\n",
              "\n",
              "        [[ 84,  48],\n",
              "         [ 27,  57],\n",
              "         [ 55,  20]]],\n",
              "\n",
              "\n",
              "       [[[ 84,  85],\n",
              "         [ 63,  80],\n",
              "         [ 86,  23]],\n",
              "\n",
              "        [[ 16,   5],\n",
              "         [ 59,  16],\n",
              "         [ 74,  54]],\n",
              "\n",
              "        [[  4,  32],\n",
              "         [ 83,  90],\n",
              "         [ 20,  65]],\n",
              "\n",
              "        [[ 36,  71],\n",
              "         [ 48,  70],\n",
              "         [ 59,  82]]],\n",
              "\n",
              "\n",
              "       [[[ 82,  13],\n",
              "         [ 25,  25],\n",
              "         [100,  58]],\n",
              "\n",
              "        [[ 21,  63],\n",
              "         [ 58,  67],\n",
              "         [ 66,  86]],\n",
              "\n",
              "        [[ 39,  75],\n",
              "         [ 10,  66],\n",
              "         [  5,  78]],\n",
              "\n",
              "        [[ 10,  66],\n",
              "         [ 15,  82],\n",
              "         [ 40,  16]]],\n",
              "\n",
              "\n",
              "       [[[ 10,  96],\n",
              "         [ 27,  99],\n",
              "         [ 94,  90]],\n",
              "\n",
              "        [[ 88,  61],\n",
              "         [ 49,  48],\n",
              "         [ 34,  25]],\n",
              "\n",
              "        [[ 23,  18],\n",
              "         [ 70,  42],\n",
              "         [ 94,  89]],\n",
              "\n",
              "        [[ 67,  34],\n",
              "         [ 12,  43],\n",
              "         [ 40,  79]]],\n",
              "\n",
              "\n",
              "       [[[ 15,  96],\n",
              "         [ 60,   0],\n",
              "         [ 85,  32]],\n",
              "\n",
              "        [[ 34,   4],\n",
              "         [ 91,   9],\n",
              "         [ 74,  72]],\n",
              "\n",
              "        [[ 69,  98],\n",
              "         [ 86,  18],\n",
              "         [ 86,  65]],\n",
              "\n",
              "        [[ 27,  38],\n",
              "         [ 42,  76],\n",
              "         [ 62,  64]]]])"
            ]
          },
          "metadata": {},
          "execution_count": 38
        }
      ]
    },
    {
      "cell_type": "markdown",
      "source": [
        "б) Преобразуйте полученный массив в двумерный массив без потери данных:\n"
      ],
      "metadata": {
        "id": "hMqp0Vofyw3D"
      }
    },
    {
      "cell_type": "code",
      "source": [
        "arr_2d = arr_4d_transposed.reshape(arr_4d_transposed.shape[0] * arr_4d_transposed.shape[1], -1)\n",
        "arr_2d\n"
      ],
      "metadata": {
        "id": "muw--sxfyFZz",
        "outputId": "69cb1c82-dcaf-451c-d61d-43e2e42000bc",
        "colab": {
          "base_uri": "https://localhost:8080/"
        }
      },
      "execution_count": null,
      "outputs": [
        {
          "output_type": "execute_result",
          "data": {
            "text/plain": [
              "array([[ 27,  34,   8,   4,  93,  87],\n",
              "       [ 91,  64,   8,  99,  57,  93],\n",
              "       [  5,  13,  50,  75,  15,  94],\n",
              "       [ 84,  48,  27,  57,  55,  20],\n",
              "       [ 84,  85,  63,  80,  86,  23],\n",
              "       [ 16,   5,  59,  16,  74,  54],\n",
              "       [  4,  32,  83,  90,  20,  65],\n",
              "       [ 36,  71,  48,  70,  59,  82],\n",
              "       [ 82,  13,  25,  25, 100,  58],\n",
              "       [ 21,  63,  58,  67,  66,  86],\n",
              "       [ 39,  75,  10,  66,   5,  78],\n",
              "       [ 10,  66,  15,  82,  40,  16],\n",
              "       [ 10,  96,  27,  99,  94,  90],\n",
              "       [ 88,  61,  49,  48,  34,  25],\n",
              "       [ 23,  18,  70,  42,  94,  89],\n",
              "       [ 67,  34,  12,  43,  40,  79],\n",
              "       [ 15,  96,  60,   0,  85,  32],\n",
              "       [ 34,   4,  91,   9,  74,  72],\n",
              "       [ 69,  98,  86,  18,  86,  65],\n",
              "       [ 27,  38,  42,  76,  62,  64]])"
            ]
          },
          "metadata": {},
          "execution_count": 39
        }
      ]
    },
    {
      "cell_type": "markdown",
      "source": [
        "### **Задание №2: Маскирование и фильтрация**\n",
        "\n",
        "а) Создайте массив из 20 случайных целых чисел от -20 до 20. Замените все положительные числа на их куб:"
      ],
      "metadata": {
        "id": "PscIdWnhy1FZ"
      }
    },
    {
      "cell_type": "code",
      "source": [
        "arr = np.random.randint(-20, 21, 20)\n",
        "arr[arr > 0] = arr[arr > 0]**3\n",
        "arr\n"
      ],
      "metadata": {
        "id": "7F6tarUPyFev",
        "outputId": "a51c7579-5a0e-4729-bc36-81825fcec200",
        "colab": {
          "base_uri": "https://localhost:8080/"
        }
      },
      "execution_count": null,
      "outputs": [
        {
          "output_type": "execute_result",
          "data": {
            "text/plain": [
              "array([1728, 1000,  -10,  -11, 5832,   -8, 2197,  -14, 1000,  343,  -14,\n",
              "        -14, 3375, 8000, 6859,   -7, 1728, 4913,   -3,  -10])"
            ]
          },
          "metadata": {},
          "execution_count": 40
        }
      ]
    },
    {
      "cell_type": "markdown",
      "source": [
        "б) Создайте двумерный массив и найдите элементы, которые равны минимальному значению в массиве:"
      ],
      "metadata": {
        "id": "JR2vyqmVy68R"
      }
    },
    {
      "cell_type": "code",
      "source": [
        "import numpy as np\n",
        "\n",
        "arr_2d = np.random.randint(-10, 11, size=(4, 5))  # Example 2D array\n",
        "min_val = np.min(arr_2d)\n",
        "min_elements = arr_2d[arr_2d == min_val]\n",
        "print(\"Исходный двумерный массив:\\n\",arr_2d)\n",
        "print(\"Минимальные значения:\", min_val)\n",
        "print(\"Элементы равные минимальному значению:\", min_elements)\n"
      ],
      "metadata": {
        "id": "lwfz9qF0yFkt",
        "outputId": "1a4fba8e-6eed-40f0-ae7e-79b44100bb97",
        "colab": {
          "base_uri": "https://localhost:8080/"
        }
      },
      "execution_count": null,
      "outputs": [
        {
          "output_type": "stream",
          "name": "stdout",
          "text": [
            "Исходный двумерный массив:\n",
            " [[-10  -3  -3   6   2]\n",
            " [ -9   0 -10  -3   1]\n",
            " [  6  -9 -10   9   9]\n",
            " [ -5   7   1  -5  -4]]\n",
            "Минимальные значения: -10\n",
            "Элементы равные минимальному значению: [-10 -10 -10]\n"
          ]
        }
      ]
    },
    {
      "cell_type": "markdown",
      "source": [
        "### **Задание №3: Агрегирование данных**\n",
        "\n",
        "а) Создайте двумерный массив со случайными числами. Вычислите сумму, среднее значение, максимальное и минимальное значение для всего массива:"
      ],
      "metadata": {
        "id": "0IEPWv4_zAXG"
      }
    },
    {
      "cell_type": "code",
      "source": [
        "arr_2d = np.random.rand(5, 5)\n",
        "\n",
        "sum_arr = np.sum(arr_2d)\n",
        "mean_arr = np.mean(arr_2d)\n",
        "max_arr = np.max(arr_2d)\n",
        "min_arr = np.min(arr_2d)\n",
        "\n",
        "print(\"Исходный массив:\\n\", arr_2d)\n",
        "print(\"Сумма элементов:\", sum_arr)\n",
        "print(\"Среднее значение элементов:\", mean_arr)\n",
        "print(\"Максимальное значение:\", max_arr)\n",
        "print(\"Минимальное значение:\", min_arr)\n"
      ],
      "metadata": {
        "id": "ZeQXLM0LyFqU",
        "colab": {
          "base_uri": "https://localhost:8080/"
        },
        "outputId": "c6c29cd5-e0ec-42c9-8c92-03ae4e0377ad"
      },
      "execution_count": null,
      "outputs": [
        {
          "output_type": "stream",
          "name": "stdout",
          "text": [
            "Исходный массив:\n",
            " [[0.42589033 0.06991263 0.30667306 0.47787443 0.65758334]\n",
            " [0.308758   0.09504712 0.61519913 0.13993398 0.3732414 ]\n",
            " [0.69836813 0.27489518 0.83998414 0.68341741 0.00132682]\n",
            " [0.51829223 0.48907012 0.29836307 0.07853481 0.17284336]\n",
            " [0.16373363 0.56437177 0.27957389 0.02298693 0.26311937]]\n",
            "Сумма элементов: 8.818994273769237\n",
            "Среднее значение элементов: 0.3527597709507695\n",
            "Максимальное значение: 0.8399841377140245\n",
            "Минимальное значение: 0.0013268242729309598\n"
          ]
        }
      ]
    },
    {
      "cell_type": "markdown",
      "source": [
        "б) Создайте одномерный массив и вычислите кумулятивную сумму и кумулятивное произведение элементов:"
      ],
      "metadata": {
        "id": "pRDKJ7zLzEle"
      }
    },
    {
      "cell_type": "code",
      "source": [
        "arr = np.arange(1, 10)\n",
        "\n",
        "cumulative_sum = np.cumsum(arr)\n",
        "cumulative_product = np.cumprod(arr)\n",
        "\n",
        "print(\"Исходный массив:\", arr)\n",
        "print(\"Кумулятивная сумма:\", cumulative_sum)\n",
        "print(\"Кумулятивное произведение:\", cumulative_product)\n"
      ],
      "metadata": {
        "id": "qZwUXOWGyFwy",
        "colab": {
          "base_uri": "https://localhost:8080/"
        },
        "outputId": "b3228f4a-4392-4bba-c50f-3c5d29f34bf3"
      },
      "execution_count": null,
      "outputs": [
        {
          "output_type": "stream",
          "name": "stdout",
          "text": [
            "Исходный массив: [1 2 3 4 5 6 7 8 9]\n",
            "Кумулятивная сумма: [ 1  3  6 10 15 21 28 36 45]\n",
            "Кумулятивное произведение: [     1      2      6     24    120    720   5040  40320 362880]\n"
          ]
        }
      ]
    },
    {
      "cell_type": "markdown",
      "source": [
        "### **Задание №4: Использование функций для работы с матрицами**\n",
        "\n",
        "а) Используйте функцию `np.linalg.inv` для нахождения обратной матрицы:"
      ],
      "metadata": {
        "id": "oZuD0lgSzNrl"
      }
    },
    {
      "cell_type": "code",
      "source": [
        "matrix = np.array([[1, 2], [3, 4]])\n",
        "\n",
        "inverse_matrix = np.linalg.inv(matrix)\n",
        "\n",
        "print(\"Обратная матрица:\\n\", inverse_matrix)"
      ],
      "metadata": {
        "id": "2d-HRi8QwkMO",
        "colab": {
          "base_uri": "https://localhost:8080/"
        },
        "outputId": "d650f498-6b55-4512-ec96-e8969ca92d6d"
      },
      "execution_count": null,
      "outputs": [
        {
          "output_type": "stream",
          "name": "stdout",
          "text": [
            "Обратная матрица:\n",
            " [[-2.   1. ]\n",
            " [ 1.5 -0.5]]\n"
          ]
        }
      ]
    },
    {
      "cell_type": "markdown",
      "source": [
        "б) Решите систему линейных уравнений:\n",
        "\n",
        "$\n",
        "\\begin{cases}\n",
        "3x + y = 9 \\\\\n",
        "x + 2y = 8\n",
        "\\end{cases}\n",
        "$\n",
        "\n",
        "с использованием функции `np.linalg.solve`:"
      ],
      "metadata": {
        "id": "bsixuP9fzYUz"
      }
    },
    {
      "cell_type": "code",
      "source": [
        "a = np.array([[3, 1], [1, 2]])\n",
        "\n",
        "b = np.array([9, 8])\n",
        "\n",
        "x = np.linalg.solve(a, b)\n",
        "\n",
        "x\n"
      ],
      "metadata": {
        "id": "fons6rp0yZkL",
        "colab": {
          "base_uri": "https://localhost:8080/"
        },
        "outputId": "88f8a294-26bc-49a6-92cd-2f3d137c7151"
      },
      "execution_count": null,
      "outputs": [
        {
          "output_type": "execute_result",
          "data": {
            "text/plain": [
              "array([2., 3.])"
            ]
          },
          "metadata": {},
          "execution_count": 8
        }
      ]
    },
    {
      "cell_type": "markdown",
      "source": [
        "### **Задание №5: Работа с датасетом**\n",
        "\n",
        "а) Загрузите датасет [wine quality](https://archive.ics.uci.edu/ml/datasets/Wine+Quality) (данные о качестве вина):"
      ],
      "metadata": {
        "id": "Czza0DcbzmEf"
      }
    },
    {
      "cell_type": "code",
      "source": [
        "# Задание 5а\n",
        "import numpy as np\n",
        "\n",
        "url = 'https://archive.ics.uci.edu/ml/machine-learning-databases/wine-quality/winequality-red.csv'\n",
        "data = np.genfromtxt(url, delimiter=';', skip_header=1)\n",
        "print(\"Данные о качестве вина загружены.\")"
      ],
      "metadata": {
        "id": "GYTFoqY4yZqU",
        "colab": {
          "base_uri": "https://localhost:8080/"
        },
        "outputId": "de8bb113-7883-4b8f-cea0-0e0b6e9469b6"
      },
      "execution_count": null,
      "outputs": [
        {
          "output_type": "stream",
          "name": "stdout",
          "text": [
            "Данные о качестве вина загружены.\n"
          ]
        }
      ]
    },
    {
      "cell_type": "markdown",
      "source": [
        "б) Выведите первые 3 строки датасета:\n"
      ],
      "metadata": {
        "id": "t_c4u3Jwzp6s"
      }
    },
    {
      "cell_type": "code",
      "source": [
        "print(data[:3])\n"
      ],
      "metadata": {
        "id": "Z7dQUGrQyZ6z",
        "colab": {
          "base_uri": "https://localhost:8080/"
        },
        "outputId": "9a6caa1c-4532-4a1a-9d84-1ddd061bcdd0"
      },
      "execution_count": null,
      "outputs": [
        {
          "output_type": "stream",
          "name": "stdout",
          "text": [
            "[[7.400e+00 7.000e-01 0.000e+00 1.900e+00 7.600e-02 1.100e+01 3.400e+01\n",
            "  9.978e-01 3.510e+00 5.600e-01 9.400e+00 5.000e+00]\n",
            " [7.800e+00 8.800e-01 0.000e+00 2.600e+00 9.800e-02 2.500e+01 6.700e+01\n",
            "  9.968e-01 3.200e+00 6.800e-01 9.800e+00 5.000e+00]\n",
            " [7.800e+00 7.600e-01 4.000e-02 2.300e+00 9.200e-02 1.500e+01 5.400e+01\n",
            "  9.970e-01 3.260e+00 6.500e-01 9.800e+00 5.000e+00]]\n"
          ]
        }
      ]
    },
    {
      "cell_type": "markdown",
      "source": [
        "в) Вычислите среднее значение уровней кислотности (первый столбец) во всем наборе данных:"
      ],
      "metadata": {
        "id": "0-c3KTVvzspX"
      }
    },
    {
      "cell_type": "code",
      "source": [],
      "metadata": {
        "id": "4bc5AiB0ynFm"
      },
      "execution_count": null,
      "outputs": []
    },
    {
      "cell_type": "markdown",
      "source": [
        "г) Используйте логическую индексацию для выбора всех образцов вина с качеством (последний столбец), равным 8, и выведите их количество:\n"
      ],
      "metadata": {
        "id": "j2E1wHIIzwtw"
      }
    },
    {
      "cell_type": "code",
      "source": [],
      "metadata": {
        "id": "P9ssCv8vypk_"
      },
      "execution_count": null,
      "outputs": []
    },
    {
      "cell_type": "markdown",
      "source": [
        "## **Блок №3: Повышенный уровень**"
      ],
      "metadata": {
        "id": "JUhdfjmiwUaq"
      }
    },
    {
      "cell_type": "markdown",
      "source": [
        "### **Задание №1: Реализация класса KNN для классификации**\n"
      ],
      "metadata": {
        "id": "kULaZor2zQH5"
      }
    },
    {
      "cell_type": "markdown",
      "source": [
        "\n",
        "**Постановка задачи:**  \n",
        "Создайте класс `KNNClassifier`, который реализует алгоритм классификации **k-ближайших соседей**.\n",
        "\n",
        "**Требования к реализации:**  \n",
        "- **Методы:**\n",
        "  - `fit(self, X_train, y_train)`: обучение модели на тренировочных данных.\n",
        "  - `predict(self, X_test, k=3)`: предсказание меток классов для тестовых данных.\n",
        "- **Использование евклидового расстояния:**  \n",
        "  Для определения ближайших соседей вычисляйте евклидово расстояние между точками.\n",
        "- **Тестирование:**  \n",
        "  Проверьте работу вашего классификатора на синтетических данных и сравните результаты с моделью из библиотеки `sklearn.neighbors.KNeighborsClassifier`."
      ],
      "metadata": {
        "id": "i6T5MkpgzNyF"
      }
    },
    {
      "cell_type": "markdown",
      "source": [
        "![Текст ссылки](https://i.pinimg.com/736x/28/dc/56/28dc560743a23089da36434668476c69.jpg)"
      ],
      "metadata": {
        "id": "dbAXh1YJ1PV9"
      }
    },
    {
      "cell_type": "markdown",
      "source": [
        "### **Математическое обоснование алгоритма KNN**\n",
        "\n"
      ],
      "metadata": {
        "id": "bKArt1dVzRBk"
      }
    },
    {
      "cell_type": "markdown",
      "source": [
        "#### **1. Евклидова метрика**"
      ],
      "metadata": {
        "id": "hNKWyTUdzVLJ"
      }
    },
    {
      "cell_type": "markdown",
      "source": [
        "\n",
        "Для двух векторов признаков $ \\mathbf{x} = (x_1, x_2, \\dots, x_m) $ и $ \\mathbf{z} = (z_1, z_2, \\dots, z_m) $ евклидово расстояние определяется следующим образом:\n",
        "\n",
        "$\n",
        "d(\\mathbf{x}, \\mathbf{z}) = \\sqrt{\\sum_{j=1}^{m} (x_j - z_j)^2}\n",
        "$\n",
        "\n",
        "Это расстояние используется для оценки степени сходства между тестовой точкой и точками из тренировочного набора."
      ],
      "metadata": {
        "id": "tgy2WU1mzV-i"
      }
    },
    {
      "cell_type": "markdown",
      "source": [
        "#### **2. Обучающая выборка и расчет расстояний**\n"
      ],
      "metadata": {
        "id": "ktHxFLLMzjgM"
      }
    },
    {
      "cell_type": "markdown",
      "source": [
        "\n",
        "\n",
        "\n",
        "Пусть тренировочная выборка имеет вид:\n",
        "\n",
        "$\n",
        "\\mathcal{D} = \\{ (\\mathbf{x}_1, y_1), (\\mathbf{x}_2, y_2), \\dots, (\\mathbf{x}_N, y_N) \\}\n",
        "$\n",
        "\n",
        "где $ \\mathbf{x}_i $ — вектор признаков, а $ y_i $ — метка класса.\n",
        "\n",
        "Для каждой тестовой точки $ \\mathbf{x} $ необходимо вычислить расстояние до каждой точки из тренировочной выборки:\n",
        "\n",
        "$\n",
        "d_i = d(\\mathbf{x}, \\mathbf{x}_i) = \\sqrt{\\sum_{j=1}^{m} (x_j - x_{ij})^2}, \\quad i=1,\\dots,N\n",
        "$"
      ],
      "metadata": {
        "id": "i00a54jJzmuI"
      }
    },
    {
      "cell_type": "markdown",
      "source": [
        "#### **3. Определение k ближайших соседей**\n",
        "\n"
      ],
      "metadata": {
        "id": "fQP_qMnozoKq"
      }
    },
    {
      "cell_type": "markdown",
      "source": [
        "После того как расстояния будут вычислены, выбираются $ k $ точек с наименьшими значениями $ d_i $. Обозначим индекс множества этих точек как $ S $:\n",
        "\n",
        "$\n",
        "S = \\{i_1, i_2, \\dots, i_k\\} \\quad \\text{где} \\quad d_{i_1} \\leq d_{i_2} \\leq \\dots \\leq d_{i_k} \\leq \\dots\n",
        "$"
      ],
      "metadata": {
        "id": "1FiVugO0zryj"
      }
    },
    {
      "cell_type": "markdown",
      "source": [
        "#### **4. Классификация методом большинства голосов**"
      ],
      "metadata": {
        "id": "WDGA2NomzyPz"
      }
    },
    {
      "cell_type": "markdown",
      "source": [
        "\n",
        "\n",
        "Для определения класса тестовой точки проводится голосование среди выбранных $ k $ ближайших соседей. Предсказанная метка $ \\hat{y} $ определяется как класс, встречающийся наиболее часто среди соседей:\n",
        "\n",
        "$\n",
        "\\hat{y} = \\operatorname*{arg\\,max}_{c \\in \\mathcal{C}} \\; \\sum_{i \\in S} \\mathbb{1}(y_i = c)\n",
        "$\n",
        "\n",
        "где:\n",
        "- $ \\mathcal{C} $ — множество всех возможных классов,\n",
        "- $ \\mathbb{1}(y_i = c) $ — индикаторная функция, равная 1, если $ y_i = c $, и 0 в противном случае.\n",
        "\n",
        "Таким образом, для каждой тестовой точки алгоритм:\n",
        "1. **Вычисляет** евклидовы расстояния до всех точек тренировочной выборки.\n",
        "2. **Отбирает** $ k $ точек с наименьшими расстояниями.\n",
        "3. **Применяет** правило большинства голосов для определения итоговой метки."
      ],
      "metadata": {
        "id": "vE4vi7qGzs5B"
      }
    },
    {
      "cell_type": "markdown",
      "source": [
        "---\n",
        "\n",
        "### **Пример входных и выходных данных**"
      ],
      "metadata": {
        "id": "4TkiUaJ2z4M8"
      }
    },
    {
      "cell_type": "markdown",
      "source": [
        "#### **Пример 1**\n"
      ],
      "metadata": {
        "id": "8BK8T0qf0AH7"
      }
    },
    {
      "cell_type": "markdown",
      "source": [
        "**Входные данные:**\n",
        "- **Тренировочные данные:**\n",
        "\n",
        "  ```python\n",
        "  import numpy as np\n",
        "  \n",
        "  # Пример двумерных данных\n",
        "  X_train = np.array([\n",
        "      [1.0, 1.0],\n",
        "      [2.0, 2.0],\n",
        "      [3.0, 3.0],\n",
        "      [6.0, 6.0]\n",
        "  ])\n",
        "  y_train = np.array([0, 0, 1, 1])\n",
        "  ```\n",
        "\n",
        "- **Тестовые данные:**\n",
        "\n",
        "  ```python\n",
        "  X_test = np.array([\n",
        "      [4.0, 4.0]\n",
        "  ])\n",
        "  ```\n",
        "\n",
        "- Выбор параметра $ k = 3 $."
      ],
      "metadata": {
        "id": "-_3oHXsm0ESz"
      }
    },
    {
      "cell_type": "markdown",
      "source": [
        "\n",
        "**Расчет расстояний от тестовой точки $[4.0, 4.0]$ до каждой точки тренировочной выборки:**\n",
        "\n",
        "1. Для $[1.0, 1.0]$:\n",
        "\n",
        "   $\n",
        "   d = \\sqrt{(4.0-1.0)^2 + (4.0-1.0)^2} = \\sqrt{9 + 9} \\approx 4.24\n",
        "   $\n",
        "\n",
        "2. Для $[2.0, 2.0]$:\n",
        "\n",
        "   $\n",
        "   d = \\sqrt{(4.0-2.0)^2 + (4.0-2.0)^2} = \\sqrt{4 + 4} \\approx 2.83\n",
        "   $\n",
        "\n",
        "3. Для $[3.0, 3.0]$:\n",
        "\n",
        "   $\n",
        "   d = \\sqrt{(4.0-3.0)^2 + (4.0-3.0)^2} = \\sqrt{1 + 1} \\approx 1.41\n",
        "   $\n",
        "\n",
        "4. Для $[6.0, 6.0]$:\n",
        "\n",
        "   $\n",
        "   d = \\sqrt{(4.0-6.0)^2 + (4.0-6.0)^2} = \\sqrt{4 + 4} \\approx 2.83\n",
        "   $"
      ],
      "metadata": {
        "id": "pOX5Gwpp0FSE"
      }
    },
    {
      "cell_type": "markdown",
      "source": [
        "\n",
        "\n",
        "\n",
        "\n",
        "**Определение k ближайших соседей (при $ k = 3 $):**\n",
        "\n",
        "- Индексы ближайших точек (по возрастанию расстояния):  \n",
        "  $ \\mathbf{x} = [3.0, 3.0] $ (расстояние 1.41, класс 1),  \n",
        "  $ \\mathbf{x} = [2.0, 2.0] $ (расстояние 2.83, класс 0),  \n",
        "  $ \\mathbf{x} = [6.0, 6.0] $ (расстояние 2.83, класс 1).\n",
        "\n",
        "**Голосование:**\n",
        "\n",
        "- Класс 1: встречается 2 раза.\n",
        "- Класс 0: встречается 1 раз.\n",
        "\n",
        "**Выходные данные:**\n",
        "\n",
        "Классификатор предсказывает метку:\n",
        "\n",
        "```python\n",
        "y_pred = [1]\n",
        "```"
      ],
      "metadata": {
        "id": "JJ_VagnqzHc5"
      }
    },
    {
      "cell_type": "markdown",
      "source": [
        "**Проверим рассчеты, получив предсказание классификатора KNeighborsClassifier из sklearn**"
      ],
      "metadata": {
        "id": "uKvFUjC54hOd"
      }
    },
    {
      "cell_type": "code",
      "source": [
        "import numpy as np\n",
        "import matplotlib.pyplot as plt\n",
        "from sklearn.neighbors import KNeighborsClassifier\n",
        "\n",
        "# Пример двумерных данных\n",
        "X_train = np.array([\n",
        "    [1.0, 1.0],\n",
        "    [2.0, 2.0],\n",
        "    [3.0, 3.0],\n",
        "    [6.0, 6.0]\n",
        "])\n",
        "y_train = np.array([0, 0, 1, 1])\n",
        "\n",
        "X_test = np.array([\n",
        "    [4.0, 4.0]\n",
        "])\n",
        "\n",
        "# Создаём и обучаем классификатор KNeighborsClassifier из sklearn с параметром k=3\n",
        "knn = KNeighborsClassifier(n_neighbors=3, metric='euclidean')\n",
        "knn.fit(X_train, y_train)\n",
        "\n",
        "# Предсказываем класс для тестовой точки\n",
        "y_pred = knn.predict(X_test)\n",
        "print(\"Предсказанная метка (sklearn):\", y_pred[0])"
      ],
      "metadata": {
        "colab": {
          "base_uri": "https://localhost:8080/"
        },
        "outputId": "b20b79c9-0418-4b55-e886-2491a410cec2",
        "id": "AzWxzsSD3lux"
      },
      "execution_count": null,
      "outputs": [
        {
          "output_type": "stream",
          "name": "stdout",
          "text": [
            "Предсказанная метка (sklearn): 1\n"
          ]
        }
      ]
    },
    {
      "cell_type": "code",
      "source": [
        "# Визуализация данных\n",
        "plt.figure(figsize=(6, 6))\n",
        "\n",
        "# Отображение тренировочных данных, разделённых по классам\n",
        "plt.scatter(X_train[y_train == 0][:, 0],\n",
        "            X_train[y_train == 0][:, 1],\n",
        "            color='blue', label='Класс 0', s=100)\n",
        "plt.scatter(X_train[y_train == 1][:, 0],\n",
        "            X_train[y_train == 1][:, 1],\n",
        "            color='green', label='Класс 1', s=100)\n",
        "\n",
        "# Отображение тестовой точки\n",
        "plt.scatter(X_test[:, 0], X_test[:, 1],\n",
        "            color='red', marker='*', s=200, label='Тестовая точка')\n",
        "\n",
        "plt.xlabel('Признак 1')\n",
        "plt.ylabel('Признак 2')\n",
        "plt.title('Визуализация k-ближайших соседей (k=3)')\n",
        "plt.legend()\n",
        "plt.show()"
      ],
      "metadata": {
        "colab": {
          "base_uri": "https://localhost:8080/",
          "height": 564
        },
        "id": "MZnPDFQ_35J0",
        "outputId": "24c0c9f6-095b-40c4-fa4b-44c8256f70c4"
      },
      "execution_count": null,
      "outputs": [
        {
          "output_type": "display_data",
          "data": {
            "text/plain": [
              "<Figure size 600x600 with 1 Axes>"
            ],
            "image/png": "[encoded data removed]"
          },
          "metadata": {}
        }
      ]
    },
    {
      "cell_type": "markdown",
      "source": [
        "### **Ваша реализация**"
      ],
      "metadata": {
        "id": "c-pP9_Ry42rj"
      }
    },
    {
      "cell_type": "code",
      "source": [
        "# Ваш код"
      ],
      "metadata": {
        "id": "YBN2Ga3J5AcP"
      },
      "execution_count": null,
      "outputs": []
    }
  ]
}