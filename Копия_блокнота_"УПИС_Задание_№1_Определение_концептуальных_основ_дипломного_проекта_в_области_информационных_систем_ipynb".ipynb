{
  "nbformat": 4,
  "nbformat_minor": 0,
  "metadata": {
    "colab": {
      "provenance": [],
      "include_colab_link": true
    },
    "kernelspec": {
      "name": "python3",
      "display_name": "Python 3"
    },
    "language_info": {
      "name": "python"
    }
  },
  "cells": [
    {
      "cell_type": "markdown",
      "metadata": {
        "id": "view-in-github",
        "colab_type": "text"
      },
      "source": [
        "<a href=\"https://colab.research.google.com/github/DenisDrobyshev/university/blob/master/%D0%9A%D0%BE%D0%BF%D0%B8%D1%8F_%D0%B1%D0%BB%D0%BE%D0%BA%D0%BD%D0%BE%D1%82%D0%B0_%22%D0%A3%D0%9F%D0%98%D0%A1_%D0%97%D0%B0%D0%B4%D0%B0%D0%BD%D0%B8%D0%B5_%E2%84%961_%D0%9E%D0%BF%D1%80%D0%B5%D0%B4%D0%B5%D0%BB%D0%B5%D0%BD%D0%B8%D0%B5_%D0%BA%D0%BE%D0%BD%D1%86%D0%B5%D0%BF%D1%82%D1%83%D0%B0%D0%BB%D1%8C%D0%BD%D1%8B%D1%85_%D0%BE%D1%81%D0%BD%D0%BE%D0%B2_%D0%B4%D0%B8%D0%BF%D0%BB%D0%BE%D0%BC%D0%BD%D0%BE%D0%B3%D0%BE_%D0%BF%D1%80%D0%BE%D0%B5%D0%BA%D1%82%D0%B0_%D0%B2_%D0%BE%D0%B1%D0%BB%D0%B0%D1%81%D1%82%D0%B8_%D0%B8%D0%BD%D1%84%D0%BE%D1%80%D0%BC%D0%B0%D1%86%D0%B8%D0%BE%D0%BD%D0%BD%D1%8B%D1%85_%D1%81%D0%B8%D1%81%D1%82%D0%B5%D0%BC_ipynb%22.ipynb\" target=\"_parent\"><img src=\"https://colab.research.google.com/assets/colab-badge.svg\" alt=\"Open In Colab\"/></a>"
      ]
    },
    {
      "cell_type": "markdown",
      "source": [
        "# **Задание 1. Определение концептуальных основ дипломного проекта в области информационных систем**"
      ],
      "metadata": {
        "id": "RSDLIkruzS6g"
      }
    },
    {
      "cell_type": "markdown",
      "source": [
        "\n",
        "\n",
        "В рамках дисциплины \"Управление проектами информационных систем\" представьте развернутое концептуальное обоснование вашего проекта, ответив на следующие вопросы:\n"
      ],
      "metadata": {
        "id": "fht3SrjwzaDG"
      }
    },
    {
      "cell_type": "markdown",
      "source": [
        "#### **1. Обоснование необходимости разработки**\n"
      ],
      "metadata": {
        "id": "MHe-tCEk1Zf1"
      }
    },
    {
      "cell_type": "markdown",
      "source": [
        "Для кого предназначено разрабатываемое Вами решение и какие потребности целевой аудитории оно призвано удовлетворить?\n",
        "\n",
        "\n"
      ],
      "metadata": {
        "id": "QLlpMqMc1bJ9"
      }
    },
    {
      "cell_type": "markdown",
      "source": [
        "*Обоснуйте актуальность решаемой проблемы для конкретных заинтересованных сторон.*"
      ],
      "metadata": {
        "id": "-TvKTzxG2rCM"
      }
    },
    {
      "cell_type": "markdown",
      "source": [
        "Для университета МИИГАиК (для встраивания в общий сайт). Потребности в использовании журнала \"Пространственные данные\""
      ],
      "metadata": {
        "id": "Pu36Me7u1v3G"
      }
    },
    {
      "cell_type": "markdown",
      "source": [
        "---"
      ],
      "metadata": {
        "id": "SvbCSHi32sEs"
      }
    },
    {
      "cell_type": "markdown",
      "source": [
        "#### **2. Ожидаемые результаты проекта**\n",
        "\n"
      ],
      "metadata": {
        "id": "8kobDNLu1Sfk"
      }
    },
    {
      "cell_type": "markdown",
      "source": [
        "Опишите конкретные результаты, которые планируется получить по завершении проекта. Какой программный продукт, методика или информационная система будет создан/создана в результате вашей работы?"
      ],
      "metadata": {
        "id": "7UamiUwh1Vi0"
      }
    },
    {
      "cell_type": "markdown",
      "source": [
        "Информационный веб портал для использования журнала \"Пространственные данные\""
      ],
      "metadata": {
        "id": "aS6Yn3Eq2DZM"
      }
    },
    {
      "cell_type": "markdown",
      "source": [
        "---"
      ],
      "metadata": {
        "id": "rEoVAS0827Ug"
      }
    },
    {
      "cell_type": "markdown",
      "source": [
        "#### **3. Методология использования**\n"
      ],
      "metadata": {
        "id": "G2nrOC9O1Qnr"
      }
    },
    {
      "cell_type": "markdown",
      "source": [
        "Каким образом предполагается практическое применение разрабатываемого решения? Опишите основные сценарии взаимодействия пользователей с разрабатываемым решением."
      ],
      "metadata": {
        "id": "ddwXkfO91Ppy"
      }
    },
    {
      "cell_type": "markdown",
      "source": [
        "Поиск архивов и чтение выпусков журнала \"Пространственные данные\""
      ],
      "metadata": {
        "id": "2uEjgSrX2Dp8"
      }
    },
    {
      "cell_type": "markdown",
      "source": [
        "---"
      ],
      "metadata": {
        "id": "-jwyeWoq27ob"
      }
    },
    {
      "cell_type": "markdown",
      "source": [
        "#### **4. Входные данные и их источники**\n"
      ],
      "metadata": {
        "id": "sx39Ws851OIy"
      }
    },
    {
      "cell_type": "markdown",
      "source": [
        "Какие типы данных будут использоваться в качестве входных данных для вашего решения? В каком формате они будут представлены и из каких источников планируется их получение?"
      ],
      "metadata": {
        "id": "Awf8ot1_1LNd"
      }
    },
    {
      "cell_type": "markdown",
      "source": [
        "<font color='red'><b>Ваш ответ</b></font>"
      ],
      "metadata": {
        "id": "x7UBFvAg2D5w"
      }
    },
    {
      "cell_type": "markdown",
      "source": [
        "---"
      ],
      "metadata": {
        "id": "zPqZk2eB273x"
      }
    },
    {
      "cell_type": "markdown",
      "source": [
        "#### **5. Выходные данные и практическая значимость**\n"
      ],
      "metadata": {
        "id": "vSvE4XVs1Kdz"
      }
    },
    {
      "cell_type": "markdown",
      "source": [
        "Какие результаты будет формировать Ваше решение на выходе?"
      ],
      "metadata": {
        "id": "ddEUPzCN4Meh"
      }
    },
    {
      "cell_type": "markdown",
      "source": [
        "<font color='red'><b>Ваш ответ</b></font>"
      ],
      "metadata": {
        "id": "Udg0DpfQ4uy5"
      }
    },
    {
      "cell_type": "markdown",
      "source": [
        "---"
      ],
      "metadata": {
        "id": "ZtROAxy65Q8h"
      }
    },
    {
      "cell_type": "markdown",
      "source": [
        "Опишите конкретно и без \"воды\" пользу (практическую ценность), которую заинтересованные стороны получат от использования этих результатов."
      ],
      "metadata": {
        "id": "6okOo97t1Ibw"
      }
    },
    {
      "cell_type": "markdown",
      "source": [
        "<font color='red'><b>Ваш ответ</b></font>"
      ],
      "metadata": {
        "id": "nakQvmh-2EIJ"
      }
    },
    {
      "cell_type": "markdown",
      "source": [
        "---"
      ],
      "metadata": {
        "id": "GGfRvLm728G7"
      }
    }
  ]
}