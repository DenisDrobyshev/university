{
  "nbformat": 4,
  "nbformat_minor": 0,
  "metadata": {
    "colab": {
      "provenance": []
    },
    "kernelspec": {
      "name": "python3",
      "display_name": "Python 3"
    },
    "language_info": {
      "name": "python"
    }
  },
  "cells": [
    {
      "cell_type": "markdown",
      "metadata": {
        "id": "c21fa281"
      },
      "source": [
        "# **Диагностическая работа №8. Библиотека SciPy**"
      ]
    },
    {
      "cell_type": "markdown",
      "source": [
        "## **Задание №1. Вычисление определенного интеграла**\n"
      ],
      "metadata": {
        "id": "Lxr5Pz3CjHP-"
      }
    },
    {
      "cell_type": "markdown",
      "source": [
        "\n",
        "Вычислите определенный интеграл функции f(x) = sin(x) на интервале [0, π] с помощью scipy.integrate.quad. Округлите результат до трех знаков после запятой."
      ],
      "metadata": {
        "id": "vIFA6TiRjFnU"
      }
    },
    {
      "cell_type": "code",
      "execution_count": null,
      "metadata": {
        "vscode": {
          "languageId": "plaintext"
        },
        "id": "7b8e9634",
        "colab": {
          "base_uri": "https://localhost:8080/"
        },
        "outputId": "a2d22c48-54e7-4f5a-e314-4cba3f7f6c6d"
      },
      "outputs": [
        {
          "output_type": "stream",
          "name": "stdout",
          "text": [
            "2.0\n"
          ]
        }
      ],
      "source": [
        "from scipy.integrate import quad\n",
        "import numpy as np\n",
        "\n",
        "def f(x):\n",
        "    return np.sin(x)\n",
        "\n",
        "result, error = quad(f, 0, np.pi)\n",
        "rounded_result = round(result, 3)\n",
        "print(rounded_result)"
      ]
    },
    {
      "cell_type": "markdown",
      "source": [
        "## **Задание №2. Решение простой системы линейных уравнений**"
      ],
      "metadata": {
        "id": "oCCj8a7fjLQ9"
      }
    },
    {
      "cell_type": "markdown",
      "source": [
        "\n",
        "\n",
        "Используя scipy.linalg, решите систему уравнений:\n",
        "```\n",
        "3x + 2y = 7\n",
        "x + y = 3\n",
        "```\n",
        "Запишите значения x и y."
      ],
      "metadata": {
        "id": "gfn6j66YjH9P"
      }
    },
    {
      "cell_type": "code",
      "execution_count": null,
      "metadata": {
        "vscode": {
          "languageId": "plaintext"
        },
        "id": "2AyP6tRCjbIe",
        "colab": {
          "base_uri": "https://localhost:8080/"
        },
        "outputId": "4ab73e67-4797-4ecf-dddc-e5a620208d82"
      },
      "outputs": [
        {
          "output_type": "stream",
          "name": "stdout",
          "text": [
            "1.000, 2.000\n"
          ]
        }
      ],
      "source": [
        "from scipy.linalg import solve\n",
        "\n",
        "A = [[3, 2], [1, 1]]\n",
        "B = [7, 3]\n",
        "solution = solve(A, B)\n",
        "x, y = solution[0], solution[1]\n",
        "print(f\"{x:.3f}, {y:.3f}\")"
      ]
    },
    {
      "cell_type": "markdown",
      "source": [
        "## **Задание №3. Минимизация простой функции**"
      ],
      "metadata": {
        "id": "9Oi4boTIjO2b"
      }
    },
    {
      "cell_type": "markdown",
      "source": [
        "\n",
        "\n",
        "Найдите минимум функции f(x) = x² - 6x + 10 на интервале [-5, 10] с помощью scipy.optimize.minimize. Укажите координаты точки минимума."
      ],
      "metadata": {
        "id": "Ssn_x4UbjH_1"
      }
    },
    {
      "cell_type": "code",
      "execution_count": null,
      "metadata": {
        "vscode": {
          "languageId": "plaintext"
        },
        "id": "1VwmZNfvjbbI",
        "colab": {
          "base_uri": "https://localhost:8080/"
        },
        "outputId": "a59f11e8-107c-47da-f76f-286401740c96"
      },
      "outputs": [
        {
          "output_type": "stream",
          "name": "stdout",
          "text": [
            "3.000, 1.000\n"
          ]
        }
      ],
      "source": [
        "from scipy.optimize import minimize_scalar\n",
        "\n",
        "def f(x):\n",
        "    return x**2 - 6*x + 10\n",
        "\n",
        "res = minimize_scalar(f, bounds=(-5, 10), method='bounded')\n",
        "print(f\"{res.x:.3f}, {res.fun:.3f}\")"
      ]
    },
    {
      "cell_type": "markdown",
      "source": [
        "## **Задание №4. Базовая интерполяция**\n",
        "\n"
      ],
      "metadata": {
        "id": "EY9LX66ojP43"
      }
    },
    {
      "cell_type": "markdown",
      "source": [
        "Для точек (1, 3), (3, 7), (5, 11) выполните линейную интерполяцию с помощью scipy.interpolate.interp1d и найдите значение в точке x = 4."
      ],
      "metadata": {
        "id": "dYKxQIE6jTtG"
      }
    },
    {
      "cell_type": "code",
      "execution_count": null,
      "metadata": {
        "vscode": {
          "languageId": "plaintext"
        },
        "id": "egdU-wMdjbrH",
        "colab": {
          "base_uri": "https://localhost:8080/"
        },
        "outputId": "756edae8-b7eb-4243-b369-ee72c542449e"
      },
      "outputs": [
        {
          "output_type": "stream",
          "name": "stdout",
          "text": [
            "9.000\n"
          ]
        }
      ],
      "source": [
        "from scipy.interpolate import interp1d\n",
        "\n",
        "x_points = [1, 3, 5]\n",
        "y_points = [3, 7, 11]\n",
        "f_interp = interp1d(x_points, y_points, kind='linear')\n",
        "value_at_4 = f_interp(4)\n",
        "print(f\"{value_at_4:.3f}\")"
      ]
    },
    {
      "cell_type": "markdown",
      "source": [
        "## **Задание №5. Нахождение корня уравнения**\n",
        "\n"
      ],
      "metadata": {
        "id": "p1iYanI2jAcl"
      }
    },
    {
      "cell_type": "markdown",
      "source": [
        "С помощью scipy.optimize.root_scalar найдите корень уравнения x³ - 8 = 0 на интервале [1, 3]. Проверьте полученный результат подстановкой."
      ],
      "metadata": {
        "id": "TLUcdXgUjXgJ"
      }
    },
    {
      "cell_type": "code",
      "execution_count": null,
      "metadata": {
        "vscode": {
          "languageId": "plaintext"
        },
        "id": "JdK8ByBHjcP5",
        "colab": {
          "base_uri": "https://localhost:8080/"
        },
        "outputId": "49e06548-3979-4173-8bde-9b885a3fe573"
      },
      "outputs": [
        {
          "output_type": "stream",
          "name": "stdout",
          "text": [
            "2.000, 0.000e+00\n"
          ]
        }
      ],
      "source": [
        "from scipy.optimize import root_scalar\n",
        "\n",
        "def f(x):\n",
        "    return x**3 - 8\n",
        "\n",
        "res = root_scalar(f, bracket=[1, 3], method='brentq')\n",
        "root = res.root\n",
        "check = f(root)\n",
        "print(f\"{root:.3f}, {check:.3e}\")"
      ]
    }
  ]
}