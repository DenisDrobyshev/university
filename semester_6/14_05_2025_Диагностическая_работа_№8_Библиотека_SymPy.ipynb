{
  "nbformat": 4,
  "nbformat_minor": 0,
  "metadata": {
    "colab": {
      "provenance": [],
      "include_colab_link": true
    },
    "kernelspec": {
      "name": "python3",
      "display_name": "Python 3"
    },
    "language_info": {
      "name": "python"
    }
  },
  "cells": [
    {
      "cell_type": "markdown",
      "metadata": {
        "id": "view-in-github",
        "colab_type": "text"
      },
      "source": [
        "<a href=\"https://colab.research.google.com/github/DenisDrobyshev/university/blob/master/14_05_2025_%D0%94%D0%B8%D0%B0%D0%B3%D0%BD%D0%BE%D1%81%D1%82%D0%B8%D1%87%D0%B5%D1%81%D0%BA%D0%B0%D1%8F_%D1%80%D0%B0%D0%B1%D0%BE%D1%82%D0%B0_%E2%84%968_%D0%91%D0%B8%D0%B1%D0%BB%D0%B8%D0%BE%D1%82%D0%B5%D0%BA%D0%B0_SymPy.ipynb\" target=\"_parent\"><img src=\"https://colab.research.google.com/assets/colab-badge.svg\" alt=\"Open In Colab\"/></a>"
      ]
    },
    {
      "cell_type": "markdown",
      "metadata": {
        "id": "c21fa281"
      },
      "source": [
        "# **Диагностическая работа №8. Библиотека SciPy**"
      ]
    },
    {
      "cell_type": "markdown",
      "source": [
        "## **Задание №1. Вычисление определенного интеграла**\n"
      ],
      "metadata": {
        "id": "Lxr5Pz3CjHP-"
      }
    },
    {
      "cell_type": "markdown",
      "source": [
        "\n",
        "Вычислите определенный интеграл функции f(x) = sin(x) на интервале [0, π] с помощью scipy.integrate.quad. Округлите результат до трех знаков после запятой."
      ],
      "metadata": {
        "id": "vIFA6TiRjFnU"
      }
    },
    {
      "cell_type": "code",
      "execution_count": 14,
      "metadata": {
        "vscode": {
          "languageId": "plaintext"
        },
        "id": "7b8e9634",
        "outputId": "ede8ba33-e823-4c43-9e8b-92cc145345cc",
        "colab": {
          "base_uri": "https://localhost:8080/"
        }
      },
      "outputs": [
        {
          "output_type": "stream",
          "name": "stdout",
          "text": [
            "2.000\n"
          ]
        }
      ],
      "source": [
        "import numpy as np\n",
        "from scipy import integrate\n",
        "\n",
        "def f(x):\n",
        "  return np.sin(x)\n",
        "result, error = integrate.quad(f, 0, np.pi)\n",
        "print(f'{result:.3f}')"
      ]
    },
    {
      "cell_type": "markdown",
      "source": [
        "## **Задание №2. Решение простой системы линейных уравнений**"
      ],
      "metadata": {
        "id": "oCCj8a7fjLQ9"
      }
    },
    {
      "cell_type": "markdown",
      "source": [
        "\n",
        "\n",
        "Используя scipy.linalg, решите систему уравнений:\n",
        "```\n",
        "3x + 2y = 7\n",
        "x + y = 3\n",
        "```\n",
        "Запишите значения x и y."
      ],
      "metadata": {
        "id": "gfn6j66YjH9P"
      }
    },
    {
      "cell_type": "code",
      "execution_count": 15,
      "metadata": {
        "vscode": {
          "languageId": "plaintext"
        },
        "id": "2AyP6tRCjbIe",
        "outputId": "d0241d0b-6f06-41bb-fbd3-062630c604fa",
        "colab": {
          "base_uri": "https://localhost:8080/"
        }
      },
      "outputs": [
        {
          "output_type": "stream",
          "name": "stdout",
          "text": [
            "x = 0.9999999999999997\n",
            "y = 2.0000000000000004\n"
          ]
        }
      ],
      "source": [
        "from scipy import linalg\n",
        "\n",
        "a = np.array([[3, 2], [1, 1]])\n",
        "b = np.array([7, 3])\n",
        "x, y = linalg.solve(a, b)\n",
        "print(f\"x = {x}\")\n",
        "print(f\"y = {y}\")"
      ]
    },
    {
      "cell_type": "markdown",
      "source": [
        "## **Задание №3. Минимизация простой функции**"
      ],
      "metadata": {
        "id": "9Oi4boTIjO2b"
      }
    },
    {
      "cell_type": "markdown",
      "source": [
        "\n",
        "\n",
        "Найдите минимум функции f(x) = x² - 6x + 10 на интервале [-5, 10] с помощью scipy.optimize.minimize. Укажите координаты точки минимума."
      ],
      "metadata": {
        "id": "Ssn_x4UbjH_1"
      }
    },
    {
      "cell_type": "code",
      "execution_count": 16,
      "metadata": {
        "vscode": {
          "languageId": "plaintext"
        },
        "id": "1VwmZNfvjbbI",
        "outputId": "ba742b4e-c5bc-4d16-eb72-e0d1452042c6",
        "colab": {
          "base_uri": "https://localhost:8080/"
        }
      },
      "outputs": [
        {
          "output_type": "stream",
          "name": "stdout",
          "text": [
            "координата = 2.999999951642498\n",
            "минимум функции = 1.0\n"
          ]
        }
      ],
      "source": [
        "from scipy.optimize import minimize\n",
        "\n",
        "def f(x):\n",
        "  return x**2 - 6*x + 10\n",
        "\n",
        "x0 = 0\n",
        "bounds = [(-5, 10)]\n",
        "result = minimize(f, x0, bounds=bounds)\n",
        "x_min = result.x[0]\n",
        "print(f\"координата = {x_min}\")\n",
        "print(f\"минимум функции = {f(x_min)}\")"
      ]
    },
    {
      "cell_type": "markdown",
      "source": [
        "## **Задание №4. Базовая интерполяция**\n",
        "\n"
      ],
      "metadata": {
        "id": "EY9LX66ojP43"
      }
    },
    {
      "cell_type": "markdown",
      "source": [
        "Для точек (1, 3), (3, 7), (5, 11) выполните линейную интерполяцию с помощью scipy.interpolate.interp1d и найдите значение в точке x = 4."
      ],
      "metadata": {
        "id": "dYKxQIE6jTtG"
      }
    },
    {
      "cell_type": "code",
      "execution_count": 19,
      "metadata": {
        "vscode": {
          "languageId": "plaintext"
        },
        "id": "egdU-wMdjbrH",
        "outputId": "48a2dafd-4a6d-4e28-9f07-241ed2ac9d97",
        "colab": {
          "base_uri": "https://localhost:8080/"
        }
      },
      "outputs": [
        {
          "output_type": "stream",
          "name": "stdout",
          "text": [
            "Значение в точке x = 4: 9.0\n"
          ]
        }
      ],
      "source": [
        "from scipy.interpolate import interp1d\n",
        "\n",
        "x = np.array([1, 3, 5])\n",
        "y = np.array([3, 7, 11])\n",
        "f = interp1d(x, y)\n",
        "x_new = 4\n",
        "y_new = f(x_new)\n",
        "print(f\"Значение в точке x = {x_new}: {y_new}\")"
      ]
    },
    {
      "cell_type": "markdown",
      "source": [
        "## **Задание №5. Нахождение корня уравнения**\n",
        "\n"
      ],
      "metadata": {
        "id": "p1iYanI2jAcl"
      }
    },
    {
      "cell_type": "markdown",
      "source": [
        "С помощью scipy.optimize.root_scalar найдите корень уравнения x³ - 8 = 0 на интервале [1, 3]. Проверьте полученный результат подстановкой."
      ],
      "metadata": {
        "id": "TLUcdXgUjXgJ"
      }
    },
    {
      "cell_type": "code",
      "execution_count": 20,
      "metadata": {
        "vscode": {
          "languageId": "plaintext"
        },
        "id": "JdK8ByBHjcP5",
        "outputId": "e87ac17d-2624-46d2-c8a4-0e5ee1b1f2f4",
        "colab": {
          "base_uri": "https://localhost:8080/"
        }
      },
      "outputs": [
        {
          "output_type": "stream",
          "name": "stdout",
          "text": [
            "корень: 2.0\n",
            "Проверочка: 8.0\n"
          ]
        }
      ],
      "source": [
        "from scipy.optimize import root_scalar\n",
        "\n",
        "def equation(x):\n",
        "  return x**3 - 8\n",
        "result = root_scalar(equation, bracket=[1, 3])\n",
        "print(f\"корень: {result.root}\")\n",
        "print(f\"Проверочка: {result.root**3}\")"
      ]
    }
  ]
}