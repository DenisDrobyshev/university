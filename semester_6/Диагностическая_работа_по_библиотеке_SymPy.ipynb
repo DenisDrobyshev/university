{
  "nbformat": 4,
  "nbformat_minor": 0,
  "metadata": {
    "colab": {
      "provenance": [],
      "include_colab_link": true
    },
    "kernelspec": {
      "name": "python3",
      "display_name": "Python 3"
    },
    "language_info": {
      "name": "python"
    }
  },
  "cells": [
    {
      "cell_type": "markdown",
      "metadata": {
        "id": "view-in-github",
        "colab_type": "text"
      },
      "source": [
        "<a href=\"https://colab.research.google.com/github/DenisDrobyshev/university/blob/master/%D0%94%D0%B8%D0%B0%D0%B3%D0%BD%D0%BE%D1%81%D1%82%D0%B8%D1%87%D0%B5%D1%81%D0%BA%D0%B0%D1%8F_%D1%80%D0%B0%D0%B1%D0%BE%D1%82%D0%B0_%D0%BF%D0%BE_%D0%B1%D0%B8%D0%B1%D0%BB%D0%B8%D0%BE%D1%82%D0%B5%D0%BA%D0%B5_SymPy.ipynb\" target=\"_parent\"><img src=\"https://colab.research.google.com/assets/colab-badge.svg\" alt=\"Open In Colab\"/></a>"
      ]
    },
    {
      "cell_type": "markdown",
      "source": [
        "# **Диагностическая работа по библиотеке SymPy**"
      ],
      "metadata": {
        "id": "5IwP5dxOX8aJ"
      }
    },
    {
      "cell_type": "markdown",
      "source": [
        "### **Для удовлетворительной оценки необходимо выполнить по 3 задания из каждого раздела**"
      ],
      "metadata": {
        "id": "CUrdVRAPZj0C"
      }
    },
    {
      "cell_type": "markdown",
      "source": [
        "## **Раздел 1: Символьные преобразования выражений**\n"
      ],
      "metadata": {
        "id": "vw35TLHOYEp4"
      }
    },
    {
      "cell_type": "markdown",
      "source": [
        "1. Создайте символьные переменные x, y, z и выражение f(x, y, z) = x²y - 3xy²z + 4z³."
      ],
      "metadata": {
        "id": "wpVuk7g-YHf3"
      }
    },
    {
      "cell_type": "code",
      "source": [
        "from sympy import symbols, exp, Eq, solve, factor, sin\n",
        "x, y, z = symbols('x y z')\n",
        "expr = x**2*y -3*x*y**2*z + 4*z**3\n",
        "display(expr)"
      ],
      "metadata": {
        "id": "XQBdsDKzYH5a",
        "outputId": "baacf1de-c401-4853-d89a-3db6073b8ace",
        "colab": {
          "base_uri": "https://localhost:8080/",
          "height": 39
        }
      },
      "execution_count": 10,
      "outputs": [
        {
          "output_type": "display_data",
          "data": {
            "text/plain": [
              "x**2*y - 3*x*y**2*z + 4*z**3"
            ],
            "text/latex": "$\\displaystyle x^{2} y - 3 x y^{2} z + 4 z^{3}$"
          },
          "metadata": {}
        }
      ]
    },
    {
      "cell_type": "markdown",
      "source": [
        "2. Выполните подстановку значений x = 2, y = -1, z = 3 в выражение и вычислите результат.\n"
      ],
      "metadata": {
        "id": "SlOGrnSLYJOp"
      }
    },
    {
      "cell_type": "code",
      "source": [
        "result1 = expr.subs({x: 2, y: -1, z: 3})\n",
        "print(result1)"
      ],
      "metadata": {
        "id": "aJkg7-dtYQTe",
        "outputId": "9c19bb0f-8985-4910-e231-1ace708efd51",
        "colab": {
          "base_uri": "https://localhost:8080/"
        }
      },
      "execution_count": 11,
      "outputs": [
        {
          "output_type": "stream",
          "name": "stdout",
          "text": [
            "86\n"
          ]
        }
      ]
    },
    {
      "cell_type": "markdown",
      "source": [
        "3. Раскройте скобки в выражении (x + y)⁴ - (x - y)⁴.\n"
      ],
      "metadata": {
        "id": "kspe9ZagYKo8"
      }
    },
    {
      "cell_type": "code",
      "source": [
        "from sympy import symbols, expand, factor, collect\n",
        "\n",
        "\n",
        "x, y = symbols('x y')\n",
        "\n",
        "\n",
        "expr = (x + y)**4 - (x - y)**4\n",
        "\n",
        "\n",
        "expanded_expr = expand(expr)\n",
        "\n",
        "\n",
        "display(expr, '=', expanded_expr)"
      ],
      "metadata": {
        "colab": {
          "base_uri": "https://localhost:8080/",
          "height": 80
        },
        "id": "XI4qyC_FYTsn",
        "outputId": "602c8d41-d7d5-4efe-f152-c7510f6f6b21"
      },
      "execution_count": 12,
      "outputs": [
        {
          "output_type": "display_data",
          "data": {
            "text/plain": [
              "-(x - y)**4 + (x + y)**4"
            ],
            "text/latex": "$\\displaystyle - \\left(x - y\\right)^{4} + \\left(x + y\\right)^{4}$"
          },
          "metadata": {}
        },
        {
          "output_type": "display_data",
          "data": {
            "text/plain": [
              "'='"
            ],
            "application/vnd.google.colaboratory.intrinsic+json": {
              "type": "string"
            }
          },
          "metadata": {}
        },
        {
          "output_type": "display_data",
          "data": {
            "text/plain": [
              "8*x**3*y + 8*x*y**3"
            ],
            "text/latex": "$\\displaystyle 8 x^{3} y + 8 x y^{3}$"
          },
          "metadata": {}
        }
      ]
    },
    {
      "cell_type": "markdown",
      "source": [
        "4. Разложите на множители выражение x³ - 2x² - 5x + 6.\n"
      ],
      "metadata": {
        "id": "todhItmVYMQt"
      }
    },
    {
      "cell_type": "code",
      "source": [
        "x, y = symbols('x y')\n",
        "\n",
        "\n",
        "expr = x**3 - 2*x**2 -5*x + 6\n",
        "\n",
        "\n",
        "factored_expr = factor(expr)\n",
        "\n",
        "\n",
        "display(expr, '=', factored_expr)"
      ],
      "metadata": {
        "id": "G4awhvW5YQ4X",
        "outputId": "8a68f643-ca4d-4ebf-b68f-6497752d24d8",
        "colab": {
          "base_uri": "https://localhost:8080/",
          "height": 79
        }
      },
      "execution_count": 13,
      "outputs": [
        {
          "output_type": "display_data",
          "data": {
            "text/plain": [
              "x**3 - 2*x**2 - 5*x + 6"
            ],
            "text/latex": "$\\displaystyle x^{3} - 2 x^{2} - 5 x + 6$"
          },
          "metadata": {}
        },
        {
          "output_type": "display_data",
          "data": {
            "text/plain": [
              "'='"
            ],
            "application/vnd.google.colaboratory.intrinsic+json": {
              "type": "string"
            }
          },
          "metadata": {}
        },
        {
          "output_type": "display_data",
          "data": {
            "text/plain": [
              "(x - 3)*(x - 1)*(x + 2)"
            ],
            "text/latex": "$\\displaystyle \\left(x - 3\\right) \\left(x - 1\\right) \\left(x + 2\\right)$"
          },
          "metadata": {}
        }
      ]
    },
    {
      "cell_type": "markdown",
      "source": [
        "\n",
        "\n",
        "5. Приведите подобные в выражении x³y + 2xy² + 3x²y - 5xy² + 2x³y, сгруппировав по степеням x."
      ],
      "metadata": {
        "id": "0bAHI-NyYDgM"
      }
    },
    {
      "cell_type": "code",
      "source": [
        "from sympy import symbols, collect\n",
        "\n",
        "x, y = symbols('x y')\n",
        "expr = x**3*y + 2*x*y**2 + 3*x**2*y - 5*x*y**2 + 2*x**3*y\n",
        "collect(expr, x)"
      ],
      "metadata": {
        "id": "KNgiRHqYYRJ0",
        "outputId": "0de2351d-ad83-4430-d8f2-1e2ececde131",
        "colab": {
          "base_uri": "https://localhost:8080/",
          "height": 39
        }
      },
      "execution_count": 16,
      "outputs": [
        {
          "output_type": "execute_result",
          "data": {
            "text/plain": [
              "3*x**3*y + 3*x**2*y - 3*x*y**2"
            ],
            "text/latex": "$\\displaystyle 3 x^{3} y + 3 x^{2} y - 3 x y^{2}$"
          },
          "metadata": {},
          "execution_count": 16
        }
      ]
    },
    {
      "cell_type": "markdown",
      "source": [
        "## **Раздел 2: Решение уравнений и систем**\n"
      ],
      "metadata": {
        "id": "MMA-tmAnYUTd"
      }
    },
    {
      "cell_type": "markdown",
      "source": [
        "1. Решите уравнение x⁴ - 5x² + 4 = 0 и представьте все корни в аналитическом виде.\n"
      ],
      "metadata": {
        "id": "JbKiCDIXYU5i"
      }
    },
    {
      "cell_type": "code",
      "source": [
        "from sympy import symbols, Eq, solve\n",
        "\n",
        "x = symbols('x')\n",
        "equation = Eq(x**4 - 5*x**2 + 4, 0)\n",
        "solutions = solve(equation, x)\n",
        "solutions"
      ],
      "metadata": {
        "id": "frOYUvZ6Ygdr",
        "outputId": "6ae74660-39a0-4ade-82a0-2c94f3dacd1e",
        "colab": {
          "base_uri": "https://localhost:8080/"
        }
      },
      "execution_count": 18,
      "outputs": [
        {
          "output_type": "execute_result",
          "data": {
            "text/plain": [
              "[-2, -1, 1, 2]"
            ]
          },
          "metadata": {},
          "execution_count": 18
        }
      ]
    },
    {
      "cell_type": "markdown",
      "source": [
        "\n",
        "2. Найдите решения системы уравнений:\n",
        "   ```\n",
        "   3x - 2y + 4z = 10\n",
        "   2x + y - 3z = -5\n",
        "   x - 4y + z = 3\n",
        "   ```"
      ],
      "metadata": {
        "id": "aakIySWzYU7y"
      }
    },
    {
      "cell_type": "code",
      "source": [
        "from sympy import symbols, Eq, solve\n",
        "\n",
        "x, y, z = symbols('x y z')\n",
        "eq1 = Eq(3*x - 2*y + 4*z, 10)\n",
        "eq2 = Eq(2*x + y - 3*z, -5)\n",
        "eq3 = Eq(x - 4*y + z, 3)\n",
        "solution = solve((eq1, eq2, eq3), (x, y, z))\n",
        "solution"
      ],
      "metadata": {
        "id": "4VacDEQFYgq1",
        "outputId": "873206a2-158c-46ea-a9d8-d66cfd027059",
        "colab": {
          "base_uri": "https://localhost:8080/"
        }
      },
      "execution_count": 19,
      "outputs": [
        {
          "output_type": "execute_result",
          "data": {
            "text/plain": [
              "{x: 34/59, y: -6/59, z: 119/59}"
            ]
          },
          "metadata": {},
          "execution_count": 19
        }
      ]
    },
    {
      "cell_type": "markdown",
      "source": [
        "3. Решите тригонометрическое уравнение sin(2x) = cos(x) на интервале [0, 2π].\n"
      ],
      "metadata": {
        "id": "i1zvGE2CYU-L"
      }
    },
    {
      "cell_type": "code",
      "source": [
        "from sympy import symbols, sin, cos, Eq, solve, pi\n",
        "\n",
        "x = symbols('x')\n",
        "equation = Eq(sin(2*x), cos(x))\n",
        "solutions = solve(equation, x)\n",
        "solutions_in_interval = [sol for sol in solutions if sol >= 0 and sol <= 2*pi]\n",
        "solutions_in_interval"
      ],
      "metadata": {
        "id": "hsAPLuwuoTMp",
        "outputId": "fb3cb039-ebdb-4c64-9241-c47ddd333af4",
        "colab": {
          "base_uri": "https://localhost:8080/"
        }
      },
      "execution_count": 20,
      "outputs": [
        {
          "output_type": "execute_result",
          "data": {
            "text/plain": [
              "[pi/6, pi/2, 5*pi/6]"
            ]
          },
          "metadata": {},
          "execution_count": 20
        }
      ]
    },
    {
      "cell_type": "markdown",
      "source": [
        "4. Решите уравнение с параметром a: ax² + 2x + 1 = 0, выразив решения через a.\n"
      ],
      "metadata": {
        "id": "C-osxhvjYY8j"
      }
    },
    {
      "cell_type": "code",
      "source": [
        "from sympy import symbols, Eq, solve\n",
        "\n",
        "x, a = symbols('x a')\n",
        "equation = Eq(a*x**2 + 2*x + 1, 0)\n",
        "solutions = solve(equation, x)\n",
        "solutions"
      ],
      "metadata": {
        "id": "Y3_a6stgYhSx",
        "outputId": "74fc34cf-cc65-4b3f-d8fe-a0aa5094f94f",
        "colab": {
          "base_uri": "https://localhost:8080/"
        }
      },
      "execution_count": 21,
      "outputs": [
        {
          "output_type": "execute_result",
          "data": {
            "text/plain": [
              "[(-sqrt(1 - a) - 1)/a, (sqrt(1 - a) - 1)/a]"
            ]
          },
          "metadata": {},
          "execution_count": 21
        }
      ]
    },
    {
      "cell_type": "markdown",
      "source": [
        "\n",
        "5. Найдите все значения x, при которых √(x² - 9) = x - 1."
      ],
      "metadata": {
        "id": "x1naWSQaYZDC"
      }
    },
    {
      "cell_type": "code",
      "source": [
        "from sympy import symbols, Eq, sqrt, solve\n",
        "\n",
        "x = symbols('x')\n",
        "equation = Eq(sqrt(x**2 - 9), x - 1)\n",
        "solutions = solve(equation, x)\n",
        "solutions"
      ],
      "metadata": {
        "id": "lugxMeunYhfY",
        "outputId": "f846c5f7-8020-40a1-8115-ae361b5aee66",
        "colab": {
          "base_uri": "https://localhost:8080/"
        }
      },
      "execution_count": 23,
      "outputs": [
        {
          "output_type": "execute_result",
          "data": {
            "text/plain": [
              "[5]"
            ]
          },
          "metadata": {},
          "execution_count": 23
        }
      ]
    },
    {
      "cell_type": "markdown",
      "source": [
        "## **Раздел 3: Символьное дифференцирование и интегрирование**\n"
      ],
      "metadata": {
        "id": "kTEB2OTmYSE3"
      }
    },
    {
      "cell_type": "markdown",
      "source": [
        "1. Найдите первую и вторую производные функции f(x) = ln(x²) · sin(3x).\n"
      ],
      "metadata": {
        "id": "1hjL8_5AYetR"
      }
    },
    {
      "cell_type": "code",
      "source": [
        "from sympy import symbols, diff, ln, sin\n",
        "x = symbols('x')\n",
        "f = ln(x**2) * sin(3*x)\n",
        "first_derivative = diff(f, x)\n",
        "second_derivative = diff(f, x, 2)\n",
        "first_derivative, second_derivative"
      ],
      "metadata": {
        "id": "4O_jpS2vYpdR",
        "outputId": "90ae3480-afa4-4379-fef4-9c6df035c86e",
        "colab": {
          "base_uri": "https://localhost:8080/"
        }
      },
      "execution_count": 24,
      "outputs": [
        {
          "output_type": "execute_result",
          "data": {
            "text/plain": [
              "(3*log(x**2)*cos(3*x) + 2*sin(3*x)/x,\n",
              " -9*log(x**2)*sin(3*x) + 12*cos(3*x)/x - 2*sin(3*x)/x**2)"
            ]
          },
          "metadata": {},
          "execution_count": 24
        }
      ]
    },
    {
      "cell_type": "markdown",
      "source": [
        "2. Вычислите частные производные ∂f/∂x и ∂f/∂y для функции f(x, y) = e^(xy) · cos(x + y).\n"
      ],
      "metadata": {
        "id": "ZZo6yu8rYev8"
      }
    },
    {
      "cell_type": "code",
      "source": [
        "from sympy import symbols, exp, cos, diff\n",
        "x, y = symbols('x y')\n",
        "f = exp(x*y) * cos(x + y)\n",
        "df_dx = diff(f, x)\n",
        "df_dy = diff(f, y)\n",
        "df_dx, df_dy"
      ],
      "metadata": {
        "id": "WwrHNYdoYpvA",
        "outputId": "8330cdb3-1c4e-41c3-8e89-cda4fae09122",
        "colab": {
          "base_uri": "https://localhost:8080/"
        }
      },
      "execution_count": 25,
      "outputs": [
        {
          "output_type": "execute_result",
          "data": {
            "text/plain": [
              "(y*exp(x*y)*cos(x + y) - exp(x*y)*sin(x + y),\n",
              " x*exp(x*y)*cos(x + y) - exp(x*y)*sin(x + y))"
            ]
          },
          "metadata": {},
          "execution_count": 25
        }
      ]
    },
    {
      "cell_type": "markdown",
      "source": [
        "3. Найдите неопределённый интеграл ∫ (x³ + 2x²√x - 3/x) dx.\n"
      ],
      "metadata": {
        "id": "1_Qvcb3AYeyT"
      }
    },
    {
      "cell_type": "code",
      "source": [
        "from sympy import symbols, integrate, sqrt\n",
        "x = symbols('x')\n",
        "f = x**3 + 2*x**2*sqrt(x) - 3/x\n",
        "indefinite_integral = integrate(f, x)\n",
        "indefinite_integral"
      ],
      "metadata": {
        "id": "5cZ82s8kYp8X",
        "outputId": "3fee6d52-c8a7-47e2-fcdc-399362bba102",
        "colab": {
          "base_uri": "https://localhost:8080/",
          "height": 56
        }
      },
      "execution_count": 26,
      "outputs": [
        {
          "output_type": "execute_result",
          "data": {
            "text/plain": [
              "4*x**(7/2)/7 + x**4/4 - 3*log(x)"
            ],
            "text/latex": "$\\displaystyle \\frac{4 x^{\\frac{7}{2}}}{7} + \\frac{x^{4}}{4} - 3 \\log{\\left(x \\right)}$"
          },
          "metadata": {},
          "execution_count": 26
        }
      ]
    },
    {
      "cell_type": "markdown",
      "source": [
        "4. Вычислите определённый интеграл ∫[0,π/2] sin²(x)cos²(x) dx.\n"
      ],
      "metadata": {
        "id": "SzWJHi4YYl8K"
      }
    },
    {
      "cell_type": "code",
      "source": [
        "from sympy import symbols, integrate, sin, cos, pi\n",
        "x = symbols('x')\n",
        "f = (sin(x)**2)*(cos(x)**2)\n",
        "definite_integral = integrate(f, (x, 0, pi/2))\n",
        "definite_integral"
      ],
      "metadata": {
        "id": "Yt8KuKsAYqX8",
        "outputId": "93b0e359-d73c-4764-f0c2-67308a5fa232",
        "colab": {
          "base_uri": "https://localhost:8080/",
          "height": 47
        }
      },
      "execution_count": 27,
      "outputs": [
        {
          "output_type": "execute_result",
          "data": {
            "text/plain": [
              "pi/16"
            ],
            "text/latex": "$\\displaystyle \\frac{\\pi}{16}$"
          },
          "metadata": {},
          "execution_count": 27
        }
      ]
    },
    {
      "cell_type": "markdown",
      "source": [
        "5. Найдите предел lim[x→0] (sin(3x) - 3sin(x))/x³.\n"
      ],
      "metadata": {
        "id": "K3ETGx9hYna2"
      }
    },
    {
      "cell_type": "code",
      "source": [
        "from sympy import symbols, sin, limit\n",
        "x = symbols('x')\n",
        "f = (sin(3*x) - 3*sin(x))/x**3\n",
        "lim = limit(f, x, 0)\n",
        "lim"
      ],
      "metadata": {
        "id": "ct8PaEa8Yqnf",
        "outputId": "5ee49ea8-8fa1-4f52-83af-87ecd6103edb",
        "colab": {
          "base_uri": "https://localhost:8080/",
          "height": 37
        }
      },
      "execution_count": 28,
      "outputs": [
        {
          "output_type": "execute_result",
          "data": {
            "text/plain": [
              "-4"
            ],
            "text/latex": "$\\displaystyle -4$"
          },
          "metadata": {},
          "execution_count": 28
        }
      ]
    },
    {
      "cell_type": "markdown",
      "source": [
        "## **Раздел 4: Работа с матрицами**\n",
        "\n"
      ],
      "metadata": {
        "id": "3NA33Z_RYrXk"
      }
    },
    {
      "cell_type": "markdown",
      "source": [
        "1. Создайте символьную матрицу A размером 3×3, где элемент a_ij = i·j + i + j.\n"
      ],
      "metadata": {
        "id": "oEVCvGI9YvWZ"
      }
    },
    {
      "cell_type": "code",
      "source": [
        "from sympy import Matrix, symbols\n",
        "A = Matrix([[i*j + i + j for j in range(1,4)] for i in range(1,4)])\n",
        "A"
      ],
      "metadata": {
        "id": "QEb9rQYIZGKl",
        "outputId": "8fa114ff-5173-43e3-8406-06a55ce53ceb",
        "colab": {
          "base_uri": "https://localhost:8080/",
          "height": 78
        }
      },
      "execution_count": 29,
      "outputs": [
        {
          "output_type": "execute_result",
          "data": {
            "text/plain": [
              "Matrix([\n",
              "[3,  5,  7],\n",
              "[5,  8, 11],\n",
              "[7, 11, 15]])"
            ],
            "text/latex": "$\\displaystyle \\left[\\begin{matrix}3 & 5 & 7\\\\5 & 8 & 11\\\\7 & 11 & 15\\end{matrix}\\right]$"
          },
          "metadata": {},
          "execution_count": 29
        }
      ]
    },
    {
      "cell_type": "markdown",
      "source": [
        "2. Для матрицы A найдите:\n",
        "   - Детерминант\n",
        "   - Обратную матрицу A^(-1)\n",
        "   - Собственные значения и собственные векторы"
      ],
      "metadata": {
        "id": "3H5h6ok1YvZk"
      }
    },
    {
      "cell_type": "code",
      "source": [
        "det_A = A.det()\n",
        "inv_A = A.pinv()\n",
        "eigenvals_A = A.eigenvals()\n",
        "eigenvects_A = A.eigenvects()\n",
        "det_A, inv_A, eigenvals_A, eigenvects_A"
      ],
      "metadata": {
        "id": "elAQdiVfZGYz",
        "outputId": "5d7ab3b9-2e3b-4828-e6c6-a375de7af43a",
        "colab": {
          "base_uri": "https://localhost:8080/"
        }
      },
      "execution_count": 31,
      "outputs": [
        {
          "output_type": "execute_result",
          "data": {
            "text/plain": [
              "(0,\n",
              " Matrix([\n",
              " [ -28/9, -11/18,  17/9],\n",
              " [-11/18,   -1/9,  7/18],\n",
              " [  17/9,   7/18, -10/9]]),\n",
              " {13 - 5*sqrt(7): 1, 13 + 5*sqrt(7): 1, 0: 1},\n",
              " [(0,\n",
              "   1,\n",
              "   [Matrix([\n",
              "    [ 1],\n",
              "    [-2],\n",
              "    [ 1]])]),\n",
              "  (13 - 5*sqrt(7),\n",
              "   1,\n",
              "   [Matrix([\n",
              "    [-2*sqrt(7)/5 - 3/5],\n",
              "    [   1/5 - sqrt(7)/5],\n",
              "    [                 1]])]),\n",
              "  (13 + 5*sqrt(7),\n",
              "   1,\n",
              "   [Matrix([\n",
              "    [-3/5 + 2*sqrt(7)/5],\n",
              "    [   1/5 + sqrt(7)/5],\n",
              "    [                 1]])])])"
            ]
          },
          "metadata": {},
          "execution_count": 31
        }
      ]
    },
    {
      "cell_type": "markdown",
      "source": [
        "3. Пусть символьная матрица B = [[a, b], [c, d]]. Выразите условие, при котором det(B) = 1.\n"
      ],
      "metadata": {
        "id": "2OwWIw-OYx5f"
      }
    },
    {
      "cell_type": "code",
      "source": [
        "from sympy import symbols\n",
        "a, b, c, d = symbols('a b c d')\n",
        "B = Matrix([[a, b], [c, d]])\n",
        "det_condition = B.det() - 1\n",
        "det_condition"
      ],
      "metadata": {
        "id": "Gst1jHFuZG82",
        "outputId": "d347cea8-2ef1-4ff8-8d56-1ad6f6e5f7e1",
        "colab": {
          "base_uri": "https://localhost:8080/",
          "height": 39
        }
      },
      "execution_count": 32,
      "outputs": [
        {
          "output_type": "execute_result",
          "data": {
            "text/plain": [
              "a*d - b*c - 1"
            ],
            "text/latex": "$\\displaystyle a d - b c - 1$"
          },
          "metadata": {},
          "execution_count": 32
        }
      ]
    },
    {
      "cell_type": "markdown",
      "source": [
        "4. Решите матричное уравнение AX = B, где A = [[2, 1], [3, 2]], B = [[4], [5]].\n"
      ],
      "metadata": {
        "id": "N6197S7aYzOm"
      }
    },
    {
      "cell_type": "code",
      "source": [
        "A = Matrix([[2, 1], [3, 2]])\n",
        "B = Matrix([[4], [5]])\n",
        "X = A.solve(B)\n",
        "X"
      ],
      "metadata": {
        "id": "2_l-2YYdZHM_",
        "outputId": "d97953a2-b5c8-4686-d238-3382c797fcf3",
        "colab": {
          "base_uri": "https://localhost:8080/",
          "height": 58
        }
      },
      "execution_count": 33,
      "outputs": [
        {
          "output_type": "execute_result",
          "data": {
            "text/plain": [
              "Matrix([\n",
              "[ 3],\n",
              "[-2]])"
            ],
            "text/latex": "$\\displaystyle \\left[\\begin{matrix}3\\\\-2\\end{matrix}\\right]$"
          },
          "metadata": {},
          "execution_count": 33
        }
      ]
    },
    {
      "cell_type": "markdown",
      "source": [
        "\n",
        "5. Для матрицы C = [[x, y, z], [2x, 0, -z], [3y, x, 4z]] найдите значения переменных x, y, z, при которых rank(C) = 1."
      ],
      "metadata": {
        "id": "u3RmVOefYukJ"
      }
    },
    {
      "cell_type": "code",
      "source": [
        "from sympy import symbols, solve, Matrix\n",
        "x, y, z = symbols('x y z')\n",
        "C = Matrix([\n",
        "    [x, y, z],\n",
        "    [2*x, 0, -z],\n",
        "    [3*y, x, 4*z]\n",
        "])\n",
        "\n",
        "minors = []\n",
        "for i in range(2):\n",
        "    for j in range(3):\n",
        "        minors.append(C.minor(i, j))\n",
        "\n",
        "conditions = minors + [\n",
        "    C[0,0]*C[1,1] - C[0,1]*C[1,0],\n",
        "    C[0,0]*C[1,2] - C[0,2]*C[1,0],\n",
        "    C[0,1]*C[1,2] - C[0,2]*C[1,1]\n",
        "]\n",
        "\n",
        "solutions = solve(conditions, (x, y, z))\n",
        "solutions"
      ],
      "metadata": {
        "id": "ZjGk7oYVZIg1",
        "outputId": "98aeb3ac-2682-4642-d1ca-7f93f0e3cb89",
        "colab": {
          "base_uri": "https://localhost:8080/"
        }
      },
      "execution_count": 37,
      "outputs": [
        {
          "output_type": "execute_result",
          "data": {
            "text/plain": [
              "[(0, 0, z)]"
            ]
          },
          "metadata": {},
          "execution_count": 37
        }
      ]
    },
    {
      "cell_type": "markdown",
      "source": [
        "## **Раздел 5: Дифференциальные уравнения**\n"
      ],
      "metadata": {
        "id": "u8FoFiuBYrej"
      }
    },
    {
      "cell_type": "markdown",
      "source": [
        "1. Решите дифференциальное уравнение y' = y·sin(x) с начальным условием y(0) = 1.\n"
      ],
      "metadata": {
        "id": "HA4T3rbcY3T-"
      }
    },
    {
      "cell_type": "code",
      "source": [
        "from sympy import symbols, Function, dsolve, Eq, sin\n",
        "\n",
        "x = symbols('x')\n",
        "y = Function('y')(x)\n",
        "ode = Eq(y.diff(x), y * sin(x))\n",
        "dsolve(ode, ics={y.subs(x, 0): 1})"
      ],
      "metadata": {
        "id": "YEqYzstZZJl2",
        "outputId": "f21fc537-f729-49cc-a4c8-d5c024eca64b",
        "colab": {
          "base_uri": "https://localhost:8080/",
          "height": 39
        }
      },
      "execution_count": 38,
      "outputs": [
        {
          "output_type": "execute_result",
          "data": {
            "text/plain": [
              "Eq(y(x), E*exp(-cos(x)))"
            ],
            "text/latex": "$\\displaystyle y{\\left(x \\right)} = e e^{- \\cos{\\left(x \\right)}}$"
          },
          "metadata": {},
          "execution_count": 38
        }
      ]
    },
    {
      "cell_type": "markdown",
      "source": [
        "2. Найдите общее решение дифференциального уравнения y'' - 4y' + 4y = e^(2x).\n"
      ],
      "metadata": {
        "id": "1owUa1hUY6MC"
      }
    },
    {
      "cell_type": "code",
      "source": [
        "from sympy import symbols, Function, dsolve, Eq, exp\n",
        "\n",
        "x = symbols('x')\n",
        "y = Function('y')(x)\n",
        "ode = Eq(y.diff(x, 2) - 4*y.diff(x) + 4*y, exp(2*x))\n",
        "dsolve(ode)"
      ],
      "metadata": {
        "id": "GKShXsRdZJ0R",
        "outputId": "eace51c2-58af-443d-a0cf-71901f4e4fd7",
        "colab": {
          "base_uri": "https://localhost:8080/",
          "height": 48
        }
      },
      "execution_count": 39,
      "outputs": [
        {
          "output_type": "execute_result",
          "data": {
            "text/plain": [
              "Eq(y(x), (C1 + x*(C2 + x/2))*exp(2*x))"
            ],
            "text/latex": "$\\displaystyle y{\\left(x \\right)} = \\left(C_{1} + x \\left(C_{2} + \\frac{x}{2}\\right)\\right) e^{2 x}$"
          },
          "metadata": {},
          "execution_count": 39
        }
      ]
    },
    {
      "cell_type": "markdown",
      "source": [
        "3. Решите систему дифференциальных уравнений:\n",
        "   ```\n",
        "   x'(t) = 2x(t) - 3y(t)\n",
        "   y'(t) = x(t) + 2y(t)\n",
        "   ```\n",
        "\n",
        "      с начальными условиями x(0) = 1, y(0) = 0.\n"
      ],
      "metadata": {
        "id": "_Z0BvKHMY6Sm"
      }
    },
    {
      "cell_type": "code",
      "source": [
        "from sympy import symbols, Function, dsolve, Eq\n",
        "\n",
        "t = symbols('t')\n",
        "x = Function('x')(t)\n",
        "y = Function('y')(t)\n",
        "eq1 = Eq(x.diff(t), 2*x - 3*y)\n",
        "eq2 = Eq(y.diff(t), x + 2*y)\n",
        "solution = dsolve((eq1, eq2), ics={x.subs(t, 0): 1, y.subs(t, 0): 0})\n",
        "solution\n"
      ],
      "metadata": {
        "id": "RASn0VLuZKC9",
        "outputId": "f61bc6c5-74eb-430b-fade-992bb5bc04aa",
        "colab": {
          "base_uri": "https://localhost:8080/"
        }
      },
      "execution_count": 42,
      "outputs": [
        {
          "output_type": "execute_result",
          "data": {
            "text/plain": [
              "[Eq(x(t), exp(2*t)*cos(sqrt(3)*t)),\n",
              " Eq(y(t), sqrt(3)*exp(2*t)*sin(sqrt(3)*t)/3)]"
            ]
          },
          "metadata": {},
          "execution_count": 42
        }
      ]
    },
    {
      "cell_type": "markdown",
      "source": [
        "4. Решите дифференциальное уравнение y' = x²y с начальным условием y(1) = 2.\n"
      ],
      "metadata": {
        "id": "kvffsFKYZBLw"
      }
    },
    {
      "cell_type": "code",
      "source": [
        "from sympy import symbols, Function, dsolve, Eq, sin\n",
        "x = symbols('x')\n",
        "y = Function('y')(x)\n",
        "\n",
        "ode = Eq(y.diff(x), y * x**2)\n",
        "dsolve(ode, ics={y.subs(x, 1): 2})"
      ],
      "metadata": {
        "id": "13FBpeCFZKgd",
        "outputId": "793f924b-00ae-4343-fdef-b3d3b3de0947",
        "colab": {
          "base_uri": "https://localhost:8080/",
          "height": 62
        }
      },
      "execution_count": 44,
      "outputs": [
        {
          "output_type": "execute_result",
          "data": {
            "text/plain": [
              "Eq(y(x), 2*exp(-1/3)*exp(x**3/3))"
            ],
            "text/latex": "$\\displaystyle y{\\left(x \\right)} = \\frac{2 e^{\\frac{x^{3}}{3}}}{e^{\\frac{1}{3}}}$"
          },
          "metadata": {},
          "execution_count": 44
        }
      ]
    },
    {
      "cell_type": "markdown",
      "source": [
        "5. Найдите частное решение неоднородного дифференциального уравнения y'' + y = tan(x) при условиях y(0) = 0, y'(0) = 1.\n"
      ],
      "metadata": {
        "id": "TSBtcm1BW4Ro"
      }
    },
    {
      "cell_type": "code",
      "source": [
        "# Ваш код"
      ],
      "metadata": {
        "id": "r9XPcMh8ZKu3"
      },
      "execution_count": null,
      "outputs": []
    }
  ]
}