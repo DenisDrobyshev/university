{
  "nbformat": 4,
  "nbformat_minor": 0,
  "metadata": {
    "colab": {
      "provenance": [],
      "include_colab_link": true
    },
    "kernelspec": {
      "name": "python3",
      "display_name": "Python 3"
    },
    "language_info": {
      "name": "python"
    }
  },
  "cells": [
    {
      "cell_type": "markdown",
      "metadata": {
        "id": "view-in-github",
        "colab_type": "text"
      },
      "source": [
        "<a href=\"https://colab.research.google.com/github/DenisDrobyshev/university/blob/master/14_05_2025_%D0%94%D0%B8%D0%B0%D0%B3%D0%BD%D0%BE%D1%81%D1%82%D0%B8%D1%87%D0%B5%D1%81%D0%BA%D0%B0%D1%8F_%D1%80%D0%B0%D0%B1%D0%BE%D1%82%D0%B0_%E2%84%967_%D0%90%D0%B2%D1%82%D0%BE%D0%BC%D0%B0%D1%82%D0%B8%D0%B7%D0%B8%D1%80%D0%BE%D0%B2%D0%B0%D0%BD%D0%BD%D0%BE%D0%B5_%D1%84%D0%BE%D1%80%D0%BC%D0%B8%D1%80%D0%BE%D0%B2%D0%B0%D0%BD%D0%B8%D0%B5_%D0%BE%D1%82%D1%87%D0%B5%D1%82%D0%BE%D0%B2_%D0%BE_%D1%80%D0%B5%D0%B7%D1%83%D0%BB%D1%8C%D1%82%D0%B0%D1%82%D0%B0%D1%85_%D0%B2%D1%8B%D1%87%D0%B8%D1%81%D0%BB%D0%B5%D0%BD%D0%B8%D0%B8%CC%86.ipynb\" target=\"_parent\"><img src=\"https://colab.research.google.com/assets/colab-badge.svg\" alt=\"Open In Colab\"/></a>"
      ]
    },
    {
      "cell_type": "markdown",
      "metadata": {
        "id": "17c1d9e8"
      },
      "source": [
        "# **Диагностическая работа №7. Автоматизированное формирование отчетов о результатах вычислений**"
      ]
    },
    {
      "cell_type": "markdown",
      "source": [
        "## **Задание №1. Создание простого Markdown-документа**\n"
      ],
      "metadata": {
        "id": "C40yAEQAiduD"
      }
    },
    {
      "cell_type": "markdown",
      "source": [
        "\n",
        "Создайте Markdown-документ, содержащий:\n",
        "- Заголовок первого уровня \"Анализ данных о погоде\"\n",
        "- Подзаголовок второго уровня \"Введение\"\n",
        "- Краткое описание (2-3 предложения) о важности анализа погодных данных\n",
        "- Нумерованный список с тремя основными параметрами погоды, которые будут анализироваться\n"
      ],
      "metadata": {
        "id": "DHghZr7ChsHS"
      }
    },
    {
      "cell_type": "code",
      "execution_count": 1,
      "metadata": {
        "vscode": {
          "languageId": "plaintext"
        },
        "id": "tdo8dbPSig4F"
      },
      "outputs": [],
      "source": [
        "report = r'''\n",
        "# Анализ данных о погоде\n",
        "\n",
        "## Введение\n",
        "\n",
        "Анализ погодных данных играет важную роль в различных областях, от сельского хозяйства и энергетики до планирования транспортных потоков и обеспечения безопасности населения.  Понимание погодных тенденций позволяет принимать обоснованные решения и минимизировать риски, связанные с экстремальными погодными явлениями.\n",
        "\n",
        "1. Температура\n",
        "2. Атмосферное давление\n",
        "3. Осадки\n",
        "'''"
      ]
    },
    {
      "cell_type": "markdown",
      "source": [
        "## **Задание №2. Добавление математических выражений**\n"
      ],
      "metadata": {
        "id": "CjUWJdVsiZ04"
      }
    },
    {
      "cell_type": "markdown",
      "source": [
        "\n",
        "Дополните Markdown-документ из задания 1:\n",
        "- Добавьте подзаголовок \"Расчет средних показателей\"\n",
        "- Напишите в LaTeX-формате формулу среднего арифметического: $\\bar{x} = \\frac{1}{n}\\sum_{i=1}^{n} x_i$\n",
        "- Добавьте краткое пояснение, для чего используется эта формула\n",
        "\n"
      ],
      "metadata": {
        "id": "66Tgh3KyiXoh"
      }
    },
    {
      "cell_type": "code",
      "execution_count": 2,
      "metadata": {
        "vscode": {
          "languageId": "plaintext"
        },
        "id": "JLjZYa_aigka",
        "outputId": "cb789d1b-e786-459c-9f2e-96ec33a54fe6",
        "colab": {
          "base_uri": "https://localhost:8080/",
          "height": 139
        }
      },
      "outputs": [
        {
          "output_type": "execute_result",
          "data": {
            "text/plain": [
              "'\\n# Анализ данных о погоде\\n\\n## Введение\\n\\nАнализ погодных данных играет важную роль в различных областях, от сельского хозяйства и энергетики до планирования транспортных потоков и обеспечения безопасности населения.  Понимание погодных тенденций позволяет принимать обоснованные решения и минимизировать риски, связанные с экстремальными погодными явлениями.\\n\\n1. Температура\\n2. Атмосферное давление\\n3. Осадки\\n\\n## Расчет средних показателей\\n\\n$\\\\bar{x} = \\\\frac{1}{n}\\\\sum_{i=1}^{n} x_i$\\n\\nЭта формула используется для вычисления среднего арифметического значения набора данных.  Она суммирует все значения в наборе и делит сумму на количество значений.\\n'"
            ],
            "application/vnd.google.colaboratory.intrinsic+json": {
              "type": "string"
            }
          },
          "metadata": {},
          "execution_count": 2
        }
      ],
      "source": [
        "report = r'''\n",
        "# Анализ данных о погоде\n",
        "\n",
        "## Введение\n",
        "\n",
        "Анализ погодных данных играет важную роль в различных областях, от сельского хозяйства и энергетики до планирования транспортных потоков и обеспечения безопасности населения.  Понимание погодных тенденций позволяет принимать обоснованные решения и минимизировать риски, связанные с экстремальными погодными явлениями.\n",
        "\n",
        "1. Температура\n",
        "2. Атмосферное давление\n",
        "3. Осадки\n",
        "\n",
        "## Расчет средних показателей\n",
        "\n",
        "$\\bar{x} = \\frac{1}{n}\\sum_{i=1}^{n} x_i$\n",
        "\n",
        "Эта формула используется для вычисления среднего арифметического значения набора данных.  Она суммирует все значения в наборе и делит сумму на количество значений.\n",
        "'''\n",
        "report\n"
      ]
    },
    {
      "cell_type": "markdown",
      "source": [
        "## **Задание №3. Использование Python для генерации данных**\n"
      ],
      "metadata": {
        "id": "Bj05DG8IiVkO"
      }
    },
    {
      "cell_type": "markdown",
      "source": [
        "\n",
        "Напишите небольшой Python-скрипт, который:\n",
        "- Генерирует данные о температуре воздуха за 5 дней (случайные значения)\n",
        "- Создает Markdown-таблицу с колонками \"День\", \"Температура (°C)\", \"Состояние\"\n",
        "- Состояние определяется по температуре: \"Холодно\" (<10°C), \"Умеренно\" (10-20°C), \"Тепло\" (>20°C)\n",
        "\n"
      ],
      "metadata": {
        "id": "hHKC_oYYiTYg"
      }
    },
    {
      "cell_type": "code",
      "execution_count": 3,
      "metadata": {
        "vscode": {
          "languageId": "plaintext"
        },
        "id": "Dczkmz5WigPy",
        "outputId": "29091f7e-4010-4bf4-ba7e-2caaa501ff8b",
        "colab": {
          "base_uri": "https://localhost:8080/",
          "height": 52
        }
      },
      "outputs": [
        {
          "output_type": "execute_result",
          "data": {
            "text/plain": [
              "'| День | Температура (°C) | Состояние |\\n|---|---|---|\\n| 1 | 18 | Умеренно |\\n| 2 | 12 | Умеренно |\\n| 3 | 25 | Тепло |\\n| 4 | 23 | Тепло |\\n| 5 | 25 | Тепло |\\n'"
            ],
            "application/vnd.google.colaboratory.intrinsic+json": {
              "type": "string"
            }
          },
          "metadata": {},
          "execution_count": 3
        }
      ],
      "source": [
        "import random\n",
        "\n",
        "temperatures = [random.randint(5, 25) for _ in range(5)]\n",
        "\n",
        "markdown_table = \"| День | Температура (°C) | Состояние |\\n\"\n",
        "markdown_table += \"|---|---|---|\\n\"\n",
        "\n",
        "for i, temp in enumerate(temperatures):\n",
        "    if temp < 10:\n",
        "        state = \"Холодно\"\n",
        "    elif 10 <= temp <= 20:\n",
        "        state = \"Умеренно\"\n",
        "    else:\n",
        "        state = \"Тепло\"\n",
        "    markdown_table += f\"| {i+1} | {temp} | {state} |\\n\"\n",
        "\n",
        "markdown_table\n"
      ]
    },
    {
      "cell_type": "markdown",
      "source": [
        "## **Задание №4. Мини-отчет с визуализацией**\n"
      ],
      "metadata": {
        "id": "rU_rAOGhiSBr"
      }
    },
    {
      "cell_type": "markdown",
      "source": [
        "\n",
        "Создайте Python-скрипт, который:\n",
        "- Генерирует данные о температуре и влажности за неделю (7 дней)\n",
        "- Вычисляет среднюю температуру и среднюю влажность\n",
        "- Формирует отчет в формате Markdown с таблицей данных и вычисленными средними значениями\n",
        "- Добавляет в отчет столбчатую диаграмму с показателями температуры по дням недели"
      ],
      "metadata": {
        "id": "9OPcKAMXiQT9"
      }
    },
    {
      "cell_type": "code",
      "execution_count": 5,
      "metadata": {
        "vscode": {
          "languageId": "plaintext"
        },
        "id": "6d3300c8",
        "outputId": "48279bc4-49dc-43b1-b614-e19c58d44cd4",
        "colab": {
          "base_uri": "https://localhost:8080/",
          "height": 540
        }
      },
      "outputs": [
        {
          "output_type": "display_data",
          "data": {
            "text/plain": [
              "<Figure size 1000x600 with 1 Axes>"
            ],
            "image/png": "[encoded data removed]"
          },
          "metadata": {}
        }
      ],
      "source": [
        "import random\n",
        "import pandas as pd\n",
        "import matplotlib.pyplot as plt\n",
        "\n",
        "days = ['Понедельник', 'Вторник', 'Среда', 'Четверг', 'Пятница', 'Суббота', 'Воскресенье']\n",
        "temperatures = [random.randint(15, 30) for _ in range(7)]\n",
        "humidity = [random.randint(40, 90) for _ in range(7)]\n",
        "\n",
        "avg_temp = sum(temperatures) / len(temperatures)\n",
        "avg_humidity = sum(humidity) / len(humidity)\n",
        "\n",
        "data = {'День': days, 'Температура (°C)': temperatures, 'Влажность (%)': humidity}\n",
        "df = pd.DataFrame(data)\n",
        "\n",
        "report = f'''\n",
        "# Анализ данных о погоде за неделю\n",
        "\n",
        "## Данные о температуре и влажности\n",
        "\n",
        "| День        | Температура (°C) | Влажность (%) |\n",
        "|-------------|-----------------|----------------|\n",
        "'''\n",
        "\n",
        "for index, row in df.iterrows():\n",
        "    report += f\"| {row['День']} | {row['Температура (°C)']} | {row['Влажность (%)']} |\\n\"\n",
        "\n",
        "report += f'''\n",
        "| **Среднее** | **{avg_temp:.2f}** | **{avg_humidity:.2f}** |\n",
        "\n",
        "\n",
        "## График температуры\n",
        "\n",
        "'''\n",
        "\n",
        "plt.figure(figsize=(10, 6))\n",
        "plt.bar(days, temperatures, color='skyblue')\n",
        "plt.xlabel(\"День недели\")\n",
        "plt.ylabel(\"Температура (°C)\")\n",
        "plt.title(\"Температура за неделю\")\n",
        "plt.grid(axis='y', linestyle='--', alpha=0.7)\n",
        "plt.savefig('temperature_chart.png')\n",
        "\n",
        "report += \"![](/content/temperature_chart.png)\" # Добавляем график в отчет\n",
        "\n",
        "report\n",
        "with open('report.md', 'w') as f:\n",
        "    # Записываем отчет\n",
        "    f.write(report)\n",
        "\n"
      ]
    }
  ]
}