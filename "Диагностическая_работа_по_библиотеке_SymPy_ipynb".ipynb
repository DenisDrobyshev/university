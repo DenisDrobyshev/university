{
  "nbformat": 4,
  "nbformat_minor": 0,
  "metadata": {
    "colab": {
      "provenance": [],
      "include_colab_link": true
    },
    "kernelspec": {
      "name": "python3",
      "display_name": "Python 3"
    },
    "language_info": {
      "name": "python"
    }
  },
  "cells": [
    {
      "cell_type": "markdown",
      "metadata": {
        "id": "view-in-github",
        "colab_type": "text"
      },
      "source": [
        "<a href=\"https://colab.research.google.com/github/DenisDrobyshev/university/blob/master/%22%D0%94%D0%B8%D0%B0%D0%B3%D0%BD%D0%BE%D1%81%D1%82%D0%B8%D1%87%D0%B5%D1%81%D0%BA%D0%B0%D1%8F_%D1%80%D0%B0%D0%B1%D0%BE%D1%82%D0%B0_%D0%BF%D0%BE_%D0%B1%D0%B8%D0%B1%D0%BB%D0%B8%D0%BE%D1%82%D0%B5%D0%BA%D0%B5_SymPy_ipynb%22.ipynb\" target=\"_parent\"><img src=\"https://colab.research.google.com/assets/colab-badge.svg\" alt=\"Open In Colab\"/></a>"
      ]
    },
    {
      "cell_type": "markdown",
      "source": [
        "# **Диагностическая работа №6. Библиотека SymPy**"
      ],
      "metadata": {
        "id": "5IwP5dxOX8aJ"
      }
    },
    {
      "cell_type": "markdown",
      "source": [
        "### **Для удовлетворительной оценки необходимо выполнить по 3 задания из каждого раздела**"
      ],
      "metadata": {
        "id": "CUrdVRAPZj0C"
      }
    },
    {
      "cell_type": "markdown",
      "source": [
        "## **Раздел 1. Символьные преобразования выражений**\n"
      ],
      "metadata": {
        "id": "vw35TLHOYEp4"
      }
    },
    {
      "cell_type": "markdown",
      "source": [
        "1. Создайте символьные переменные a, b, c и выражение f(a, b, c) = a³ - 2a²b + 3bc² - 5c.\n"
      ],
      "metadata": {
        "id": "A_usgdqVf_gH"
      }
    },
    {
      "cell_type": "code",
      "source": [
        "from sympy import symbols\n",
        "a, b, c = symbols('a b c')\n",
        "expr = a**3-2*a**2*b+3*b*c**2-5*c\n",
        "display(expr)"
      ],
      "metadata": {
        "id": "rBHmpuo5gEc7",
        "colab": {
          "base_uri": "https://localhost:8080/",
          "height": 39
        },
        "outputId": "a3c91e19-dbbe-4f6d-e907-677f7e011e15"
      },
      "execution_count": null,
      "outputs": [
        {
          "output_type": "display_data",
          "data": {
            "text/plain": [
              "a**3 - 2*a**2*b + 3*b*c**2 - 5*c"
            ],
            "text/latex": "$\\displaystyle a^{3} - 2 a^{2} b + 3 b c^{2} - 5 c$"
          },
          "metadata": {}
        }
      ]
    },
    {
      "cell_type": "markdown",
      "source": [
        "2. Выполните подстановку значений a = 3, b = -2, c = 1 в выражение и вычислите результат.\n"
      ],
      "metadata": {
        "id": "MESp3T7tf_3J"
      }
    },
    {
      "cell_type": "code",
      "source": [
        "res = expr.subs({a:3, b:-2, c:1})\n",
        "display(res)"
      ],
      "metadata": {
        "id": "MJwjIQLzgEr1",
        "colab": {
          "base_uri": "https://localhost:8080/",
          "height": 37
        },
        "outputId": "4a468f0a-092f-4341-92aa-cf705ec3978e"
      },
      "execution_count": null,
      "outputs": [
        {
          "output_type": "display_data",
          "data": {
            "text/plain": [
              "52"
            ],
            "text/latex": "$\\displaystyle 52$"
          },
          "metadata": {}
        }
      ]
    },
    {
      "cell_type": "markdown",
      "source": [
        "3. Раскройте скобки в выражении (x - 2y)³ + (x + 2y)³.\n"
      ],
      "metadata": {
        "id": "bALi5U-ggBKF"
      }
    },
    {
      "cell_type": "code",
      "source": [
        "from sympy import expand\n",
        "\n",
        "x, y = symbols('x y')\n",
        "expr = (x - 2*y)**3 + (x + 2*y)**3\n",
        "expanded_expr = expand(expr)\n",
        "display(expanded_expr)"
      ],
      "metadata": {
        "id": "vj4IiebigE_p",
        "colab": {
          "base_uri": "https://localhost:8080/",
          "height": 39
        },
        "outputId": "f5069ac1-3004-4cc5-f0ee-01c9810b8e77"
      },
      "execution_count": null,
      "outputs": [
        {
          "output_type": "display_data",
          "data": {
            "text/plain": [
              "2*x**3 + 24*x*y**2"
            ],
            "text/latex": "$\\displaystyle 2 x^{3} + 24 x y^{2}$"
          },
          "metadata": {}
        }
      ]
    },
    {
      "cell_type": "markdown",
      "source": [
        "4. Разложите на множители выражение x⁴ - 16.\n"
      ],
      "metadata": {
        "id": "seUMsWUWgCV4"
      }
    },
    {
      "cell_type": "code",
      "source": [
        "from sympy import expand, factor\n",
        "x = symbols('x')\n",
        "expr = x**4-16\n",
        "ex_expr=factor(expr)\n",
        "display(ex_expr)"
      ],
      "metadata": {
        "id": "eLW25xO1gFT6",
        "colab": {
          "base_uri": "https://localhost:8080/",
          "height": 38
        },
        "outputId": "5d91efa3-4c6c-44c7-89cc-aeb7479b3c12"
      },
      "execution_count": null,
      "outputs": [
        {
          "output_type": "display_data",
          "data": {
            "text/plain": [
              "(x - 2)*(x + 2)*(x**2 + 4)"
            ],
            "text/latex": "$\\displaystyle \\left(x - 2\\right) \\left(x + 2\\right) \\left(x^{2} + 4\\right)$"
          },
          "metadata": {}
        }
      ]
    },
    {
      "cell_type": "markdown",
      "source": [
        "\n",
        "\n",
        "\n",
        "\n",
        "5. Приведите подобные в выражении 2xy² + 3x²y - 4xy² + x²y + 5xy², сгруппировав по степеням y."
      ],
      "metadata": {
        "id": "bIAvoJ5Gf-ZI"
      }
    },
    {
      "cell_type": "code",
      "source": [],
      "metadata": {
        "id": "XQBdsDKzYH5a"
      },
      "execution_count": null,
      "outputs": []
    },
    {
      "cell_type": "markdown",
      "source": [
        "## **Раздел 2. Решение уравнений и систем**\n"
      ],
      "metadata": {
        "id": "MMA-tmAnYUTd"
      }
    },
    {
      "cell_type": "markdown",
      "source": [
        "1. Решите уравнение x³ - 3x² - x + 3 = 0 и представьте все корни в аналитическом виде."
      ],
      "metadata": {
        "id": "EyNfdGr5gPo5"
      }
    },
    {
      "cell_type": "code",
      "source": [
        "from sympy import Eq, solve\n",
        "x = symbols('x')\n",
        "expr = Eq(x**3-3*x**2-x+3, 0)\n",
        "solution = solve(expr, x)\n",
        "for i in solution:\n",
        "  display(i)\n",
        "  print()"
      ],
      "metadata": {
        "id": "Qw9sYY-PgWMr",
        "colab": {
          "base_uri": "https://localhost:8080/",
          "height": 130
        },
        "outputId": "4c69067b-530c-43f5-f8fe-41dfcd836743"
      },
      "execution_count": null,
      "outputs": [
        {
          "output_type": "display_data",
          "data": {
            "text/plain": [
              "-1"
            ],
            "text/latex": "$\\displaystyle -1$"
          },
          "metadata": {}
        },
        {
          "output_type": "stream",
          "name": "stdout",
          "text": [
            "\n"
          ]
        },
        {
          "output_type": "display_data",
          "data": {
            "text/plain": [
              "1"
            ],
            "text/latex": "$\\displaystyle 1$"
          },
          "metadata": {}
        },
        {
          "output_type": "stream",
          "name": "stdout",
          "text": [
            "\n"
          ]
        },
        {
          "output_type": "display_data",
          "data": {
            "text/plain": [
              "3"
            ],
            "text/latex": "$\\displaystyle 3$"
          },
          "metadata": {}
        },
        {
          "output_type": "stream",
          "name": "stdout",
          "text": [
            "\n"
          ]
        }
      ]
    },
    {
      "cell_type": "markdown",
      "source": [
        "2. Найдите решения системы уравнений:\n",
        "   ```\n",
        "   2x + y + z = 8\n",
        "   x - 3y + 2z = 7\n",
        "   3x + 2y - z = 4\n",
        "   ```"
      ],
      "metadata": {
        "id": "CIdnYo5tgP9M"
      }
    },
    {
      "cell_type": "code",
      "source": [
        "from sympy import Eq, solve, symbols\n",
        "\n",
        "x, y, z = symbols('x y z')\n",
        "eq1 = Eq(2*x + y + z, 8)\n",
        "eq2 = Eq(x - 3*y + 2*z, 7)\n",
        "eq3 = Eq(3*x + 2*y - z, 4)\n",
        "\n",
        "solution = solve([eq1, eq2, eq3], (x, y, z))\n",
        "for var, val in solution.items():\n",
        "    display(f\"{var} = {val}\")"
      ],
      "metadata": {
        "id": "DwfFAXfHgWkB",
        "colab": {
          "base_uri": "https://localhost:8080/",
          "height": 73
        },
        "outputId": "cd728e33-d729-4c5f-d932-37597d886ad8"
      },
      "execution_count": null,
      "outputs": [
        {
          "output_type": "display_data",
          "data": {
            "text/plain": [
              "'x = 33/16'"
            ],
            "application/vnd.google.colaboratory.intrinsic+json": {
              "type": "string"
            }
          },
          "metadata": {}
        },
        {
          "output_type": "display_data",
          "data": {
            "text/plain": [
              "'y = 9/16'"
            ],
            "application/vnd.google.colaboratory.intrinsic+json": {
              "type": "string"
            }
          },
          "metadata": {}
        },
        {
          "output_type": "display_data",
          "data": {
            "text/plain": [
              "'z = 53/16'"
            ],
            "application/vnd.google.colaboratory.intrinsic+json": {
              "type": "string"
            }
          },
          "metadata": {}
        }
      ]
    },
    {
      "cell_type": "markdown",
      "source": [
        "3. Решите тригонометрическое уравнение cos(2x) = sin(x) на интервале [0, 2π].\n"
      ],
      "metadata": {
        "id": "8dw-9eK6gRn9"
      }
    },
    {
      "cell_type": "code",
      "source": [
        "from sympy import cos, sin, solve, Interval, pi, symbols\n",
        "\n",
        "x = symbols('x')\n",
        "equation = Eq(cos(2*x), sin(x))\n",
        "solutions = solve(equation, x, domain=Interval(0, 2*pi))\n",
        "for sol in solutions:\n",
        "    display(sol)"
      ],
      "metadata": {
        "id": "Vs1feE2pgW74",
        "colab": {
          "base_uri": "https://localhost:8080/",
          "height": 112
        },
        "outputId": "3a62a1e9-1854-4ad7-9d07-76f475fdf99b"
      },
      "execution_count": null,
      "outputs": [
        {
          "output_type": "display_data",
          "data": {
            "text/plain": [
              "-pi/2"
            ],
            "text/latex": "$\\displaystyle - \\frac{\\pi}{2}$"
          },
          "metadata": {}
        },
        {
          "output_type": "display_data",
          "data": {
            "text/plain": [
              "pi/6"
            ],
            "text/latex": "$\\displaystyle \\frac{\\pi}{6}$"
          },
          "metadata": {}
        },
        {
          "output_type": "display_data",
          "data": {
            "text/plain": [
              "5*pi/6"
            ],
            "text/latex": "$\\displaystyle \\frac{5 \\pi}{6}$"
          },
          "metadata": {}
        }
      ]
    },
    {
      "cell_type": "markdown",
      "source": [
        "4. Решите уравнение с параметром b: x² + bx + 4 = 0, выразив решения через b.\n"
      ],
      "metadata": {
        "id": "A9lAtXgJgTPK"
      }
    },
    {
      "cell_type": "code",
      "source": [
        "from sympy import solve, symbols\n",
        "\n",
        "x, b = symbols('x b')\n",
        "equation = Eq(x**2 + b*x + 4, 0)\n",
        "solutions = solve(equation, x)\n",
        "for sol in solutions:\n",
        "    display(sol)"
      ],
      "metadata": {
        "id": "MjGSiK70gXIc",
        "colab": {
          "base_uri": "https://localhost:8080/",
          "height": 94
        },
        "outputId": "8b22f21d-87a6-41bf-a11a-ed65be84081d"
      },
      "execution_count": null,
      "outputs": [
        {
          "output_type": "display_data",
          "data": {
            "text/plain": [
              "-b/2 - sqrt(b**2 - 16)/2"
            ],
            "text/latex": "$\\displaystyle - \\frac{b}{2} - \\frac{\\sqrt{b^{2} - 16}}{2}$"
          },
          "metadata": {}
        },
        {
          "output_type": "display_data",
          "data": {
            "text/plain": [
              "-b/2 + sqrt(b**2 - 16)/2"
            ],
            "text/latex": "$\\displaystyle - \\frac{b}{2} + \\frac{\\sqrt{b^{2} - 16}}{2}$"
          },
          "metadata": {}
        }
      ]
    },
    {
      "cell_type": "markdown",
      "source": [
        "\n",
        "\n",
        "\n",
        "\n",
        "\n",
        "\n",
        "5. Найдите все значения x, при которых √(x + 4) = x - 2."
      ],
      "metadata": {
        "id": "ycUFTUFmgOPd"
      }
    },
    {
      "cell_type": "code",
      "source": [],
      "metadata": {
        "id": "jIyg5gy8gXWT"
      },
      "execution_count": null,
      "outputs": []
    },
    {
      "cell_type": "markdown",
      "source": [
        "## **Раздел 3. Символьное дифференцирование и интегрирование**\n"
      ],
      "metadata": {
        "id": "kTEB2OTmYSE3"
      }
    },
    {
      "cell_type": "markdown",
      "source": [
        "1. Найдите первую и вторую производные функции f(x) = x³ · cos(2x).\n"
      ],
      "metadata": {
        "id": "WbReKYHYgbJk"
      }
    },
    {
      "cell_type": "code",
      "source": [
        "from sympy import diff, cos, symbols\n",
        "\n",
        "x = symbols('x')\n",
        "f = x**3 * cos(2*x)\n",
        "first_derivative = diff(f, x)\n",
        "second_derivative = diff(f, x, 2)\n",
        "display(\"Первая производная:\")\n",
        "display(first_derivative)\n",
        "display(\"Вторая производная:\")\n",
        "display(second_derivative)"
      ],
      "metadata": {
        "id": "DyegcR_nggg3",
        "colab": {
          "base_uri": "https://localhost:8080/",
          "height": 99
        },
        "outputId": "509359b4-6859-44f6-879c-04fb0cdb63ad"
      },
      "execution_count": null,
      "outputs": [
        {
          "output_type": "display_data",
          "data": {
            "text/plain": [
              "'Первая производная:'"
            ],
            "application/vnd.google.colaboratory.intrinsic+json": {
              "type": "string"
            }
          },
          "metadata": {}
        },
        {
          "output_type": "display_data",
          "data": {
            "text/plain": [
              "-2*x**3*sin(2*x) + 3*x**2*cos(2*x)"
            ],
            "text/latex": "$\\displaystyle - 2 x^{3} \\sin{\\left(2 x \\right)} + 3 x^{2} \\cos{\\left(2 x \\right)}$"
          },
          "metadata": {}
        },
        {
          "output_type": "display_data",
          "data": {
            "text/plain": [
              "'Вторая производная:'"
            ],
            "application/vnd.google.colaboratory.intrinsic+json": {
              "type": "string"
            }
          },
          "metadata": {}
        },
        {
          "output_type": "display_data",
          "data": {
            "text/plain": [
              "2*x*(-2*x**2*cos(2*x) - 6*x*sin(2*x) + 3*cos(2*x))"
            ],
            "text/latex": "$\\displaystyle 2 x \\left(- 2 x^{2} \\cos{\\left(2 x \\right)} - 6 x \\sin{\\left(2 x \\right)} + 3 \\cos{\\left(2 x \\right)}\\right)$"
          },
          "metadata": {}
        }
      ]
    },
    {
      "cell_type": "markdown",
      "source": [
        "2. Вычислите частные производные ∂f/∂x и ∂f/∂y для функции f(x, y) = ln(x² + y²).\n"
      ],
      "metadata": {
        "id": "8axZSSp2gbkc"
      }
    },
    {
      "cell_type": "code",
      "source": [
        "from sympy import ln, diff, symbols\n",
        "\n",
        "x, y = symbols('x y')\n",
        "f = ln(x**2 + y**2)\n",
        "\n",
        "df_dx = diff(f, x)\n",
        "df_dy = diff(f, y)\n",
        "\n",
        "display(df_dx)\n",
        "\n",
        "display(df_dy)"
      ],
      "metadata": {
        "id": "nYZ59XlOggwM",
        "colab": {
          "base_uri": "https://localhost:8080/",
          "height": 92
        },
        "outputId": "03695f12-3217-4bdb-c542-6151db0ca632"
      },
      "execution_count": null,
      "outputs": [
        {
          "output_type": "display_data",
          "data": {
            "text/plain": [
              "2*x/(x**2 + y**2)"
            ],
            "text/latex": "$\\displaystyle \\frac{2 x}{x^{2} + y^{2}}$"
          },
          "metadata": {}
        },
        {
          "output_type": "display_data",
          "data": {
            "text/plain": [
              "2*y/(x**2 + y**2)"
            ],
            "text/latex": "$\\displaystyle \\frac{2 y}{x^{2} + y^{2}}$"
          },
          "metadata": {}
        }
      ]
    },
    {
      "cell_type": "markdown",
      "source": [
        "3. Найдите неопределённый интеграл ∫ (2x² + 3√x - 1/x²) dx.\n"
      ],
      "metadata": {
        "id": "HzRBN-xcgc7K"
      }
    },
    {
      "cell_type": "code",
      "source": [
        "from sympy import integrate, sqrt, symbols\n",
        "\n",
        "x = symbols('x')\n",
        "integral = integrate(2*x**2 + 3*sqrt(x) - 1/x**2, x)\n",
        "display(integral)"
      ],
      "metadata": {
        "id": "K5dKJWxqghS_",
        "colab": {
          "base_uri": "https://localhost:8080/",
          "height": 54
        },
        "outputId": "6a8d2199-35bc-427c-b6b5-7fe62408ab00"
      },
      "execution_count": null,
      "outputs": [
        {
          "output_type": "display_data",
          "data": {
            "text/plain": [
              "2*x**(3/2) + 2*x**3/3 + 1/x"
            ],
            "text/latex": "$\\displaystyle 2 x^{\\frac{3}{2}} + \\frac{2 x^{3}}{3} + \\frac{1}{x}$"
          },
          "metadata": {}
        }
      ]
    },
    {
      "cell_type": "markdown",
      "source": [
        "4. Вычислите определённый интеграл ∫[0,1] x²e^x dx.\n"
      ],
      "metadata": {
        "id": "wG_Gye7QgeFX"
      }
    },
    {
      "cell_type": "code",
      "source": [
        "from sympy import exp, integrate, symbols\n",
        "\n",
        "x = symbols('x')\n",
        "def_integral = integrate(x**2 * exp(x), (x, 0, 1))\n",
        "display(def_integral)"
      ],
      "metadata": {
        "id": "uQ5DNPQaghgQ",
        "colab": {
          "base_uri": "https://localhost:8080/",
          "height": 39
        },
        "outputId": "02a2bfa1-ee96-44cc-dc34-a269bb443cb3"
      },
      "execution_count": null,
      "outputs": [
        {
          "output_type": "display_data",
          "data": {
            "text/plain": [
              "-2 + E"
            ],
            "text/latex": "$\\displaystyle -2 + e$"
          },
          "metadata": {}
        }
      ]
    },
    {
      "cell_type": "markdown",
      "source": [
        "\n",
        "\n",
        "\n",
        "\n",
        "5. Найдите предел lim[x→0] (tan(x) - x)/(x³)."
      ],
      "metadata": {
        "id": "z7kdKQRvgaPg"
      }
    },
    {
      "cell_type": "code",
      "source": [],
      "metadata": {
        "id": "nYQnvhaIghsm"
      },
      "execution_count": null,
      "outputs": []
    },
    {
      "cell_type": "markdown",
      "source": [
        "## **Раздел 4. Работа с матрицами**\n",
        "\n"
      ],
      "metadata": {
        "id": "3NA33Z_RYrXk"
      }
    },
    {
      "cell_type": "markdown",
      "source": [
        "1. Создайте символьную матрицу M размером 3×3, где элемент m_ij = i² + j²."
      ],
      "metadata": {
        "id": "XmGFER9Egmu4"
      }
    },
    {
      "cell_type": "code",
      "source": [
        "from sympy import Matrix\n",
        "\n",
        "i, j = symbols('i j')\n",
        "M = Matrix(3, 3, lambda i, j: (i+1)**2 + (j+1)**2)\n",
        "display(M)"
      ],
      "metadata": {
        "id": "gBp1o570gvDf",
        "colab": {
          "base_uri": "https://localhost:8080/",
          "height": 78
        },
        "outputId": "38fb0c5b-ae04-40f2-9268-685c389cda33"
      },
      "execution_count": null,
      "outputs": [
        {
          "output_type": "display_data",
          "data": {
            "text/plain": [
              "Matrix([\n",
              "[ 2,  5, 10],\n",
              "[ 5,  8, 13],\n",
              "[10, 13, 18]])"
            ],
            "text/latex": "$\\displaystyle \\left[\\begin{matrix}2 & 5 & 10\\\\5 & 8 & 13\\\\10 & 13 & 18\\end{matrix}\\right]$"
          },
          "metadata": {}
        }
      ]
    },
    {
      "cell_type": "markdown",
      "source": [
        "2. Для матрицы M найдите:\n",
        "   - Детерминант\n",
        "   - Обратную матрицу M^(-1)\n",
        "   - Собственные значения"
      ],
      "metadata": {
        "id": "CXIv7K-ygnKe"
      }
    },
    {
      "cell_type": "code",
      "source": [
        "det_M = M.det()\n",
        "inv_M = M.pinv()\n",
        "eigenvalues = M.eigenvals()\n",
        "display(det_M)\n",
        "display(inv_M)\n",
        "display(eigenvalues)"
      ],
      "metadata": {
        "id": "8wWPSBUvgvUu",
        "colab": {
          "base_uri": "https://localhost:8080/",
          "height": 116
        },
        "outputId": "0a55cfff-773b-4b9f-e2aa-14bb8b7ee126"
      },
      "execution_count": null,
      "outputs": [
        {
          "output_type": "display_data",
          "data": {
            "text/plain": [
              "0"
            ],
            "text/latex": "$\\displaystyle 0$"
          },
          "metadata": {}
        },
        {
          "output_type": "display_data",
          "data": {
            "text/plain": [
              "Matrix([\n",
              "[-66/343, -45/686,  50/343],\n",
              "[-45/686,  -6/343,  43/686],\n",
              "[ 50/343,  43/686, -26/343]])"
            ],
            "text/latex": "$\\displaystyle \\left[\\begin{matrix}- \\frac{66}{343} & - \\frac{45}{686} & \\frac{50}{343}\\\\- \\frac{45}{686} & - \\frac{6}{343} & \\frac{43}{686}\\\\\\frac{50}{343} & \\frac{43}{686} & - \\frac{26}{343}\\end{matrix}\\right]$"
          },
          "metadata": {}
        },
        {
          "output_type": "display_data",
          "data": {
            "text/plain": [
              "{14 - 7*sqrt(6): 1, 14 + 7*sqrt(6): 1, 0: 1}"
            ]
          },
          "metadata": {}
        }
      ]
    },
    {
      "cell_type": "markdown",
      "source": [
        "3. Пусть символьная матрица P = [[p, q], [r, s]]. Выразите условие, при котором P² = I, где I — единичная матрица."
      ],
      "metadata": {
        "id": "5gy4gRCugpIc"
      }
    },
    {
      "cell_type": "code",
      "source": [
        "p, q, r, s = symbols('p q r s')\n",
        "P = Matrix([[p, q], [r, s]])\n",
        "I = Matrix.eye(2)\n",
        "condition = Eq(P**2, I)\n",
        "solutions = solve(condition, (p, q, r, s))\n",
        "display(solutions)"
      ],
      "metadata": {
        "id": "XisNPl1-gvtc",
        "colab": {
          "base_uri": "https://localhost:8080/",
          "height": 104
        },
        "outputId": "77c2ed96-44b1-4e19-ee59-2c997bae96f7"
      },
      "execution_count": null,
      "outputs": [
        {
          "output_type": "display_data",
          "data": {
            "text/plain": [
              "[(-s, (1 - s**2)/r, r, s),\n",
              " (-1, 0, 0, -1),\n",
              " (-1, 0, 0, 1),\n",
              " (1, 0, 0, -1),\n",
              " (1, 0, 0, 1)]"
            ]
          },
          "metadata": {}
        }
      ]
    },
    {
      "cell_type": "markdown",
      "source": [
        "4. Решите матричное уравнение XA = B, где A = [[3, 1], [2, 1]], B = [[5, 2], [3, 1]]."
      ],
      "metadata": {
        "id": "CbGpTNnvgqrH"
      }
    },
    {
      "cell_type": "code",
      "source": [
        "A = Matrix([[3, 1], [2, 1]])\n",
        "B = Matrix([[5, 2], [3, 1]])\n",
        "X = B * A.inv()\n",
        "display(X)"
      ],
      "metadata": {
        "id": "7E-blNu3gwF2",
        "colab": {
          "base_uri": "https://localhost:8080/",
          "height": 58
        },
        "outputId": "482325ba-84f7-4d74-de94-1d37f73f9c53"
      },
      "execution_count": null,
      "outputs": [
        {
          "output_type": "display_data",
          "data": {
            "text/plain": [
              "Matrix([\n",
              "[1, 1],\n",
              "[1, 0]])"
            ],
            "text/latex": "$\\displaystyle \\left[\\begin{matrix}1 & 1\\\\1 & 0\\end{matrix}\\right]$"
          },
          "metadata": {}
        }
      ]
    },
    {
      "cell_type": "markdown",
      "source": [
        "\n",
        "\n",
        "\n",
        "\n",
        "\n",
        "\n",
        "\n",
        "\n",
        "5. Для матрицы D = [[a, b, 0], [0, a, b], [b, 0, a]] найдите значения переменных a и b, при которых det(D) = 0."
      ],
      "metadata": {
        "id": "lTBAvXSwglNN"
      }
    },
    {
      "cell_type": "code",
      "source": [],
      "metadata": {
        "id": "tue8qCdjgwSI"
      },
      "execution_count": null,
      "outputs": []
    },
    {
      "cell_type": "markdown",
      "source": [
        "## **Раздел 5. Дифференциальные уравнения**\n"
      ],
      "metadata": {
        "id": "RDPFpwdHgy0C"
      }
    },
    {
      "cell_type": "markdown",
      "source": [
        "1. Решите дифференциальное уравнение y' = 2xy с начальным условием y(0) = 3.\n"
      ],
      "metadata": {
        "id": "NN25nVvWgz2U"
      }
    },
    {
      "cell_type": "code",
      "source": [
        "from sympy import Function, dsolve\n",
        "x = symbols('x')\n",
        "y = Function('y')\n",
        "sol = dsolve(y(x).diff(x) - 2*x*y(x), y(x), y0=[(y(0), 3)])\n",
        "display(sol)"
      ],
      "metadata": {
        "id": "4rcbsokWg_FO",
        "colab": {
          "base_uri": "https://localhost:8080/",
          "height": 41
        },
        "outputId": "3206f61d-586d-4e6d-bdb0-fab56eab4048"
      },
      "execution_count": null,
      "outputs": [
        {
          "output_type": "display_data",
          "data": {
            "text/plain": [
              "Eq(y(x), C1*exp(x**2))"
            ],
            "text/latex": "$\\displaystyle y{\\left(x \\right)} = C_{1} e^{x^{2}}$"
          },
          "metadata": {}
        }
      ]
    },
    {
      "cell_type": "markdown",
      "source": [
        "2. Найдите общее решение дифференциального уравнения y'' + y' - 6y = 0.\n"
      ],
      "metadata": {
        "id": "-3tnFxDZg26b"
      }
    },
    {
      "cell_type": "code",
      "source": [
        "sol = dsolve(y(x).diff(x, 2) + y(x).diff(x) - 6*y(x), y(x))\n",
        "display(sol)"
      ],
      "metadata": {
        "id": "_XMlf3iCg_dH",
        "colab": {
          "base_uri": "https://localhost:8080/",
          "height": 39
        },
        "outputId": "7f5c3998-00d2-4ceb-f4df-4287233f6de4"
      },
      "execution_count": null,
      "outputs": [
        {
          "output_type": "display_data",
          "data": {
            "text/plain": [
              "Eq(y(x), C1*exp(-3*x) + C2*exp(2*x))"
            ],
            "text/latex": "$\\displaystyle y{\\left(x \\right)} = C_{1} e^{- 3 x} + C_{2} e^{2 x}$"
          },
          "metadata": {}
        }
      ]
    },
    {
      "cell_type": "markdown",
      "source": [
        "3. Решите систему дифференциальных уравнений:\n",
        "   ```\n",
        "   x'(t) = x(t) + 2y(t)\n",
        "   y'(t) = 2x(t) + y(t)\n",
        "   ```\n",
        "   с начальными условиями x(0) = 1, y(0) = 0."
      ],
      "metadata": {
        "id": "Rwaq4DtTg4Oy"
      }
    },
    {
      "cell_type": "code",
      "source": [],
      "metadata": {
        "id": "6f5qVT6pg_qQ"
      },
      "execution_count": null,
      "outputs": []
    },
    {
      "cell_type": "markdown",
      "source": [
        "4. Решите дифференциальное уравнение y' + y = e^x с начальным условием y(0) = 1.\n"
      ],
      "metadata": {
        "id": "oGQPnFVeg6Fq"
      }
    },
    {
      "cell_type": "code",
      "source": [
        "x = symbols('x')\n",
        "y = Function('y')\n",
        "sol = dsolve(y(x).diff(x) + y(x) - exp(x), y(x), y0=[(y(0), 1)])\n",
        "display(sol)"
      ],
      "metadata": {
        "id": "91DnenmkhACt",
        "colab": {
          "base_uri": "https://localhost:8080/",
          "height": 51
        },
        "outputId": "1d2f8a67-9d35-4690-fbe1-e5f79b5a1e5a"
      },
      "execution_count": null,
      "outputs": [
        {
          "output_type": "display_data",
          "data": {
            "text/plain": [
              "Eq(y(x), C1*exp(-x) + exp(x)/2)"
            ],
            "text/latex": "$\\displaystyle y{\\left(x \\right)} = C_{1} e^{- x} + \\frac{e^{x}}{2}$"
          },
          "metadata": {}
        }
      ]
    },
    {
      "cell_type": "markdown",
      "source": [
        "\n",
        "\n",
        "5. Найдите частное решение неоднородного дифференциального уравнения y'' - y = 2sin(x) при условиях y(0) = 0, y'(0) = 1."
      ],
      "metadata": {
        "id": "IKr_twfSfx5o"
      }
    },
    {
      "cell_type": "code",
      "source": [
        "x = symbols('x')\n",
        "y = Function('y')\n",
        "sol = dsolve(y(x).diff(x, 2) - y(x) - 2*sin(x), y(x), y0=[(y(0), 0), (y(x).diff(x).subs(x, 0), 1)])\n",
        "display(sol)"
      ],
      "metadata": {
        "id": "D-C0D5S4hANw",
        "colab": {
          "base_uri": "https://localhost:8080/",
          "height": 39
        },
        "outputId": "814b954f-9c74-4fc1-9fa0-f102e04b053d"
      },
      "execution_count": null,
      "outputs": [
        {
          "output_type": "display_data",
          "data": {
            "text/plain": [
              "Eq(y(x), C1*exp(-x) + C2*exp(x) - sin(x))"
            ],
            "text/latex": "$\\displaystyle y{\\left(x \\right)} = C_{1} e^{- x} + C_{2} e^{x} - \\sin{\\left(x \\right)}$"
          },
          "metadata": {}
        }
      ]
    }
  ]
}