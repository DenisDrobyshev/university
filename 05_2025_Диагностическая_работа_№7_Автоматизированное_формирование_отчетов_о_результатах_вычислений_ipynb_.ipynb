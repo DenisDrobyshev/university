{
  "nbformat": 4,
  "nbformat_minor": 0,
  "metadata": {
    "colab": {
      "provenance": []
    },
    "kernelspec": {
      "name": "python3",
      "display_name": "Python 3"
    },
    "language_info": {
      "name": "python"
    }
  },
  "cells": [
    {
      "cell_type": "markdown",
      "metadata": {
        "id": "17c1d9e8"
      },
      "source": [
        "# **Диагностическая работа №7. Автоматизированное формирование отчетов о результатах вычислений**"
      ]
    },
    {
      "cell_type": "markdown",
      "source": [
        "## **Задание №1. Создание простого Markdown-документа**\n"
      ],
      "metadata": {
        "id": "C40yAEQAiduD"
      }
    },
    {
      "cell_type": "markdown",
      "source": [
        "\n",
        "Создайте Markdown-документ, содержащий:\n",
        "- Заголовок первого уровня \"Анализ данных о погоде\"\n",
        "- Подзаголовок второго уровня \"Введение\"\n",
        "- Краткое описание (2-3 предложения) о важности анализа погодных данных\n",
        "- Нумерованный список с тремя основными параметрами погоды, которые будут анализироваться\n"
      ],
      "metadata": {
        "id": "DHghZr7ChsHS"
      }
    },
    {
      "cell_type": "code",
      "execution_count": null,
      "metadata": {
        "vscode": {
          "languageId": "plaintext"
        },
        "id": "tdo8dbPSig4F",
        "outputId": "baabf59a-023d-46e1-f8b0-eca99e6b5bb1",
        "colab": {
          "base_uri": "https://localhost:8080/"
        }
      },
      "outputs": [
        {
          "output_type": "stream",
          "name": "stdout",
          "text": [
            "# Анализ данных о погоде\n",
            "\n",
            "## Введение\n",
            "Анализ погодных данных важен для прогнозирования климатических условий, планирования сельскохозяйственных работ и предупреждения неблагоприятных явлений. Он позволяет принимать обоснованные решения в различных областях.\n",
            "\n",
            "1. Температура воздуха  \n",
            "2. Атмосферное давление  \n",
            "3. Уровень осадков\n"
          ]
        }
      ],
      "source": [
        "md_report = \"\"\"# Анализ данных о погоде\n",
        "\n",
        "## Введение\n",
        "Анализ погодных данных важен для прогнозирования климатических условий, планирования сельскохозяйственных работ и предупреждения неблагоприятных явлений. Он позволяет принимать обоснованные решения в различных областях.\n",
        "\n",
        "1. Температура воздуха\n",
        "2. Атмосферное давление\n",
        "3. Уровень осадков\"\"\"\n",
        "\n",
        "print(md_report)"
      ]
    },
    {
      "cell_type": "markdown",
      "source": [
        "## **Задание №2. Добавление математических выражений**\n"
      ],
      "metadata": {
        "id": "CjUWJdVsiZ04"
      }
    },
    {
      "cell_type": "markdown",
      "source": [
        "\n",
        "Дополните Markdown-документ из задания 1:\n",
        "- Добавьте подзаголовок \"Расчет средних показателей\"\n",
        "- Напишите в LaTeX-формате формулу среднего арифметического: $\\bar{x} = \\frac{1}{n}\\sum_{i=1}^{n} x_i$\n",
        "- Добавьте краткое пояснение, для чего используется эта формула\n",
        "\n"
      ],
      "metadata": {
        "id": "66Tgh3KyiXoh"
      }
    },
    {
      "cell_type": "code",
      "execution_count": null,
      "metadata": {
        "vscode": {
          "languageId": "plaintext"
        },
        "id": "JLjZYa_aigka",
        "outputId": "9b86f167-adf7-4f12-ead7-3ca3a6aba049",
        "colab": {
          "base_uri": "https://localhost:8080/"
        }
      },
      "outputs": [
        {
          "output_type": "stream",
          "name": "stdout",
          "text": [
            "# Анализ данных о погоде\n",
            "\n",
            "## Введение\n",
            "Анализ погодных данных важен для прогнозирования климатических условий, планирования сельскохозяйственных работ и предупреждения неблагоприятных явлений. Он позволяет принимать обоснованные решения в различных областях.\n",
            "\n",
            "1. Температура воздуха  \n",
            "2. Атмосферное давление  \n",
            "3. Уровень осадков\n",
            "\n",
            "## Расчет средних показателей\n",
            "Для анализа погодных данных часто используется формула **среднего арифметического**, которая выглядит следующим образом:\n",
            "\n",
            "$$\n",
            "\\bar{x} = \\frac{1}{n} \\sum_{i=1}^{n} x_i\n",
            "$$\n",
            "\n",
            "Эта формула применяется для определения средних значений температуры, давления или других параметров за определённый период.\n"
          ]
        }
      ],
      "source": [
        "md_report += \"\"\"\n",
        "\n",
        "## Расчет средних показателей\n",
        "Для анализа погодных данных часто используется формула **среднего арифметического**, которая выглядит следующим образом:\n",
        "\n",
        "$$\n",
        "\\\\bar{x} = \\\\frac{1}{n} \\\\sum_{i=1}^{n} x_i\n",
        "$$\n",
        "\n",
        "Эта формула применяется для определения средних значений температуры, давления или других параметров за определённый период.\"\"\"\n",
        "\n",
        "print(md_report)"
      ]
    },
    {
      "cell_type": "markdown",
      "source": [
        "## **Задание №3. Использование Python для генерации данных**\n"
      ],
      "metadata": {
        "id": "Bj05DG8IiVkO"
      }
    },
    {
      "cell_type": "markdown",
      "source": [
        "\n",
        "Напишите небольшой Python-скрипт, который:\n",
        "- Генерирует данные о температуре воздуха за 5 дней (случайные значения)\n",
        "- Создает Markdown-таблицу с колонками \"День\", \"Температура (°C)\", \"Состояние\"\n",
        "- Состояние определяется по температуре: \"Холодно\" (<10°C), \"Умеренно\" (10-20°C), \"Тепло\" (>20°C)\n",
        "\n"
      ],
      "metadata": {
        "id": "hHKC_oYYiTYg"
      }
    },
    {
      "cell_type": "code",
      "execution_count": null,
      "metadata": {
        "vscode": {
          "languageId": "plaintext"
        },
        "id": "Dczkmz5WigPy",
        "outputId": "0fa969d4-d00e-4016-d9fa-b843c183c2bf",
        "colab": {
          "base_uri": "https://localhost:8080/"
        }
      },
      "outputs": [
        {
          "output_type": "stream",
          "name": "stdout",
          "text": [
            "# Анализ данных о погоде\n",
            "\n",
            "## Введение\n",
            "Анализ погодных данных важен для прогнозирования климатических условий, планирования сельскохозяйственных работ и предупреждения неблагоприятных явлений. Он позволяет принимать обоснованные решения в различных областях.\n",
            "\n",
            "1. Температура воздуха  \n",
            "2. Атмосферное давление  \n",
            "3. Уровень осадков\n",
            "\n",
            "## Расчет средних показателей\n",
            "Для анализа погодных данных часто используется формула **среднего арифметического**, которая выглядит следующим образом:\n",
            "\n",
            "$$\n",
            "\\bar{x} = \\frac{1}{n} \\sum_{i=1}^{n} x_i\n",
            "$$\n",
            "\n",
            "Эта формула применяется для определения средних значений температуры, давления или других параметров за определённый период.\n",
            "\n",
            "## Данные о температуре за 5 дней\n",
            "| День        |   Температура (°C) | Состояние   |\n",
            "|:------------|-------------------:|:------------|\n",
            "| Понедельник |                 25 | Тепло       |\n",
            "| Вторник     |                  5 | Холодно     |\n",
            "| Среда       |                 15 | Умеренно    |\n",
            "| Четверг     |                 25 | Тепло       |\n",
            "| Пятница     |                 19 | Умеренно    |\n"
          ]
        }
      ],
      "source": [
        "import random\n",
        "from tabulate import tabulate\n",
        "\n",
        "days = [\"Понедельник\", \"Вторник\", \"Среда\", \"Четверг\", \"Пятница\"]\n",
        "temps = [random.randint(0, 30) for _ in days]\n",
        "\n",
        "def get_condition(temp):\n",
        "    if temp < 10:\n",
        "        return \"Холодно\"\n",
        "    elif 10 <= temp <= 20:\n",
        "        return \"Умеренно\"\n",
        "    else:\n",
        "        return \"Тепло\"\n",
        "\n",
        "conditions = [get_condition(t) for t in temps]\n",
        "\n",
        "table = [[day, temp, cond] for day, temp, cond in zip(days, temps, conditions)]\n",
        "table_md = tabulate(table, headers=[\"День\", \"Температура (°C)\", \"Состояние\"], tablefmt=\"pipe\")\n",
        "\n",
        "md_report += f\"\\n\\n## Данные о температуре за 5 дней\\n{table_md}\"\n",
        "\n",
        "print(md_report)"
      ]
    },
    {
      "cell_type": "markdown",
      "source": [
        "## **Задание №4. Мини-отчет с визуализацией**\n"
      ],
      "metadata": {
        "id": "rU_rAOGhiSBr"
      }
    },
    {
      "cell_type": "markdown",
      "source": [
        "\n",
        "Создайте Python-скрипт, который:\n",
        "- Генерирует данные о температуре и влажности за неделю (7 дней)\n",
        "- Вычисляет среднюю температуру и среднюю влажность\n",
        "- Формирует отчет в формате Markdown с таблицей данных и вычисленными средними значениями\n",
        "- Добавляет в отчет столбчатую диаграмму с показателями температуры по дням недели"
      ],
      "metadata": {
        "id": "9OPcKAMXiQT9"
      }
    },
    {
      "cell_type": "code",
      "execution_count": null,
      "metadata": {
        "vscode": {
          "languageId": "plaintext"
        },
        "id": "6d3300c8",
        "outputId": "29728011-9a39-4246-b9ba-16376bcb24a7",
        "colab": {
          "base_uri": "https://localhost:8080/"
        }
      },
      "outputs": [
        {
          "output_type": "stream",
          "name": "stdout",
          "text": [
            "# Анализ данных о погоде\n",
            "\n",
            "## Введение\n",
            "Анализ погодных данных важен для прогнозирования климатических условий, планирования сельскохозяйственных работ и предупреждения неблагоприятных явлений. Он позволяет принимать обоснованные решения в различных областях.\n",
            "\n",
            "1. Температура воздуха  \n",
            "2. Атмосферное давление  \n",
            "3. Уровень осадков\n",
            "\n",
            "## Расчет средних показателей\n",
            "Для анализа погодных данных часто используется формула **среднего арифметического**, которая выглядит следующим образом:\n",
            "\n",
            "$$\n",
            "\\bar{x} = \\frac{1}{n} \\sum_{i=1}^{n} x_i\n",
            "$$\n",
            "\n",
            "Эта формула применяется для определения средних значений температуры, давления или других параметров за определённый период.\n",
            "\n",
            "## Данные о температуре за 5 дней\n",
            "| День        |   Температура (°C) | Состояние   |\n",
            "|:------------|-------------------:|:------------|\n",
            "| Понедельник |                 25 | Тепло       |\n",
            "| Вторник     |                  5 | Холодно     |\n",
            "| Среда       |                 15 | Умеренно    |\n",
            "| Четверг     |                 25 | Тепло       |\n",
            "| Пятница     |                 19 | Умеренно    |\n",
            "## Отчет за неделю\n",
            "\n",
            "### Средние значения\n",
            "- Средняя температура: 15.6 °C  \n",
            "- Средняя влажность: 56.0 %\n",
            "\n",
            "### Ежедневные данные\n",
            "| День   |   Температура (°C) |   Влажность (%) |\n",
            "|:-------|-------------------:|----------------:|\n",
            "| Пн     |                 10 |              72 |\n",
            "| Вт     |                 13 |              51 |\n",
            "| Ср     |                 25 |              45 |\n",
            "| Чт     |                 24 |              52 |\n",
            "| Пт     |                 11 |              50 |\n",
            "| Сб     |                 16 |              50 |\n",
            "| Вс     |                 10 |              72 |\n",
            "\n",
            "\n",
            "![Температура](data:image/png;base64,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)\n"
          ]
        }
      ],
      "source": [
        "import matplotlib.pyplot as plt\n",
        "import numpy as np\n",
        "from io import BytesIO\n",
        "import base64\n",
        "\n",
        "days = ['Пн', 'Вт', 'Ср', 'Чт', 'Пт', 'Сб', 'Вс']\n",
        "temps = [random.randint(10, 25) for _ in days]\n",
        "humidity = [random.randint(40, 90) for _ in days]\n",
        "\n",
        "avg_temp = round(np.mean(temps), 1)\n",
        "avg_hum = round(np.mean(humidity), 1)\n",
        "\n",
        "data_table = [[day, temp, hum] for day, temp, hum in zip(days, temps, humidity)]\n",
        "data_table_md = tabulate(data_table, headers=[\"День\", \"Температура (°C)\", \"Влажность (%)\"], tablefmt=\"pipe\")\n",
        "\n",
        "md_report += f\"\"\"\n",
        "## Отчет за неделю\n",
        "\n",
        "### Средние значения\n",
        "- Средняя температура: {avg_temp} °C\n",
        "- Средняя влажность: {avg_hum} %\n",
        "\n",
        "### Ежедневные данные\n",
        "{data_table_md}\n",
        "\"\"\"\n",
        "\n",
        "plt.figure(figsize=(8, 4))\n",
        "plt.bar(days, temps, color='skyblue')\n",
        "plt.title('Температура по дням недели')\n",
        "plt.xlabel('День')\n",
        "plt.ylabel('Температура (°C)')\n",
        "plt.grid(True, linestyle='--', alpha=0.5)\n",
        "\n",
        "buf = BytesIO()\n",
        "plt.savefig(buf, format='png')\n",
        "plt.close()\n",
        "buf.seek(0)\n",
        "img_str = base64.b64encode(buf.read()).decode('utf-8')\n",
        "buf.close()\n",
        "md_report += f'\\n\\n![Температура](data:image/png;base64,{img_str})'\n",
        "print(md_report)\n",
        "\n",
        "with open(\"weather_report.md\", \"w\", encoding=\"utf-8\") as f:\n",
        "    f.write(md_report)"
      ]
    }
  ]
}